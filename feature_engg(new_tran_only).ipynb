{
  "nbformat": 4,
  "nbformat_minor": 0,
  "metadata": {
    "colab": {
      "name": "feature_engg(new_tran_only).ipynb",
      "provenance": []
    },
    "kernelspec": {
      "name": "python3",
      "display_name": "Python 3"
    },
    "language_info": {
      "name": "python"
    }
  },
  "cells": [
    {
      "cell_type": "code",
      "execution_count": 1,
      "metadata": {
        "colab": {
          "base_uri": "https://localhost:8080/"
        },
        "id": "A8OW6DbKN_AW",
        "outputId": "5eedcfa7-82a8-45d3-9c1f-b63b2afabacc"
      },
      "outputs": [
        {
          "output_type": "stream",
          "name": "stdout",
          "text": [
            "Looking in indexes: https://pypi.org/simple, https://us-python.pkg.dev/colab-wheels/public/simple/\n",
            "Requirement already satisfied: kaggle in /usr/local/lib/python3.7/dist-packages (1.5.12)\n",
            "Requirement already satisfied: six>=1.10 in /usr/local/lib/python3.7/dist-packages (from kaggle) (1.15.0)\n",
            "Requirement already satisfied: requests in /usr/local/lib/python3.7/dist-packages (from kaggle) (2.23.0)\n",
            "Requirement already satisfied: certifi in /usr/local/lib/python3.7/dist-packages (from kaggle) (2022.6.15)\n",
            "Requirement already satisfied: python-dateutil in /usr/local/lib/python3.7/dist-packages (from kaggle) (2.8.2)\n",
            "Requirement already satisfied: urllib3 in /usr/local/lib/python3.7/dist-packages (from kaggle) (1.24.3)\n",
            "Requirement already satisfied: tqdm in /usr/local/lib/python3.7/dist-packages (from kaggle) (4.64.0)\n",
            "Requirement already satisfied: python-slugify in /usr/local/lib/python3.7/dist-packages (from kaggle) (6.1.2)\n",
            "Requirement already satisfied: text-unidecode>=1.3 in /usr/local/lib/python3.7/dist-packages (from python-slugify->kaggle) (1.3)\n",
            "Requirement already satisfied: chardet<4,>=3.0.2 in /usr/local/lib/python3.7/dist-packages (from requests->kaggle) (3.0.4)\n",
            "Requirement already satisfied: idna<3,>=2.5 in /usr/local/lib/python3.7/dist-packages (from requests->kaggle) (2.10)\n"
          ]
        }
      ],
      "source": [
        "!pip install kaggle"
      ]
    },
    {
      "cell_type": "code",
      "execution_count": 2,
      "metadata": {
        "id": "5ZSTba8sObNL"
      },
      "outputs": [],
      "source": [
        "from sklearn.datasets import load_diabetes\n",
        "from sklearn.model_selection import cross_val_score\n",
        "from sklearn.tree import DecisionTreeRegressor"
      ]
    },
    {
      "cell_type": "code",
      "execution_count": 3,
      "metadata": {
        "id": "Q-jTAkjIOcwT"
      },
      "outputs": [],
      "source": [
        "# The Kaggle API client expects this file to be in ~/.kaggle,\n",
        "# so move it there.\n",
        "!mkdir -p ~/.kaggle\n",
        "!cp kaggle.json ~/.kaggle/\n",
        "# This permissions change avoids a warning on Kaggle tool startup.\n",
        "!chmod 600 ~/.kaggle/kaggle.json"
      ]
    },
    {
      "cell_type": "code",
      "execution_count": 4,
      "metadata": {
        "colab": {
          "base_uri": "https://localhost:8080/"
        },
        "id": "wx52WrvoOeH8",
        "outputId": "4627b012-3437-439e-830f-09d1bbac3bbc"
      },
      "outputs": [
        {
          "output_type": "stream",
          "name": "stdout",
          "text": [
            "Downloading elo-merchant-category-recommendation.zip to /content\n",
            " 99% 608M/615M [00:05<00:00, 119MB/s]\n",
            "100% 615M/615M [00:05<00:00, 108MB/s]\n"
          ]
        }
      ],
      "source": [
        "!kaggle competitions download -c elo-merchant-category-recommendation"
      ]
    },
    {
      "cell_type": "code",
      "execution_count": 5,
      "metadata": {
        "id": "tLK3k5KcOfum"
      },
      "outputs": [],
      "source": [
        "!unzip -q elo-merchant-category-recommendation.zip -d dataset/"
      ]
    },
    {
      "cell_type": "code",
      "execution_count": 6,
      "metadata": {
        "id": "v-W8SFerOhxn"
      },
      "outputs": [],
      "source": [
        "import pandas as pd\n",
        "import numpy as np\n",
        "import seaborn as sns\n",
        "import matplotlib.pyplot as plt\n",
        "%matplotlib inline\n",
        "pd.pandas.set_option('display.max_columns',None)"
      ]
    },
    {
      "cell_type": "code",
      "execution_count": 7,
      "metadata": {
        "id": "ox22QajSOjyW",
        "colab": {
          "base_uri": "https://localhost:8080/",
          "height": 268
        },
        "outputId": "c44d3826-3b0d-4b98-975e-09bfca2ab1ca"
      },
      "outputs": [
        {
          "output_type": "execute_result",
          "data": {
            "text/plain": [
              "       merchant_id  merchant_group_id  merchant_category_id  subsector_id  \\\n",
              "0  M_ID_838061e48c               8353                   792             9   \n",
              "1  M_ID_9339d880ad               3184                   840            20   \n",
              "2  M_ID_e726bbae1e                447                   690             1   \n",
              "3  M_ID_a70e9c5f81               5026                   792             9   \n",
              "4  M_ID_64456c37ce               2228                   222            21   \n",
              "\n",
              "   numerical_1  numerical_2 category_1 most_recent_sales_range  \\\n",
              "0    -0.057471    -0.057471          N                       E   \n",
              "1    -0.057471    -0.057471          N                       E   \n",
              "2    -0.057471    -0.057471          N                       E   \n",
              "3    -0.057471    -0.057471          Y                       E   \n",
              "4    -0.057471    -0.057471          Y                       E   \n",
              "\n",
              "  most_recent_purchases_range  avg_sales_lag3  avg_purchases_lag3  \\\n",
              "0                           E           -0.40            9.666667   \n",
              "1                           E           -0.72            1.750000   \n",
              "2                           E          -82.13          260.000000   \n",
              "3                           E             NaN            1.666667   \n",
              "4                           E             NaN            0.500000   \n",
              "\n",
              "   active_months_lag3  avg_sales_lag6  avg_purchases_lag6  active_months_lag6  \\\n",
              "0                   3           -2.25           18.666667                   6   \n",
              "1                   3           -0.74            1.291667                   6   \n",
              "2                   2          -82.13          260.000000                   2   \n",
              "3                   3             NaN            4.666667                   6   \n",
              "4                   3             NaN            0.361111                   6   \n",
              "\n",
              "   avg_sales_lag12  avg_purchases_lag12  active_months_lag12 category_4  \\\n",
              "0            -2.32            13.916667                   12          N   \n",
              "1            -0.57             1.687500                   12          N   \n",
              "2           -82.13           260.000000                    2          N   \n",
              "3              NaN             3.833333                   12          Y   \n",
              "4              NaN             0.347222                   12          Y   \n",
              "\n",
              "   city_id  state_id  category_2  \n",
              "0      242         9         1.0  \n",
              "1       22        16         1.0  \n",
              "2       -1         5         5.0  \n",
              "3       -1        -1         NaN  \n",
              "4       -1        -1         NaN  "
            ],
            "text/html": [
              "\n",
              "  <div id=\"df-8a9ce91f-8b94-4e7b-b2d1-dce054561a3c\">\n",
              "    <div class=\"colab-df-container\">\n",
              "      <div>\n",
              "<style scoped>\n",
              "    .dataframe tbody tr th:only-of-type {\n",
              "        vertical-align: middle;\n",
              "    }\n",
              "\n",
              "    .dataframe tbody tr th {\n",
              "        vertical-align: top;\n",
              "    }\n",
              "\n",
              "    .dataframe thead th {\n",
              "        text-align: right;\n",
              "    }\n",
              "</style>\n",
              "<table border=\"1\" class=\"dataframe\">\n",
              "  <thead>\n",
              "    <tr style=\"text-align: right;\">\n",
              "      <th></th>\n",
              "      <th>merchant_id</th>\n",
              "      <th>merchant_group_id</th>\n",
              "      <th>merchant_category_id</th>\n",
              "      <th>subsector_id</th>\n",
              "      <th>numerical_1</th>\n",
              "      <th>numerical_2</th>\n",
              "      <th>category_1</th>\n",
              "      <th>most_recent_sales_range</th>\n",
              "      <th>most_recent_purchases_range</th>\n",
              "      <th>avg_sales_lag3</th>\n",
              "      <th>avg_purchases_lag3</th>\n",
              "      <th>active_months_lag3</th>\n",
              "      <th>avg_sales_lag6</th>\n",
              "      <th>avg_purchases_lag6</th>\n",
              "      <th>active_months_lag6</th>\n",
              "      <th>avg_sales_lag12</th>\n",
              "      <th>avg_purchases_lag12</th>\n",
              "      <th>active_months_lag12</th>\n",
              "      <th>category_4</th>\n",
              "      <th>city_id</th>\n",
              "      <th>state_id</th>\n",
              "      <th>category_2</th>\n",
              "    </tr>\n",
              "  </thead>\n",
              "  <tbody>\n",
              "    <tr>\n",
              "      <th>0</th>\n",
              "      <td>M_ID_838061e48c</td>\n",
              "      <td>8353</td>\n",
              "      <td>792</td>\n",
              "      <td>9</td>\n",
              "      <td>-0.057471</td>\n",
              "      <td>-0.057471</td>\n",
              "      <td>N</td>\n",
              "      <td>E</td>\n",
              "      <td>E</td>\n",
              "      <td>-0.40</td>\n",
              "      <td>9.666667</td>\n",
              "      <td>3</td>\n",
              "      <td>-2.25</td>\n",
              "      <td>18.666667</td>\n",
              "      <td>6</td>\n",
              "      <td>-2.32</td>\n",
              "      <td>13.916667</td>\n",
              "      <td>12</td>\n",
              "      <td>N</td>\n",
              "      <td>242</td>\n",
              "      <td>9</td>\n",
              "      <td>1.0</td>\n",
              "    </tr>\n",
              "    <tr>\n",
              "      <th>1</th>\n",
              "      <td>M_ID_9339d880ad</td>\n",
              "      <td>3184</td>\n",
              "      <td>840</td>\n",
              "      <td>20</td>\n",
              "      <td>-0.057471</td>\n",
              "      <td>-0.057471</td>\n",
              "      <td>N</td>\n",
              "      <td>E</td>\n",
              "      <td>E</td>\n",
              "      <td>-0.72</td>\n",
              "      <td>1.750000</td>\n",
              "      <td>3</td>\n",
              "      <td>-0.74</td>\n",
              "      <td>1.291667</td>\n",
              "      <td>6</td>\n",
              "      <td>-0.57</td>\n",
              "      <td>1.687500</td>\n",
              "      <td>12</td>\n",
              "      <td>N</td>\n",
              "      <td>22</td>\n",
              "      <td>16</td>\n",
              "      <td>1.0</td>\n",
              "    </tr>\n",
              "    <tr>\n",
              "      <th>2</th>\n",
              "      <td>M_ID_e726bbae1e</td>\n",
              "      <td>447</td>\n",
              "      <td>690</td>\n",
              "      <td>1</td>\n",
              "      <td>-0.057471</td>\n",
              "      <td>-0.057471</td>\n",
              "      <td>N</td>\n",
              "      <td>E</td>\n",
              "      <td>E</td>\n",
              "      <td>-82.13</td>\n",
              "      <td>260.000000</td>\n",
              "      <td>2</td>\n",
              "      <td>-82.13</td>\n",
              "      <td>260.000000</td>\n",
              "      <td>2</td>\n",
              "      <td>-82.13</td>\n",
              "      <td>260.000000</td>\n",
              "      <td>2</td>\n",
              "      <td>N</td>\n",
              "      <td>-1</td>\n",
              "      <td>5</td>\n",
              "      <td>5.0</td>\n",
              "    </tr>\n",
              "    <tr>\n",
              "      <th>3</th>\n",
              "      <td>M_ID_a70e9c5f81</td>\n",
              "      <td>5026</td>\n",
              "      <td>792</td>\n",
              "      <td>9</td>\n",
              "      <td>-0.057471</td>\n",
              "      <td>-0.057471</td>\n",
              "      <td>Y</td>\n",
              "      <td>E</td>\n",
              "      <td>E</td>\n",
              "      <td>NaN</td>\n",
              "      <td>1.666667</td>\n",
              "      <td>3</td>\n",
              "      <td>NaN</td>\n",
              "      <td>4.666667</td>\n",
              "      <td>6</td>\n",
              "      <td>NaN</td>\n",
              "      <td>3.833333</td>\n",
              "      <td>12</td>\n",
              "      <td>Y</td>\n",
              "      <td>-1</td>\n",
              "      <td>-1</td>\n",
              "      <td>NaN</td>\n",
              "    </tr>\n",
              "    <tr>\n",
              "      <th>4</th>\n",
              "      <td>M_ID_64456c37ce</td>\n",
              "      <td>2228</td>\n",
              "      <td>222</td>\n",
              "      <td>21</td>\n",
              "      <td>-0.057471</td>\n",
              "      <td>-0.057471</td>\n",
              "      <td>Y</td>\n",
              "      <td>E</td>\n",
              "      <td>E</td>\n",
              "      <td>NaN</td>\n",
              "      <td>0.500000</td>\n",
              "      <td>3</td>\n",
              "      <td>NaN</td>\n",
              "      <td>0.361111</td>\n",
              "      <td>6</td>\n",
              "      <td>NaN</td>\n",
              "      <td>0.347222</td>\n",
              "      <td>12</td>\n",
              "      <td>Y</td>\n",
              "      <td>-1</td>\n",
              "      <td>-1</td>\n",
              "      <td>NaN</td>\n",
              "    </tr>\n",
              "  </tbody>\n",
              "</table>\n",
              "</div>\n",
              "      <button class=\"colab-df-convert\" onclick=\"convertToInteractive('df-8a9ce91f-8b94-4e7b-b2d1-dce054561a3c')\"\n",
              "              title=\"Convert this dataframe to an interactive table.\"\n",
              "              style=\"display:none;\">\n",
              "        \n",
              "  <svg xmlns=\"http://www.w3.org/2000/svg\" height=\"24px\"viewBox=\"0 0 24 24\"\n",
              "       width=\"24px\">\n",
              "    <path d=\"M0 0h24v24H0V0z\" fill=\"none\"/>\n",
              "    <path d=\"M18.56 5.44l.94 2.06.94-2.06 2.06-.94-2.06-.94-.94-2.06-.94 2.06-2.06.94zm-11 1L8.5 8.5l.94-2.06 2.06-.94-2.06-.94L8.5 2.5l-.94 2.06-2.06.94zm10 10l.94 2.06.94-2.06 2.06-.94-2.06-.94-.94-2.06-.94 2.06-2.06.94z\"/><path d=\"M17.41 7.96l-1.37-1.37c-.4-.4-.92-.59-1.43-.59-.52 0-1.04.2-1.43.59L10.3 9.45l-7.72 7.72c-.78.78-.78 2.05 0 2.83L4 21.41c.39.39.9.59 1.41.59.51 0 1.02-.2 1.41-.59l7.78-7.78 2.81-2.81c.8-.78.8-2.07 0-2.86zM5.41 20L4 18.59l7.72-7.72 1.47 1.35L5.41 20z\"/>\n",
              "  </svg>\n",
              "      </button>\n",
              "      \n",
              "  <style>\n",
              "    .colab-df-container {\n",
              "      display:flex;\n",
              "      flex-wrap:wrap;\n",
              "      gap: 12px;\n",
              "    }\n",
              "\n",
              "    .colab-df-convert {\n",
              "      background-color: #E8F0FE;\n",
              "      border: none;\n",
              "      border-radius: 50%;\n",
              "      cursor: pointer;\n",
              "      display: none;\n",
              "      fill: #1967D2;\n",
              "      height: 32px;\n",
              "      padding: 0 0 0 0;\n",
              "      width: 32px;\n",
              "    }\n",
              "\n",
              "    .colab-df-convert:hover {\n",
              "      background-color: #E2EBFA;\n",
              "      box-shadow: 0px 1px 2px rgba(60, 64, 67, 0.3), 0px 1px 3px 1px rgba(60, 64, 67, 0.15);\n",
              "      fill: #174EA6;\n",
              "    }\n",
              "\n",
              "    [theme=dark] .colab-df-convert {\n",
              "      background-color: #3B4455;\n",
              "      fill: #D2E3FC;\n",
              "    }\n",
              "\n",
              "    [theme=dark] .colab-df-convert:hover {\n",
              "      background-color: #434B5C;\n",
              "      box-shadow: 0px 1px 3px 1px rgba(0, 0, 0, 0.15);\n",
              "      filter: drop-shadow(0px 1px 2px rgba(0, 0, 0, 0.3));\n",
              "      fill: #FFFFFF;\n",
              "    }\n",
              "  </style>\n",
              "\n",
              "      <script>\n",
              "        const buttonEl =\n",
              "          document.querySelector('#df-8a9ce91f-8b94-4e7b-b2d1-dce054561a3c button.colab-df-convert');\n",
              "        buttonEl.style.display =\n",
              "          google.colab.kernel.accessAllowed ? 'block' : 'none';\n",
              "\n",
              "        async function convertToInteractive(key) {\n",
              "          const element = document.querySelector('#df-8a9ce91f-8b94-4e7b-b2d1-dce054561a3c');\n",
              "          const dataTable =\n",
              "            await google.colab.kernel.invokeFunction('convertToInteractive',\n",
              "                                                     [key], {});\n",
              "          if (!dataTable) return;\n",
              "\n",
              "          const docLinkHtml = 'Like what you see? Visit the ' +\n",
              "            '<a target=\"_blank\" href=https://colab.research.google.com/notebooks/data_table.ipynb>data table notebook</a>'\n",
              "            + ' to learn more about interactive tables.';\n",
              "          element.innerHTML = '';\n",
              "          dataTable['output_type'] = 'display_data';\n",
              "          await google.colab.output.renderOutput(dataTable, element);\n",
              "          const docLink = document.createElement('div');\n",
              "          docLink.innerHTML = docLinkHtml;\n",
              "          element.appendChild(docLink);\n",
              "        }\n",
              "      </script>\n",
              "    </div>\n",
              "  </div>\n",
              "  "
            ]
          },
          "metadata": {},
          "execution_count": 7
        }
      ],
      "source": [
        "merchants = pd.read_csv('dataset/merchants.csv')\n",
        "merchants.head()"
      ]
    },
    {
      "cell_type": "code",
      "source": [
        "merchants.isnull().mean()"
      ],
      "metadata": {
        "colab": {
          "base_uri": "https://localhost:8080/"
        },
        "id": "rxWrXpZLQDAo",
        "outputId": "5be28ad8-36ae-4022-c4f6-79469ca35843"
      },
      "execution_count": 8,
      "outputs": [
        {
          "output_type": "execute_result",
          "data": {
            "text/plain": [
              "merchant_id                    0.000000\n",
              "merchant_group_id              0.000000\n",
              "merchant_category_id           0.000000\n",
              "subsector_id                   0.000000\n",
              "numerical_1                    0.000000\n",
              "numerical_2                    0.000000\n",
              "category_1                     0.000000\n",
              "most_recent_sales_range        0.000000\n",
              "most_recent_purchases_range    0.000000\n",
              "avg_sales_lag3                 0.000039\n",
              "avg_purchases_lag3             0.000000\n",
              "active_months_lag3             0.000000\n",
              "avg_sales_lag6                 0.000039\n",
              "avg_purchases_lag6             0.000000\n",
              "active_months_lag6             0.000000\n",
              "avg_sales_lag12                0.000039\n",
              "avg_purchases_lag12            0.000000\n",
              "active_months_lag12            0.000000\n",
              "category_4                     0.000000\n",
              "city_id                        0.000000\n",
              "state_id                       0.000000\n",
              "category_2                     0.035516\n",
              "dtype: float64"
            ]
          },
          "metadata": {},
          "execution_count": 8
        }
      ]
    },
    {
      "cell_type": "code",
      "execution_count": 9,
      "metadata": {
        "id": "3rw-IgbKOqF7"
      },
      "outputs": [],
      "source": [
        "new_tran = pd.read_csv('/content/dataset/new_merchant_transactions.csv')"
      ]
    },
    {
      "cell_type": "markdown",
      "source": [
        "##Handling Missing Values in new_tran"
      ],
      "metadata": {
        "id": "gJWFn9TIR0wt"
      }
    },
    {
      "cell_type": "code",
      "source": [
        "new_tran.isnull().sum()"
      ],
      "metadata": {
        "colab": {
          "base_uri": "https://localhost:8080/"
        },
        "id": "7eSJl-7CPubr",
        "outputId": "d35d42f8-a1d1-4b47-dcab-e6986b0b3445"
      },
      "execution_count": 10,
      "outputs": [
        {
          "output_type": "execute_result",
          "data": {
            "text/plain": [
              "authorized_flag              0\n",
              "card_id                      0\n",
              "city_id                      0\n",
              "category_1                   0\n",
              "installments                 0\n",
              "category_3               55922\n",
              "merchant_category_id         0\n",
              "merchant_id              26216\n",
              "month_lag                    0\n",
              "purchase_amount              0\n",
              "purchase_date                0\n",
              "category_2              111745\n",
              "state_id                     0\n",
              "subsector_id                 0\n",
              "dtype: int64"
            ]
          },
          "metadata": {},
          "execution_count": 10
        }
      ]
    },
    {
      "cell_type": "code",
      "source": [
        "features_with_na=[features for features in new_tran.columns if new_tran[features].isnull().sum()>1]"
      ],
      "metadata": {
        "id": "0LOplSH1P-C8"
      },
      "execution_count": 11,
      "outputs": []
    },
    {
      "cell_type": "code",
      "source": [
        "features_with_na"
      ],
      "metadata": {
        "colab": {
          "base_uri": "https://localhost:8080/"
        },
        "id": "6KiqHoYfQ6GB",
        "outputId": "bdcf18c2-c47b-4f12-f02b-81d0d1bc01ad"
      },
      "execution_count": 12,
      "outputs": [
        {
          "output_type": "execute_result",
          "data": {
            "text/plain": [
              "['category_3', 'merchant_id', 'category_2']"
            ]
          },
          "metadata": {},
          "execution_count": 12
        }
      ]
    },
    {
      "cell_type": "code",
      "source": [
        "new_tran['category_3'].value_counts()"
      ],
      "metadata": {
        "colab": {
          "base_uri": "https://localhost:8080/"
        },
        "id": "e8_B4ND2Qst-",
        "outputId": "c0ce0952-73ce-436a-d6c3-13da3750053f"
      },
      "execution_count": 13,
      "outputs": [
        {
          "output_type": "execute_result",
          "data": {
            "text/plain": [
              "A    922244\n",
              "B    836178\n",
              "C    148687\n",
              "Name: category_3, dtype: int64"
            ]
          },
          "metadata": {},
          "execution_count": 13
        }
      ]
    },
    {
      "cell_type": "code",
      "source": [
        "new_tran['category_3'].fillna('A', inplace=True)"
      ],
      "metadata": {
        "id": "_8OUZQiDSL-8"
      },
      "execution_count": 14,
      "outputs": []
    },
    {
      "cell_type": "code",
      "source": [
        "new_tran['merchant_id'].value_counts()"
      ],
      "metadata": {
        "colab": {
          "base_uri": "https://localhost:8080/"
        },
        "id": "hYZoCiA2R8jW",
        "outputId": "7dbc028e-d781-4606-dcd2-c30c38664e09"
      },
      "execution_count": 15,
      "outputs": [
        {
          "output_type": "execute_result",
          "data": {
            "text/plain": [
              "M_ID_00a6ca8a8a    23018\n",
              "M_ID_cd2c0b07e9    19118\n",
              "M_ID_9139332ccc    14220\n",
              "M_ID_50f575c681    13778\n",
              "M_ID_725a60d404     7029\n",
              "                   ...  \n",
              "M_ID_5ad92e0a51        1\n",
              "M_ID_755372244e        1\n",
              "M_ID_4b750a82b0        1\n",
              "M_ID_28f7e90c9b        1\n",
              "M_ID_670cdecb69        1\n",
              "Name: merchant_id, Length: 226129, dtype: int64"
            ]
          },
          "metadata": {},
          "execution_count": 15
        }
      ]
    },
    {
      "cell_type": "code",
      "source": [
        "new_tran['merchant_id'].fillna('M_ID_00a6ca8a8a', inplace=True)"
      ],
      "metadata": {
        "id": "x1vSvkwHSWrT"
      },
      "execution_count": 16,
      "outputs": []
    },
    {
      "cell_type": "code",
      "source": [
        "new_tran['category_2'].value_counts()"
      ],
      "metadata": {
        "colab": {
          "base_uri": "https://localhost:8080/"
        },
        "id": "5bRtWn4RSAjD",
        "outputId": "d76a817d-43fa-4c0b-f240-c716fbcd80c5"
      },
      "execution_count": 17,
      "outputs": [
        {
          "output_type": "execute_result",
          "data": {
            "text/plain": [
              "1.0    1058242\n",
              "3.0     289525\n",
              "5.0     259266\n",
              "4.0     178590\n",
              "2.0      65663\n",
              "Name: category_2, dtype: int64"
            ]
          },
          "metadata": {},
          "execution_count": 17
        }
      ]
    },
    {
      "cell_type": "code",
      "source": [
        "new_tran['category_2'].fillna(1.0, inplace=True)"
      ],
      "metadata": {
        "id": "Kk5YLmzTSEaA"
      },
      "execution_count": 18,
      "outputs": []
    },
    {
      "cell_type": "code",
      "source": [
        "new_tran.isnull().sum()"
      ],
      "metadata": {
        "colab": {
          "base_uri": "https://localhost:8080/"
        },
        "id": "nBwRb6QcShiK",
        "outputId": "8b320679-f8b2-4958-829f-998c27e64097"
      },
      "execution_count": 19,
      "outputs": [
        {
          "output_type": "execute_result",
          "data": {
            "text/plain": [
              "authorized_flag         0\n",
              "card_id                 0\n",
              "city_id                 0\n",
              "category_1              0\n",
              "installments            0\n",
              "category_3              0\n",
              "merchant_category_id    0\n",
              "merchant_id             0\n",
              "month_lag               0\n",
              "purchase_amount         0\n",
              "purchase_date           0\n",
              "category_2              0\n",
              "state_id                0\n",
              "subsector_id            0\n",
              "dtype: int64"
            ]
          },
          "metadata": {},
          "execution_count": 19
        }
      ]
    },
    {
      "cell_type": "code",
      "source": [
        "train_EDA = pd.read_csv(\"drive/MyDrive/train_EDA.csv\")"
      ],
      "metadata": {
        "id": "lM1Z3pFwSt9X"
      },
      "execution_count": 20,
      "outputs": []
    },
    {
      "cell_type": "code",
      "source": [
        "train_EDA.shape"
      ],
      "metadata": {
        "colab": {
          "base_uri": "https://localhost:8080/"
        },
        "id": "9v6jcfDhTkgx",
        "outputId": "bc75ad01-5ac2-41a6-b49a-8e028b569d50"
      },
      "execution_count": 21,
      "outputs": [
        {
          "output_type": "execute_result",
          "data": {
            "text/plain": [
              "(201917, 9)"
            ]
          },
          "metadata": {},
          "execution_count": 21
        }
      ]
    },
    {
      "cell_type": "code",
      "source": [
        "new_tran.shape"
      ],
      "metadata": {
        "colab": {
          "base_uri": "https://localhost:8080/"
        },
        "id": "DcxLY6smTnHM",
        "outputId": "a7ac40fe-c61f-4920-e0c8-628fec3df0d7"
      },
      "execution_count": 22,
      "outputs": [
        {
          "output_type": "execute_result",
          "data": {
            "text/plain": [
              "(1963031, 14)"
            ]
          },
          "metadata": {},
          "execution_count": 22
        }
      ]
    },
    {
      "cell_type": "code",
      "source": [
        "elo_data = pd.merge(train_EDA, new_tran, how=\"left\", on=[\"card_id\"])"
      ],
      "metadata": {
        "id": "0pJW6BGOSjnL"
      },
      "execution_count": 23,
      "outputs": []
    },
    {
      "cell_type": "code",
      "source": [
        "elo_data.info()"
      ],
      "metadata": {
        "colab": {
          "base_uri": "https://localhost:8080/"
        },
        "id": "AmwPRm5aSyee",
        "outputId": "be6fb052-d64f-477a-e2bf-c8449f5d8be6"
      },
      "execution_count": 24,
      "outputs": [
        {
          "output_type": "stream",
          "name": "stdout",
          "text": [
            "<class 'pandas.core.frame.DataFrame'>\n",
            "Int64Index: 1241616 entries, 0 to 1241615\n",
            "Data columns (total 22 columns):\n",
            " #   Column                Non-Null Count    Dtype  \n",
            "---  ------                --------------    -----  \n",
            " 0   Unnamed: 0            1241616 non-null  int64  \n",
            " 1   first_active_month    1241616 non-null  object \n",
            " 2   card_id               1241616 non-null  object \n",
            " 3   feature_1             1241616 non-null  int64  \n",
            " 4   feature_2             1241616 non-null  int64  \n",
            " 5   feature_3             1241616 non-null  int64  \n",
            " 6   target                1241616 non-null  float64\n",
            " 7   year                  1241616 non-null  int64  \n",
            " 8   month                 1241616 non-null  int64  \n",
            " 9   authorized_flag       1219685 non-null  object \n",
            " 10  city_id               1219685 non-null  float64\n",
            " 11  category_1            1219685 non-null  object \n",
            " 12  installments          1219685 non-null  float64\n",
            " 13  category_3            1219685 non-null  object \n",
            " 14  merchant_category_id  1219685 non-null  float64\n",
            " 15  merchant_id           1219685 non-null  object \n",
            " 16  month_lag             1219685 non-null  float64\n",
            " 17  purchase_amount       1219685 non-null  float64\n",
            " 18  purchase_date         1219685 non-null  object \n",
            " 19  category_2            1219685 non-null  float64\n",
            " 20  state_id              1219685 non-null  float64\n",
            " 21  subsector_id          1219685 non-null  float64\n",
            "dtypes: float64(9), int64(6), object(7)\n",
            "memory usage: 217.9+ MB\n"
          ]
        }
      ]
    },
    {
      "cell_type": "markdown",
      "source": [
        "##Handling missing values in elo_data"
      ],
      "metadata": {
        "id": "p7mCkhIVX7Ty"
      }
    },
    {
      "cell_type": "code",
      "source": [
        "elo_data.isnull().mean()"
      ],
      "metadata": {
        "colab": {
          "base_uri": "https://localhost:8080/"
        },
        "id": "i6HAeU18S1Ai",
        "outputId": "a6772988-5c9d-4fc4-dd4b-312c65f0d4a6"
      },
      "execution_count": 25,
      "outputs": [
        {
          "output_type": "execute_result",
          "data": {
            "text/plain": [
              "Unnamed: 0              0.000000\n",
              "first_active_month      0.000000\n",
              "card_id                 0.000000\n",
              "feature_1               0.000000\n",
              "feature_2               0.000000\n",
              "feature_3               0.000000\n",
              "target                  0.000000\n",
              "year                    0.000000\n",
              "month                   0.000000\n",
              "authorized_flag         0.017663\n",
              "city_id                 0.017663\n",
              "category_1              0.017663\n",
              "installments            0.017663\n",
              "category_3              0.017663\n",
              "merchant_category_id    0.017663\n",
              "merchant_id             0.017663\n",
              "month_lag               0.017663\n",
              "purchase_amount         0.017663\n",
              "purchase_date           0.017663\n",
              "category_2              0.017663\n",
              "state_id                0.017663\n",
              "subsector_id            0.017663\n",
              "dtype: float64"
            ]
          },
          "metadata": {},
          "execution_count": 25
        }
      ]
    },
    {
      "cell_type": "code",
      "source": [
        "elo_data.shape"
      ],
      "metadata": {
        "colab": {
          "base_uri": "https://localhost:8080/"
        },
        "id": "B-nK1K_PTJax",
        "outputId": "845eb3fc-bb34-4d12-8518-82b2330188b7"
      },
      "execution_count": 26,
      "outputs": [
        {
          "output_type": "execute_result",
          "data": {
            "text/plain": [
              "(1241616, 22)"
            ]
          },
          "metadata": {},
          "execution_count": 26
        }
      ]
    },
    {
      "cell_type": "code",
      "source": [
        "features_with_na=[features for features in elo_data.columns if elo_data[features].isnull().sum()>1]"
      ],
      "metadata": {
        "id": "eaApAWJMTMtW"
      },
      "execution_count": 27,
      "outputs": []
    },
    {
      "cell_type": "code",
      "source": [
        "features_with_na"
      ],
      "metadata": {
        "colab": {
          "base_uri": "https://localhost:8080/"
        },
        "id": "Z5s6Y72mWlbq",
        "outputId": "09cc0206-7db0-4fe7-c86e-1d68f5e0fe7b"
      },
      "execution_count": 28,
      "outputs": [
        {
          "output_type": "execute_result",
          "data": {
            "text/plain": [
              "['authorized_flag',\n",
              " 'city_id',\n",
              " 'category_1',\n",
              " 'installments',\n",
              " 'category_3',\n",
              " 'merchant_category_id',\n",
              " 'merchant_id',\n",
              " 'month_lag',\n",
              " 'purchase_amount',\n",
              " 'purchase_date',\n",
              " 'category_2',\n",
              " 'state_id',\n",
              " 'subsector_id']"
            ]
          },
          "metadata": {},
          "execution_count": 28
        }
      ]
    },
    {
      "cell_type": "code",
      "source": [
        "for i in features_with_na:\n",
        "  elo_data[i].fillna(elo_data[i].mode()[0], inplace=True)"
      ],
      "metadata": {
        "id": "axLA92hxWnS3"
      },
      "execution_count": 29,
      "outputs": []
    },
    {
      "cell_type": "code",
      "source": [
        "elo_data.isnull().sum()"
      ],
      "metadata": {
        "colab": {
          "base_uri": "https://localhost:8080/"
        },
        "id": "fxzAFa_uW6bY",
        "outputId": "ad576e31-760a-470c-c343-f2b38091176d"
      },
      "execution_count": 30,
      "outputs": [
        {
          "output_type": "execute_result",
          "data": {
            "text/plain": [
              "Unnamed: 0              0\n",
              "first_active_month      0\n",
              "card_id                 0\n",
              "feature_1               0\n",
              "feature_2               0\n",
              "feature_3               0\n",
              "target                  0\n",
              "year                    0\n",
              "month                   0\n",
              "authorized_flag         0\n",
              "city_id                 0\n",
              "category_1              0\n",
              "installments            0\n",
              "category_3              0\n",
              "merchant_category_id    0\n",
              "merchant_id             0\n",
              "month_lag               0\n",
              "purchase_amount         0\n",
              "purchase_date           0\n",
              "category_2              0\n",
              "state_id                0\n",
              "subsector_id            0\n",
              "dtype: int64"
            ]
          },
          "metadata": {},
          "execution_count": 30
        }
      ]
    },
    {
      "cell_type": "code",
      "source": [
        "elo_data.drop('Unnamed: 0',inplace=True,axis=1)"
      ],
      "metadata": {
        "id": "rCyxmLudY29s"
      },
      "execution_count": 31,
      "outputs": []
    },
    {
      "cell_type": "markdown",
      "source": [
        "##Numerical Variables"
      ],
      "metadata": {
        "id": "ExWamXG5YL8H"
      }
    },
    {
      "cell_type": "code",
      "source": [
        "# list of numerical variables\n",
        "numerical_features = [feature for feature in elo_data.columns if elo_data[feature].dtypes != 'O']\n",
        "\n",
        "print('Number of numerical variables: ', len(numerical_features))\n",
        "\n",
        "# visualise the numerical variables\n",
        "elo_data[numerical_features].head()"
      ],
      "metadata": {
        "colab": {
          "base_uri": "https://localhost:8080/",
          "height": 285
        },
        "id": "fCfmSDzyXrKr",
        "outputId": "63e98427-3b0e-49e2-c60f-948dbc2a1715"
      },
      "execution_count": 32,
      "outputs": [
        {
          "output_type": "stream",
          "name": "stdout",
          "text": [
            "Number of numerical variables:  14\n"
          ]
        },
        {
          "output_type": "execute_result",
          "data": {
            "text/plain": [
              "   feature_1  feature_2  feature_3    target  year  month  city_id  \\\n",
              "0          5          2          1 -0.820283  2017      6     19.0   \n",
              "1          5          2          1 -0.820283  2017      6     69.0   \n",
              "2          5          2          1 -0.820283  2017      6     19.0   \n",
              "3          5          2          1 -0.820283  2017      6     69.0   \n",
              "4          5          2          1 -0.820283  2017      6    276.0   \n",
              "\n",
              "   installments  merchant_category_id  month_lag  purchase_amount  category_2  \\\n",
              "0           0.0                  80.0        1.0        -0.491457         1.0   \n",
              "1           0.0                  80.0        2.0        -0.666561         1.0   \n",
              "2           0.0                 278.0        1.0        -0.635246         1.0   \n",
              "3           0.0                 842.0        2.0        -0.581180         1.0   \n",
              "4           0.0                 783.0        1.0        -0.296112         1.0   \n",
              "\n",
              "   state_id  subsector_id  \n",
              "0       9.0          37.0  \n",
              "1       9.0          37.0  \n",
              "2       9.0          37.0  \n",
              "3       9.0          37.0  \n",
              "4       9.0          19.0  "
            ],
            "text/html": [
              "\n",
              "  <div id=\"df-0a1cc5f1-0049-4c06-98aa-020240788994\">\n",
              "    <div class=\"colab-df-container\">\n",
              "      <div>\n",
              "<style scoped>\n",
              "    .dataframe tbody tr th:only-of-type {\n",
              "        vertical-align: middle;\n",
              "    }\n",
              "\n",
              "    .dataframe tbody tr th {\n",
              "        vertical-align: top;\n",
              "    }\n",
              "\n",
              "    .dataframe thead th {\n",
              "        text-align: right;\n",
              "    }\n",
              "</style>\n",
              "<table border=\"1\" class=\"dataframe\">\n",
              "  <thead>\n",
              "    <tr style=\"text-align: right;\">\n",
              "      <th></th>\n",
              "      <th>feature_1</th>\n",
              "      <th>feature_2</th>\n",
              "      <th>feature_3</th>\n",
              "      <th>target</th>\n",
              "      <th>year</th>\n",
              "      <th>month</th>\n",
              "      <th>city_id</th>\n",
              "      <th>installments</th>\n",
              "      <th>merchant_category_id</th>\n",
              "      <th>month_lag</th>\n",
              "      <th>purchase_amount</th>\n",
              "      <th>category_2</th>\n",
              "      <th>state_id</th>\n",
              "      <th>subsector_id</th>\n",
              "    </tr>\n",
              "  </thead>\n",
              "  <tbody>\n",
              "    <tr>\n",
              "      <th>0</th>\n",
              "      <td>5</td>\n",
              "      <td>2</td>\n",
              "      <td>1</td>\n",
              "      <td>-0.820283</td>\n",
              "      <td>2017</td>\n",
              "      <td>6</td>\n",
              "      <td>19.0</td>\n",
              "      <td>0.0</td>\n",
              "      <td>80.0</td>\n",
              "      <td>1.0</td>\n",
              "      <td>-0.491457</td>\n",
              "      <td>1.0</td>\n",
              "      <td>9.0</td>\n",
              "      <td>37.0</td>\n",
              "    </tr>\n",
              "    <tr>\n",
              "      <th>1</th>\n",
              "      <td>5</td>\n",
              "      <td>2</td>\n",
              "      <td>1</td>\n",
              "      <td>-0.820283</td>\n",
              "      <td>2017</td>\n",
              "      <td>6</td>\n",
              "      <td>69.0</td>\n",
              "      <td>0.0</td>\n",
              "      <td>80.0</td>\n",
              "      <td>2.0</td>\n",
              "      <td>-0.666561</td>\n",
              "      <td>1.0</td>\n",
              "      <td>9.0</td>\n",
              "      <td>37.0</td>\n",
              "    </tr>\n",
              "    <tr>\n",
              "      <th>2</th>\n",
              "      <td>5</td>\n",
              "      <td>2</td>\n",
              "      <td>1</td>\n",
              "      <td>-0.820283</td>\n",
              "      <td>2017</td>\n",
              "      <td>6</td>\n",
              "      <td>19.0</td>\n",
              "      <td>0.0</td>\n",
              "      <td>278.0</td>\n",
              "      <td>1.0</td>\n",
              "      <td>-0.635246</td>\n",
              "      <td>1.0</td>\n",
              "      <td>9.0</td>\n",
              "      <td>37.0</td>\n",
              "    </tr>\n",
              "    <tr>\n",
              "      <th>3</th>\n",
              "      <td>5</td>\n",
              "      <td>2</td>\n",
              "      <td>1</td>\n",
              "      <td>-0.820283</td>\n",
              "      <td>2017</td>\n",
              "      <td>6</td>\n",
              "      <td>69.0</td>\n",
              "      <td>0.0</td>\n",
              "      <td>842.0</td>\n",
              "      <td>2.0</td>\n",
              "      <td>-0.581180</td>\n",
              "      <td>1.0</td>\n",
              "      <td>9.0</td>\n",
              "      <td>37.0</td>\n",
              "    </tr>\n",
              "    <tr>\n",
              "      <th>4</th>\n",
              "      <td>5</td>\n",
              "      <td>2</td>\n",
              "      <td>1</td>\n",
              "      <td>-0.820283</td>\n",
              "      <td>2017</td>\n",
              "      <td>6</td>\n",
              "      <td>276.0</td>\n",
              "      <td>0.0</td>\n",
              "      <td>783.0</td>\n",
              "      <td>1.0</td>\n",
              "      <td>-0.296112</td>\n",
              "      <td>1.0</td>\n",
              "      <td>9.0</td>\n",
              "      <td>19.0</td>\n",
              "    </tr>\n",
              "  </tbody>\n",
              "</table>\n",
              "</div>\n",
              "      <button class=\"colab-df-convert\" onclick=\"convertToInteractive('df-0a1cc5f1-0049-4c06-98aa-020240788994')\"\n",
              "              title=\"Convert this dataframe to an interactive table.\"\n",
              "              style=\"display:none;\">\n",
              "        \n",
              "  <svg xmlns=\"http://www.w3.org/2000/svg\" height=\"24px\"viewBox=\"0 0 24 24\"\n",
              "       width=\"24px\">\n",
              "    <path d=\"M0 0h24v24H0V0z\" fill=\"none\"/>\n",
              "    <path d=\"M18.56 5.44l.94 2.06.94-2.06 2.06-.94-2.06-.94-.94-2.06-.94 2.06-2.06.94zm-11 1L8.5 8.5l.94-2.06 2.06-.94-2.06-.94L8.5 2.5l-.94 2.06-2.06.94zm10 10l.94 2.06.94-2.06 2.06-.94-2.06-.94-.94-2.06-.94 2.06-2.06.94z\"/><path d=\"M17.41 7.96l-1.37-1.37c-.4-.4-.92-.59-1.43-.59-.52 0-1.04.2-1.43.59L10.3 9.45l-7.72 7.72c-.78.78-.78 2.05 0 2.83L4 21.41c.39.39.9.59 1.41.59.51 0 1.02-.2 1.41-.59l7.78-7.78 2.81-2.81c.8-.78.8-2.07 0-2.86zM5.41 20L4 18.59l7.72-7.72 1.47 1.35L5.41 20z\"/>\n",
              "  </svg>\n",
              "      </button>\n",
              "      \n",
              "  <style>\n",
              "    .colab-df-container {\n",
              "      display:flex;\n",
              "      flex-wrap:wrap;\n",
              "      gap: 12px;\n",
              "    }\n",
              "\n",
              "    .colab-df-convert {\n",
              "      background-color: #E8F0FE;\n",
              "      border: none;\n",
              "      border-radius: 50%;\n",
              "      cursor: pointer;\n",
              "      display: none;\n",
              "      fill: #1967D2;\n",
              "      height: 32px;\n",
              "      padding: 0 0 0 0;\n",
              "      width: 32px;\n",
              "    }\n",
              "\n",
              "    .colab-df-convert:hover {\n",
              "      background-color: #E2EBFA;\n",
              "      box-shadow: 0px 1px 2px rgba(60, 64, 67, 0.3), 0px 1px 3px 1px rgba(60, 64, 67, 0.15);\n",
              "      fill: #174EA6;\n",
              "    }\n",
              "\n",
              "    [theme=dark] .colab-df-convert {\n",
              "      background-color: #3B4455;\n",
              "      fill: #D2E3FC;\n",
              "    }\n",
              "\n",
              "    [theme=dark] .colab-df-convert:hover {\n",
              "      background-color: #434B5C;\n",
              "      box-shadow: 0px 1px 3px 1px rgba(0, 0, 0, 0.15);\n",
              "      filter: drop-shadow(0px 1px 2px rgba(0, 0, 0, 0.3));\n",
              "      fill: #FFFFFF;\n",
              "    }\n",
              "  </style>\n",
              "\n",
              "      <script>\n",
              "        const buttonEl =\n",
              "          document.querySelector('#df-0a1cc5f1-0049-4c06-98aa-020240788994 button.colab-df-convert');\n",
              "        buttonEl.style.display =\n",
              "          google.colab.kernel.accessAllowed ? 'block' : 'none';\n",
              "\n",
              "        async function convertToInteractive(key) {\n",
              "          const element = document.querySelector('#df-0a1cc5f1-0049-4c06-98aa-020240788994');\n",
              "          const dataTable =\n",
              "            await google.colab.kernel.invokeFunction('convertToInteractive',\n",
              "                                                     [key], {});\n",
              "          if (!dataTable) return;\n",
              "\n",
              "          const docLinkHtml = 'Like what you see? Visit the ' +\n",
              "            '<a target=\"_blank\" href=https://colab.research.google.com/notebooks/data_table.ipynb>data table notebook</a>'\n",
              "            + ' to learn more about interactive tables.';\n",
              "          element.innerHTML = '';\n",
              "          dataTable['output_type'] = 'display_data';\n",
              "          await google.colab.output.renderOutput(dataTable, element);\n",
              "          const docLink = document.createElement('div');\n",
              "          docLink.innerHTML = docLinkHtml;\n",
              "          element.appendChild(docLink);\n",
              "        }\n",
              "      </script>\n",
              "    </div>\n",
              "  </div>\n",
              "  "
            ]
          },
          "metadata": {},
          "execution_count": 32
        }
      ]
    },
    {
      "cell_type": "markdown",
      "source": [
        "##handling Discrete Vars"
      ],
      "metadata": {
        "id": "yN0ZsxxzeWoj"
      }
    },
    {
      "cell_type": "code",
      "source": [
        "for i in numerical_features:\n",
        "  print(i,len(elo_data[i].unique()))"
      ],
      "metadata": {
        "colab": {
          "base_uri": "https://localhost:8080/"
        },
        "id": "Gnpp0OtbYZcg",
        "outputId": "4a114664-a8a1-43a9-c967-4865018e8c15"
      },
      "execution_count": 33,
      "outputs": [
        {
          "output_type": "stream",
          "name": "stdout",
          "text": [
            "feature_1 5\n",
            "feature_2 3\n",
            "feature_3 2\n",
            "target 197110\n",
            "year 8\n",
            "month 12\n",
            "city_id 308\n",
            "installments 15\n",
            "merchant_category_id 306\n",
            "month_lag 2\n",
            "purchase_amount 61279\n",
            "category_2 5\n",
            "state_id 25\n",
            "subsector_id 41\n"
          ]
        }
      ]
    },
    {
      "cell_type": "code",
      "source": [
        "elo_data.drop('merchant_category_id',inplace=True, axis=1)"
      ],
      "metadata": {
        "id": "RjywV0utrCKT"
      },
      "execution_count": 34,
      "outputs": []
    },
    {
      "cell_type": "code",
      "source": [
        "continuous_values = ['purchase_amount']"
      ],
      "metadata": {
        "id": "6JmMi5Ezat5Y"
      },
      "execution_count": 35,
      "outputs": []
    },
    {
      "cell_type": "code",
      "source": [
        "discrete_values = ['feature_1',\n",
        " 'feature_2',\n",
        " 'feature_3',\n",
        " 'year',\n",
        " 'month',\n",
        " 'installments',\n",
        " 'month_lag',\n",
        " 'category_2',\n",
        " 'state_id',\n",
        " 'subsector_id']"
      ],
      "metadata": {
        "id": "OsvKDdgPbLRi"
      },
      "execution_count": 36,
      "outputs": []
    },
    {
      "cell_type": "code",
      "source": [
        "discrete_values"
      ],
      "metadata": {
        "colab": {
          "base_uri": "https://localhost:8080/"
        },
        "id": "bDlNaB47bXUz",
        "outputId": "7f1b1ce2-90a8-45f4-fc22-d2f83ce1867f"
      },
      "execution_count": 37,
      "outputs": [
        {
          "output_type": "execute_result",
          "data": {
            "text/plain": [
              "['feature_1',\n",
              " 'feature_2',\n",
              " 'feature_3',\n",
              " 'year',\n",
              " 'month',\n",
              " 'installments',\n",
              " 'month_lag',\n",
              " 'category_2',\n",
              " 'state_id',\n",
              " 'subsector_id']"
            ]
          },
          "metadata": {},
          "execution_count": 37
        }
      ]
    },
    {
      "cell_type": "code",
      "source": [
        "## Lets Find the realtionship between them and Sale PRice\n",
        "\n",
        "for feature in discrete_values:\n",
        "    data=elo_data.copy()\n",
        "    data.groupby(feature)['target'].mean().plot.bar()\n",
        "    plt.xlabel(feature)\n",
        "    plt.ylabel('target')\n",
        "    plt.title(feature)\n",
        "    plt.show()"
      ],
      "metadata": {
        "colab": {
          "base_uri": "https://localhost:8080/",
          "height": 1000
        },
        "id": "AwOYm-yobhHa",
        "outputId": "2334a6e8-300d-49c3-8a23-3cedeb703af1"
      },
      "execution_count": 38,
      "outputs": [
        {
          "output_type": "display_data",
          "data": {
            "text/plain": [
              "<Figure size 432x288 with 1 Axes>"
            ],
            "image/png": "[encoded data removed]"
          },
          "metadata": {
            "needs_background": "light"
          }
        },
        {
          "output_type": "display_data",
          "data": {
            "text/plain": [
              "<Figure size 432x288 with 1 Axes>"
            ],
            "image/png": "[encoded data removed]"
          },
          "metadata": {
            "needs_background": "light"
          }
        },
        {
          "output_type": "display_data",
          "data": {
            "text/plain": [
              "<Figure size 432x288 with 1 Axes>"
            ],
            "image/png": "[encoded data removed]"
          },
          "metadata": {
            "needs_background": "light"
          }
        },
        {
          "output_type": "display_data",
          "data": {
            "text/plain": [
              "<Figure size 432x288 with 1 Axes>"
            ],
            "image/png": "[encoded data removed]"
          },
          "metadata": {
            "needs_background": "light"
          }
        },
        {
          "output_type": "display_data",
          "data": {
            "text/plain": [
              "<Figure size 432x288 with 1 Axes>"
            ],
            "image/png": "[encoded data removed]"
          },
          "metadata": {
            "needs_background": "light"
          }
        },
        {
          "output_type": "display_data",
          "data": {
            "text/plain": [
              "<Figure size 432x288 with 1 Axes>"
            ],
            "image/png": "[encoded data removed]"
          },
          "metadata": {
            "needs_background": "light"
          }
        },
        {
          "output_type": "display_data",
          "data": {
            "text/plain": [
              "<Figure size 432x288 with 1 Axes>"
            ],
            "image/png": "[encoded data removed]"
          },
          "metadata": {
            "needs_background": "light"
          }
        },
        {
          "output_type": "display_data",
          "data": {
            "text/plain": [
              "<Figure size 432x288 with 1 Axes>"
            ],
            "image/png": "[encoded data removed]"
          },
          "metadata": {
            "needs_background": "light"
          }
        },
        {
          "output_type": "display_data",
          "data": {
            "text/plain": [
              "<Figure size 432x288 with 1 Axes>"
            ],
            "image/png": "[encoded data removed]"
          },
          "metadata": {
            "needs_background": "light"
          }
        },
        {
          "output_type": "display_data",
          "data": {
            "text/plain": [
              "<Figure size 432x288 with 1 Axes>"
            ],
            "image/png": "[encoded data removed]"
          },
          "metadata": {
            "needs_background": "light"
          }
        }
      ]
    },
    {
      "cell_type": "markdown",
      "source": [
        "picking the relevant discrete values"
      ],
      "metadata": {
        "id": "PVhGrTIId4sL"
      }
    },
    {
      "cell_type": "code",
      "source": [
        "discrete_values = ['feature_1',\n",
        " 'feature_2',\n",
        " 'feature_3',\n",
        " 'year',\n",
        " 'month',\n",
        " 'installments',\n",
        " 'month_lag',]"
      ],
      "metadata": {
        "id": "RtfO2bXadzxm"
      },
      "execution_count": 39,
      "outputs": []
    },
    {
      "cell_type": "markdown",
      "source": [
        "drop rest of the discrete features"
      ],
      "metadata": {
        "id": "APy0CK9Zmt0Y"
      }
    },
    {
      "cell_type": "code",
      "source": [
        "discrete_drop_list = ['category_2', 'state_id', 'subsector_id']"
      ],
      "metadata": {
        "id": "EEyNGydpmxaC"
      },
      "execution_count": 40,
      "outputs": []
    },
    {
      "cell_type": "code",
      "source": [
        "elo_data.drop(discrete_drop_list, inplace=True,axis=1)"
      ],
      "metadata": {
        "id": "-nQd8j_BnLMA"
      },
      "execution_count": 41,
      "outputs": []
    },
    {
      "cell_type": "markdown",
      "source": [
        "##Handling continuous vars"
      ],
      "metadata": {
        "id": "Ol9BFWIgecZC"
      }
    },
    {
      "cell_type": "markdown",
      "source": [
        "'purchase_amount' do not show any relation with target values, so drop it"
      ],
      "metadata": {
        "id": "NJpfG-vumPl-"
      }
    },
    {
      "cell_type": "code",
      "source": [
        "elo_data.drop('purchase_amount',inplace=True,axis=1)"
      ],
      "metadata": {
        "id": "8ABdtCnOmOr6"
      },
      "execution_count": 42,
      "outputs": []
    },
    {
      "cell_type": "markdown",
      "source": [
        "##Handling categorical data"
      ],
      "metadata": {
        "id": "y1xeccXwnSxH"
      }
    },
    {
      "cell_type": "code",
      "source": [
        "categorical_features=[feature for feature in elo_data.columns if elo_data[feature].dtypes=='O']\n",
        "categorical_features"
      ],
      "metadata": {
        "colab": {
          "base_uri": "https://localhost:8080/"
        },
        "id": "L9KUS3yLmpT5",
        "outputId": "5fe8f8d5-68b2-47ed-e381-105f38a21715"
      },
      "execution_count": 43,
      "outputs": [
        {
          "output_type": "execute_result",
          "data": {
            "text/plain": [
              "['first_active_month',\n",
              " 'card_id',\n",
              " 'authorized_flag',\n",
              " 'category_1',\n",
              " 'category_3',\n",
              " 'merchant_id',\n",
              " 'purchase_date']"
            ]
          },
          "metadata": {},
          "execution_count": 43
        }
      ]
    },
    {
      "cell_type": "code",
      "source": [
        "for i in categorical_features:\n",
        "  print(i,len(elo_data[i].unique()))"
      ],
      "metadata": {
        "colab": {
          "base_uri": "https://localhost:8080/"
        },
        "id": "XPRDHenIniZt",
        "outputId": "bbb8b3d9-99bc-41e1-faf7-719d80b18bbb"
      },
      "execution_count": 44,
      "outputs": [
        {
          "output_type": "stream",
          "name": "stdout",
          "text": [
            "first_active_month 75\n",
            "card_id 201917\n",
            "authorized_flag 1\n",
            "category_1 2\n",
            "category_3 3\n",
            "merchant_id 193809\n",
            "purchase_date 1095261\n"
          ]
        }
      ]
    },
    {
      "cell_type": "code",
      "source": [
        "for i in categorical_features:\n",
        "  print(i, elo_data[i].value_counts())"
      ],
      "metadata": {
        "colab": {
          "base_uri": "https://localhost:8080/"
        },
        "id": "NVAxPnoeouKo",
        "outputId": "5215c97a-ad7d-4bd4-971b-8c45406ed5cf"
      },
      "execution_count": 45,
      "outputs": [
        {
          "output_type": "stream",
          "name": "stdout",
          "text": [
            "first_active_month 2017-11    105351\n",
            "2017-10    101691\n",
            "2017-12     97818\n",
            "2017-09     95120\n",
            "2017-08     91182\n",
            "            ...  \n",
            "2012-03        59\n",
            "2012-02        40\n",
            "2011-11        29\n",
            "2011-12         4\n",
            "2018-02         1\n",
            "Name: first_active_month, Length: 75, dtype: int64\n",
            "card_id C_ID_b7ebee6539    109\n",
            "C_ID_c729288535    106\n",
            "C_ID_8946508722    104\n",
            "C_ID_4e8e856f1a     99\n",
            "C_ID_8e0c15d39b     95\n",
            "                  ... \n",
            "C_ID_a5989cd2ab      1\n",
            "C_ID_36bc03e6f8      1\n",
            "C_ID_827ea66312      1\n",
            "C_ID_6c126bd7ff      1\n",
            "C_ID_84e4ce845a      1\n",
            "Name: card_id, Length: 201917, dtype: int64\n",
            "authorized_flag Y    1241616\n",
            "Name: authorized_flag, dtype: int64\n",
            "category_1 N    1202505\n",
            "Y      39111\n",
            "Name: category_1, dtype: int64\n",
            "category_3 A    629476\n",
            "B    519792\n",
            "C     92348\n",
            "Name: category_3, dtype: int64\n",
            "merchant_id M_ID_00a6ca8a8a    52571\n",
            "M_ID_cd2c0b07e9    11810\n",
            "M_ID_9139332ccc     8824\n",
            "M_ID_50f575c681     8598\n",
            "M_ID_725a60d404     4356\n",
            "                   ...  \n",
            "M_ID_801b170de0        1\n",
            "M_ID_e87011ef35        1\n",
            "M_ID_bd08f697d5        1\n",
            "M_ID_c35d897f1d        1\n",
            "M_ID_62664cd0ae        1\n",
            "Name: merchant_id, Length: 193809, dtype: int64\n",
            "purchase_date 2017-11-18 00:00:00    22289\n",
            "2017-11-25 00:00:00      332\n",
            "2017-11-24 00:00:00      328\n",
            "2017-11-03 00:00:00      321\n",
            "2017-11-30 00:00:00      312\n",
            "                       ...  \n",
            "2018-04-06 15:53:56        1\n",
            "2018-04-29 21:56:16        1\n",
            "2018-04-22 16:34:57        1\n",
            "2018-04-07 09:35:56        1\n",
            "2018-04-24 12:12:09        1\n",
            "Name: purchase_date, Length: 1095261, dtype: int64\n"
          ]
        }
      ]
    },
    {
      "cell_type": "code",
      "source": [
        "categorical_features = [\n",
        " 'category_1',\n",
        " 'category_3',]"
      ],
      "metadata": {
        "id": "hjzV8b53n2Si"
      },
      "execution_count": 46,
      "outputs": []
    },
    {
      "cell_type": "code",
      "source": [
        "for feature in categorical_features:\n",
        "    data=elo_data.copy()\n",
        "    data.groupby(feature)['target'].mean().plot.bar()\n",
        "    plt.xlabel(feature)\n",
        "    plt.ylabel('target')\n",
        "    plt.title(feature)\n",
        "    plt.show()"
      ],
      "metadata": {
        "colab": {
          "base_uri": "https://localhost:8080/",
          "height": 570
        },
        "id": "JT0yzJV-oXLC",
        "outputId": "811c3e95-d550-47be-c8f5-e6517b412f72"
      },
      "execution_count": 47,
      "outputs": [
        {
          "output_type": "display_data",
          "data": {
            "text/plain": [
              "<Figure size 432x288 with 1 Axes>"
            ],
            "image/png": "[encoded data removed]"
          },
          "metadata": {
            "needs_background": "light"
          }
        },
        {
          "output_type": "display_data",
          "data": {
            "text/plain": [
              "<Figure size 432x288 with 1 Axes>"
            ],
            "image/png": "[encoded data removed]"
          },
          "metadata": {
            "needs_background": "light"
          }
        }
      ]
    },
    {
      "cell_type": "code",
      "source": [
        "dict1={'N':0,'Y':1}\n",
        "dict2={'A':1,'B':0,'C':2}"
      ],
      "metadata": {
        "id": "2zz22i5LoaP9"
      },
      "execution_count": 48,
      "outputs": []
    },
    {
      "cell_type": "code",
      "source": [
        "elo_data['category_1']=elo_data['category_1'].map(dict1)\n",
        "elo_data['category_3']=elo_data['category_3'].map(dict2)"
      ],
      "metadata": {
        "id": "nysfVO2VpZUO"
      },
      "execution_count": 49,
      "outputs": []
    },
    {
      "cell_type": "code",
      "source": [
        "categorical_drop_list = ['first_active_month',\n",
        " 'authorized_flag',\n",
        " 'merchant_id']"
      ],
      "metadata": {
        "id": "a8UmCDeHp1gC"
      },
      "execution_count": 50,
      "outputs": []
    },
    {
      "cell_type": "code",
      "source": [
        "elo_data.drop(categorical_drop_list, inplace=True, axis=1)"
      ],
      "metadata": {
        "id": "my6rYjELqTds"
      },
      "execution_count": 51,
      "outputs": []
    },
    {
      "cell_type": "code",
      "source": [
        "elo_data.info()"
      ],
      "metadata": {
        "colab": {
          "base_uri": "https://localhost:8080/"
        },
        "id": "GxpvIFGLqZda",
        "outputId": "6c9c2bec-aca7-42bd-f8c9-45ea767ac1d3"
      },
      "execution_count": 52,
      "outputs": [
        {
          "output_type": "stream",
          "name": "stdout",
          "text": [
            "<class 'pandas.core.frame.DataFrame'>\n",
            "Int64Index: 1241616 entries, 0 to 1241615\n",
            "Data columns (total 13 columns):\n",
            " #   Column         Non-Null Count    Dtype  \n",
            "---  ------         --------------    -----  \n",
            " 0   card_id        1241616 non-null  object \n",
            " 1   feature_1      1241616 non-null  int64  \n",
            " 2   feature_2      1241616 non-null  int64  \n",
            " 3   feature_3      1241616 non-null  int64  \n",
            " 4   target         1241616 non-null  float64\n",
            " 5   year           1241616 non-null  int64  \n",
            " 6   month          1241616 non-null  int64  \n",
            " 7   city_id        1241616 non-null  float64\n",
            " 8   category_1     1241616 non-null  int64  \n",
            " 9   installments   1241616 non-null  float64\n",
            " 10  category_3     1241616 non-null  int64  \n",
            " 11  month_lag      1241616 non-null  float64\n",
            " 12  purchase_date  1241616 non-null  object \n",
            "dtypes: float64(4), int64(7), object(2)\n",
            "memory usage: 132.6+ MB\n"
          ]
        }
      ]
    },
    {
      "cell_type": "code",
      "source": [
        "elo_data['purchase_date'] = pd.to_datetime(elo_data['purchase_date'], format = '%Y-%m-%d %H:%M:%S')"
      ],
      "metadata": {
        "id": "1N9otRXwqgo3"
      },
      "execution_count": 53,
      "outputs": []
    },
    {
      "cell_type": "code",
      "source": [
        "elo_data['purchase_date_year'] = elo_data['purchase_date'].dt.year\n",
        "elo_data['purchase_date_month'] = elo_data['purchase_date'].dt.month\n",
        "elo_data['purchase_date_week'] = elo_data['purchase_date'].dt.week\n",
        "elo_data['purchase_date_day'] = elo_data['purchase_date'].dt.day\n",
        "elo_data['purchase_date_hour'] = elo_data['purchase_date'].dt.hour\n",
        "elo_data['purchase_date_minute'] = elo_data['purchase_date'].dt.minute\n",
        "elo_data['purchase_date_dayofweek'] = elo_data['purchase_date'].dt.dayofweek"
      ],
      "metadata": {
        "colab": {
          "base_uri": "https://localhost:8080/"
        },
        "id": "9yRmhmfMrdvg",
        "outputId": "c9346806-309e-4f4e-848a-30cb0df58165"
      },
      "execution_count": 54,
      "outputs": [
        {
          "output_type": "stream",
          "name": "stderr",
          "text": [
            "/usr/local/lib/python3.7/dist-packages/ipykernel_launcher.py:3: FutureWarning: Series.dt.weekofyear and Series.dt.week have been deprecated.  Please use Series.dt.isocalendar().week instead.\n",
            "  This is separate from the ipykernel package so we can avoid doing imports until\n"
          ]
        }
      ]
    },
    {
      "cell_type": "code",
      "source": [
        "elo_data.drop(\"purchase_date\",inplace=True, axis=1)"
      ],
      "metadata": {
        "id": "dT8Z0IGvrxkt"
      },
      "execution_count": 55,
      "outputs": []
    },
    {
      "cell_type": "code",
      "source": [
        "date_features = ['purchase_date_year', 'purchase_date_month', 'purchase_date_week', 'purchase_date_day', 'purchase_date_hour', 'purchase_date_minute', 'purchase_date_dayofweek']"
      ],
      "metadata": {
        "id": "esHs3GPpr6kl"
      },
      "execution_count": 56,
      "outputs": []
    },
    {
      "cell_type": "code",
      "source": [
        "for feature in date_features:\n",
        "    data=elo_data.copy()\n",
        "    data.groupby(feature)['target'].mean().plot.bar()\n",
        "    plt.xlabel(feature)\n",
        "    plt.ylabel('target')\n",
        "    plt.title(feature)\n",
        "    plt.show()"
      ],
      "metadata": {
        "colab": {
          "base_uri": "https://localhost:8080/",
          "height": 1000
        },
        "id": "tnZC2qIzsA3K",
        "outputId": "6bb77215-d8ac-4389-8040-ef9b06b55a37"
      },
      "execution_count": 57,
      "outputs": [
        {
          "output_type": "display_data",
          "data": {
            "text/plain": [
              "<Figure size 432x288 with 1 Axes>"
            ],
            "image/png": "[encoded data removed]"
          },
          "metadata": {
            "needs_background": "light"
          }
        },
        {
          "output_type": "display_data",
          "data": {
            "text/plain": [
              "<Figure size 432x288 with 1 Axes>"
            ],
            "image/png": "[encoded data removed]"
          },
          "metadata": {
            "needs_background": "light"
          }
        },
        {
          "output_type": "display_data",
          "data": {
            "text/plain": [
              "<Figure size 432x288 with 1 Axes>"
            ],
            "image/png": "[encoded data removed]"
          },
          "metadata": {
            "needs_background": "light"
          }
        },
        {
          "output_type": "display_data",
          "data": {
            "text/plain": [
              "<Figure size 432x288 with 1 Axes>"
            ],
            "image/png": "[encoded data removed]"
          },
          "metadata": {
            "needs_background": "light"
          }
        },
        {
          "output_type": "display_data",
          "data": {
            "text/plain": [
              "<Figure size 432x288 with 1 Axes>"
            ],
            "image/png": "[encoded data removed]"
          },
          "metadata": {
            "needs_background": "light"
          }
        },
        {
          "output_type": "display_data",
          "data": {
            "text/plain": [
              "<Figure size 432x288 with 1 Axes>"
            ],
            "image/png": "[encoded data removed]"
          },
          "metadata": {
            "needs_background": "light"
          }
        },
        {
          "output_type": "display_data",
          "data": {
            "text/plain": [
              "<Figure size 432x288 with 1 Axes>"
            ],
            "image/png": "[encoded data removed]"
          },
          "metadata": {
            "needs_background": "light"
          }
        }
      ]
    },
    {
      "cell_type": "code",
      "source": [
        "from sklearn.preprocessing import KBinsDiscretizer"
      ],
      "metadata": {
        "id": "o4zHo0LNsCQM"
      },
      "execution_count": 58,
      "outputs": []
    },
    {
      "cell_type": "code",
      "source": [
        "est1 = KBinsDiscretizer(n_bins=5, encode='ordinal', strategy='quantile')"
      ],
      "metadata": {
        "id": "Nxbdza51wIuC"
      },
      "execution_count": 59,
      "outputs": []
    },
    {
      "cell_type": "code",
      "source": [
        "data = elo_data.copy()"
      ],
      "metadata": {
        "id": "R-dhA0W3wjpO"
      },
      "execution_count": 60,
      "outputs": []
    },
    {
      "cell_type": "code",
      "source": [
        "est1.fit(data[['purchase_date_week']])"
      ],
      "metadata": {
        "colab": {
          "base_uri": "https://localhost:8080/"
        },
        "id": "-RPsji8awcmh",
        "outputId": "df2550dd-9b15-445e-d0f6-ea4e05d916af"
      },
      "execution_count": 61,
      "outputs": [
        {
          "output_type": "execute_result",
          "data": {
            "text/plain": [
              "KBinsDiscretizer(encode='ordinal')"
            ]
          },
          "metadata": {},
          "execution_count": 61
        }
      ]
    },
    {
      "cell_type": "code",
      "source": [
        "data[['purchase_date_week']] = est1.transform(data[['purchase_date_week']])"
      ],
      "metadata": {
        "id": "rid_kNxzwwqG"
      },
      "execution_count": 62,
      "outputs": []
    },
    {
      "cell_type": "code",
      "source": [
        "data.groupby('purchase_date_week')['target'].mean().plot.bar()\n",
        "plt.xlabel('purchase_date_week')\n",
        "plt.ylabel('target')\n",
        "plt.title('purchase_date_week')\n",
        "plt.show()"
      ],
      "metadata": {
        "colab": {
          "base_uri": "https://localhost:8080/",
          "height": 302
        },
        "id": "FHFZxNpgw6RL",
        "outputId": "1cd45423-7905-47db-8ce7-f4b191d51afc"
      },
      "execution_count": 63,
      "outputs": [
        {
          "output_type": "display_data",
          "data": {
            "text/plain": [
              "<Figure size 432x288 with 1 Axes>"
            ],
            "image/png": "[encoded data removed]"
          },
          "metadata": {
            "needs_background": "light"
          }
        }
      ]
    },
    {
      "cell_type": "code",
      "source": [
        "est2 = KBinsDiscretizer(n_bins=3, encode='ordinal', strategy='quantile')"
      ],
      "metadata": {
        "id": "sBX__71Sxjif"
      },
      "execution_count": 64,
      "outputs": []
    },
    {
      "cell_type": "code",
      "source": [
        "est2.fit(data[['purchase_date_day']])"
      ],
      "metadata": {
        "colab": {
          "base_uri": "https://localhost:8080/"
        },
        "outputId": "f333ac76-569d-4af0-ee0b-da4f44aa766b",
        "id": "uzHE1-LSxjig"
      },
      "execution_count": 65,
      "outputs": [
        {
          "output_type": "execute_result",
          "data": {
            "text/plain": [
              "KBinsDiscretizer(encode='ordinal', n_bins=3)"
            ]
          },
          "metadata": {},
          "execution_count": 65
        }
      ]
    },
    {
      "cell_type": "code",
      "source": [
        "data[['purchase_date_day']] = est2.transform(data[['purchase_date_day']])"
      ],
      "metadata": {
        "id": "uzysS5Y2xjig"
      },
      "execution_count": 66,
      "outputs": []
    },
    {
      "cell_type": "code",
      "source": [
        "data.groupby('purchase_date_day')['target'].mean().plot.bar()\n",
        "plt.xlabel('purchase_date_day')\n",
        "plt.ylabel('target')\n",
        "plt.title('purchase_date_day')\n",
        "plt.show()"
      ],
      "metadata": {
        "colab": {
          "base_uri": "https://localhost:8080/",
          "height": 302
        },
        "outputId": "ba84084a-39c7-408c-9d77-5659184493d4",
        "id": "-MRphVg-xjig"
      },
      "execution_count": 67,
      "outputs": [
        {
          "output_type": "display_data",
          "data": {
            "text/plain": [
              "<Figure size 432x288 with 1 Axes>"
            ],
            "image/png": "[encoded data removed]"
          },
          "metadata": {
            "needs_background": "light"
          }
        }
      ]
    },
    {
      "cell_type": "code",
      "source": [
        "est3 = KBinsDiscretizer(n_bins=3, encode='ordinal', strategy='quantile')"
      ],
      "metadata": {
        "id": "PCoZBbI1ydHs"
      },
      "execution_count": 68,
      "outputs": []
    },
    {
      "cell_type": "code",
      "source": [
        "est3.fit(data[['purchase_date_hour']])"
      ],
      "metadata": {
        "colab": {
          "base_uri": "https://localhost:8080/"
        },
        "outputId": "02fcb86d-ef8d-49bf-9e42-c71b4381665f",
        "id": "UKTF4wJcydHs"
      },
      "execution_count": 69,
      "outputs": [
        {
          "output_type": "execute_result",
          "data": {
            "text/plain": [
              "KBinsDiscretizer(encode='ordinal', n_bins=3)"
            ]
          },
          "metadata": {},
          "execution_count": 69
        }
      ]
    },
    {
      "cell_type": "code",
      "source": [
        "data[['purchase_date_hour']] = est3.transform(data[['purchase_date_hour']])"
      ],
      "metadata": {
        "id": "4yii77GXydHt"
      },
      "execution_count": 70,
      "outputs": []
    },
    {
      "cell_type": "code",
      "source": [
        "data.groupby('purchase_date_hour')['target'].mean().plot.bar()\n",
        "plt.xlabel('purchase_date_hour')\n",
        "plt.ylabel('target')\n",
        "plt.title('purchase_date_hour')\n",
        "plt.show()"
      ],
      "metadata": {
        "colab": {
          "base_uri": "https://localhost:8080/",
          "height": 302
        },
        "outputId": "1965a134-1dc3-4464-8888-2debbd938375",
        "id": "NLyFixgHydHt"
      },
      "execution_count": 71,
      "outputs": [
        {
          "output_type": "display_data",
          "data": {
            "text/plain": [
              "<Figure size 432x288 with 1 Axes>"
            ],
            "image/png": "[encoded data removed]"
          },
          "metadata": {
            "needs_background": "light"
          }
        }
      ]
    },
    {
      "cell_type": "code",
      "source": [
        "elo_data[['purchase_date_week']] = est1.transform(elo_data[['purchase_date_week']])\n",
        "elo_data[['purchase_date_day']] = est2.transform(elo_data[['purchase_date_day']])\n",
        "elo_data[['purchase_date_hour']] = est3.transform(elo_data[['purchase_date_hour']])"
      ],
      "metadata": {
        "id": "YIiBoblF0M6_"
      },
      "execution_count": 72,
      "outputs": []
    },
    {
      "cell_type": "code",
      "source": [
        "date_drop_list = ['purchase_date_dayofweek', 'purchase_date_minute']"
      ],
      "metadata": {
        "id": "WwedtZGfzCzt"
      },
      "execution_count": 73,
      "outputs": []
    },
    {
      "cell_type": "code",
      "source": [
        "elo_data.drop(date_drop_list, inplace=True, axis=1)"
      ],
      "metadata": {
        "id": "0A9MJN870n11"
      },
      "execution_count": 74,
      "outputs": []
    },
    {
      "cell_type": "code",
      "source": [
        "elo_data.info()"
      ],
      "metadata": {
        "colab": {
          "base_uri": "https://localhost:8080/"
        },
        "id": "4L_x9Jas1Cpa",
        "outputId": "4211c199-9110-4858-88b7-6f17cd056583"
      },
      "execution_count": 75,
      "outputs": [
        {
          "output_type": "stream",
          "name": "stdout",
          "text": [
            "<class 'pandas.core.frame.DataFrame'>\n",
            "Int64Index: 1241616 entries, 0 to 1241615\n",
            "Data columns (total 17 columns):\n",
            " #   Column               Non-Null Count    Dtype  \n",
            "---  ------               --------------    -----  \n",
            " 0   card_id              1241616 non-null  object \n",
            " 1   feature_1            1241616 non-null  int64  \n",
            " 2   feature_2            1241616 non-null  int64  \n",
            " 3   feature_3            1241616 non-null  int64  \n",
            " 4   target               1241616 non-null  float64\n",
            " 5   year                 1241616 non-null  int64  \n",
            " 6   month                1241616 non-null  int64  \n",
            " 7   city_id              1241616 non-null  float64\n",
            " 8   category_1           1241616 non-null  int64  \n",
            " 9   installments         1241616 non-null  float64\n",
            " 10  category_3           1241616 non-null  int64  \n",
            " 11  month_lag            1241616 non-null  float64\n",
            " 12  purchase_date_year   1241616 non-null  int64  \n",
            " 13  purchase_date_month  1241616 non-null  int64  \n",
            " 14  purchase_date_week   1241616 non-null  float64\n",
            " 15  purchase_date_day    1241616 non-null  float64\n",
            " 16  purchase_date_hour   1241616 non-null  float64\n",
            "dtypes: float64(7), int64(9), object(1)\n",
            "memory usage: 170.5+ MB\n"
          ]
        }
      ]
    },
    {
      "cell_type": "code",
      "source": [
        "elo_data.to_csv('train_dataset.csv')"
      ],
      "metadata": {
        "id": "qnixclU67tKU"
      },
      "execution_count": 144,
      "outputs": []
    },
    {
      "cell_type": "code",
      "source": [
        "X = elo_data.drop([\"card_id\",\"target\"],axis=1)\n",
        "y = elo_data[\"target\"]"
      ],
      "metadata": {
        "id": "g1lsL6p71FJ7"
      },
      "execution_count": 76,
      "outputs": []
    },
    {
      "cell_type": "code",
      "source": [
        "X.shape"
      ],
      "metadata": {
        "colab": {
          "base_uri": "https://localhost:8080/"
        },
        "id": "GCsjzkDuEY5V",
        "outputId": "ad49973d-1bc0-4a72-956b-ab17cbc6ef40"
      },
      "execution_count": 77,
      "outputs": [
        {
          "output_type": "execute_result",
          "data": {
            "text/plain": [
              "(1241616, 15)"
            ]
          },
          "metadata": {},
          "execution_count": 77
        }
      ]
    },
    {
      "cell_type": "code",
      "source": [
        "final_columns = X.columns"
      ],
      "metadata": {
        "id": "XysmeUye7v6m"
      },
      "execution_count": 78,
      "outputs": []
    },
    {
      "cell_type": "code",
      "source": [
        "final_columns"
      ],
      "metadata": {
        "colab": {
          "base_uri": "https://localhost:8080/"
        },
        "id": "Ntl7W9gH70mE",
        "outputId": "5b4775cc-dde0-48db-98ac-ac4855c10505"
      },
      "execution_count": 79,
      "outputs": [
        {
          "output_type": "execute_result",
          "data": {
            "text/plain": [
              "Index(['feature_1', 'feature_2', 'feature_3', 'year', 'month', 'city_id',\n",
              "       'category_1', 'installments', 'category_3', 'month_lag',\n",
              "       'purchase_date_year', 'purchase_date_month', 'purchase_date_week',\n",
              "       'purchase_date_day', 'purchase_date_hour'],\n",
              "      dtype='object')"
            ]
          },
          "metadata": {},
          "execution_count": 79
        }
      ]
    },
    {
      "cell_type": "code",
      "source": [
        "from sklearn.model_selection import train_test_split"
      ],
      "metadata": {
        "id": "BRkBrtJR1Yhe"
      },
      "execution_count": 80,
      "outputs": []
    },
    {
      "cell_type": "code",
      "source": [
        "from sklearn.metrics import mean_squared_error"
      ],
      "metadata": {
        "id": "XCmLTOoq1aa-"
      },
      "execution_count": 81,
      "outputs": []
    },
    {
      "cell_type": "code",
      "source": [
        "X_train, X_test, y_train, y_test = train_test_split(X, y, test_size=0.3, random_state=101)"
      ],
      "metadata": {
        "id": "BsN92-xU1boo"
      },
      "execution_count": 82,
      "outputs": []
    },
    {
      "cell_type": "code",
      "source": [
        "regressor = DecisionTreeRegressor(max_depth=6, random_state=42)"
      ],
      "metadata": {
        "id": "bhdf1vJ41c8v"
      },
      "execution_count": 83,
      "outputs": []
    },
    {
      "cell_type": "code",
      "source": [
        "regressor.fit(X_train,y_train)"
      ],
      "metadata": {
        "colab": {
          "base_uri": "https://localhost:8080/"
        },
        "id": "oYsS3-MV1fQf",
        "outputId": "d6b8024b-6d67-44f5-aa00-56761a7d03e5"
      },
      "execution_count": 84,
      "outputs": [
        {
          "output_type": "execute_result",
          "data": {
            "text/plain": [
              "DecisionTreeRegressor(max_depth=6, random_state=42)"
            ]
          },
          "metadata": {},
          "execution_count": 84
        }
      ]
    },
    {
      "cell_type": "code",
      "source": [
        "y_train_pred = regressor.predict(X_train)"
      ],
      "metadata": {
        "id": "FAzSLN0n1gyX"
      },
      "execution_count": 85,
      "outputs": []
    },
    {
      "cell_type": "code",
      "source": [
        "mean_squared_error(y_train,y_train_pred,squared=False)"
      ],
      "metadata": {
        "colab": {
          "base_uri": "https://localhost:8080/"
        },
        "id": "3xmIdZyg1iUk",
        "outputId": "deb4b1ff-2d05-4c20-91ac-887c33f120cc"
      },
      "execution_count": 86,
      "outputs": [
        {
          "output_type": "execute_result",
          "data": {
            "text/plain": [
              "2.928565068685497"
            ]
          },
          "metadata": {},
          "execution_count": 86
        }
      ]
    },
    {
      "cell_type": "code",
      "source": [
        "y_test_pred = regressor.predict(X_test)"
      ],
      "metadata": {
        "id": "bKVZnifv1jmP"
      },
      "execution_count": 87,
      "outputs": []
    },
    {
      "cell_type": "code",
      "source": [
        "mean_squared_error(y_test,y_test_pred,squared=False)"
      ],
      "metadata": {
        "colab": {
          "base_uri": "https://localhost:8080/"
        },
        "id": "wepI8IWG1lPf",
        "outputId": "9af3cdc7-03dc-4ed8-e6b5-36fbf7828d20"
      },
      "execution_count": 88,
      "outputs": [
        {
          "output_type": "execute_result",
          "data": {
            "text/plain": [
              "2.9198713894575867"
            ]
          },
          "metadata": {},
          "execution_count": 88
        }
      ]
    },
    {
      "cell_type": "markdown",
      "source": [
        "##Manipulate the test data"
      ],
      "metadata": {
        "id": "MYY3smRd2P9C"
      }
    },
    {
      "cell_type": "code",
      "source": [
        "test_dataset = pd.read_csv('dataset/test.csv')"
      ],
      "metadata": {
        "id": "tnx-u55-1mzP"
      },
      "execution_count": 89,
      "outputs": []
    },
    {
      "cell_type": "code",
      "source": [
        "test_dataset.info()"
      ],
      "metadata": {
        "colab": {
          "base_uri": "https://localhost:8080/"
        },
        "id": "19CNB4V12V9p",
        "outputId": "91e6ddfc-7947-4de3-f801-af910a5a8407"
      },
      "execution_count": 90,
      "outputs": [
        {
          "output_type": "stream",
          "name": "stdout",
          "text": [
            "<class 'pandas.core.frame.DataFrame'>\n",
            "RangeIndex: 123623 entries, 0 to 123622\n",
            "Data columns (total 5 columns):\n",
            " #   Column              Non-Null Count   Dtype \n",
            "---  ------              --------------   ----- \n",
            " 0   first_active_month  123622 non-null  object\n",
            " 1   card_id             123623 non-null  object\n",
            " 2   feature_1           123623 non-null  int64 \n",
            " 3   feature_2           123623 non-null  int64 \n",
            " 4   feature_3           123623 non-null  int64 \n",
            "dtypes: int64(3), object(2)\n",
            "memory usage: 4.7+ MB\n"
          ]
        }
      ]
    },
    {
      "cell_type": "code",
      "source": [
        "test_dataset.shape"
      ],
      "metadata": {
        "colab": {
          "base_uri": "https://localhost:8080/"
        },
        "id": "uYOQnCEg2XNQ",
        "outputId": "17b32bd8-ff8a-42dc-e50d-68fad4780964"
      },
      "execution_count": 91,
      "outputs": [
        {
          "output_type": "execute_result",
          "data": {
            "text/plain": [
              "(123623, 5)"
            ]
          },
          "metadata": {},
          "execution_count": 91
        }
      ]
    },
    {
      "cell_type": "code",
      "source": [
        "test_dataset[\"year\"]=0\n",
        "test_dataset[\"first_active_month\"] = test_dataset[\"first_active_month\"].fillna(\"2017-09\")\n",
        "for i in range(test_dataset.shape[0]):\n",
        "  test_dataset['year'][i] = int(test_dataset.iloc[i][0][0:4])\n",
        "test_dataset[\"month\"]=0\n",
        "for i in range(test_dataset.shape[0]):\n",
        "  test_dataset['month'][i] = int(test_dataset.iloc[i][0][5:7])"
      ],
      "metadata": {
        "colab": {
          "base_uri": "https://localhost:8080/"
        },
        "id": "LGZVB9HR79Iu",
        "outputId": "24ab497d-a175-4305-b1a6-c7de0e3a9df2"
      },
      "execution_count": 92,
      "outputs": [
        {
          "output_type": "stream",
          "name": "stderr",
          "text": [
            "/usr/local/lib/python3.7/dist-packages/ipykernel_launcher.py:4: SettingWithCopyWarning: \n",
            "A value is trying to be set on a copy of a slice from a DataFrame\n",
            "\n",
            "See the caveats in the documentation: https://pandas.pydata.org/pandas-docs/stable/user_guide/indexing.html#returning-a-view-versus-a-copy\n",
            "  after removing the cwd from sys.path.\n",
            "/usr/local/lib/python3.7/dist-packages/ipykernel_launcher.py:7: SettingWithCopyWarning: \n",
            "A value is trying to be set on a copy of a slice from a DataFrame\n",
            "\n",
            "See the caveats in the documentation: https://pandas.pydata.org/pandas-docs/stable/user_guide/indexing.html#returning-a-view-versus-a-copy\n",
            "  import sys\n"
          ]
        }
      ]
    },
    {
      "cell_type": "code",
      "source": [
        "test_merged = pd.merge(test_dataset, new_tran, how=\"left\", on=[\"card_id\"])"
      ],
      "metadata": {
        "id": "0W5RKx3T2bW-"
      },
      "execution_count": 93,
      "outputs": []
    },
    {
      "cell_type": "code",
      "source": [
        "test_merged.shape"
      ],
      "metadata": {
        "colab": {
          "base_uri": "https://localhost:8080/"
        },
        "id": "a7gMa3Sv4Zbr",
        "outputId": "13fdc1dc-1262-4865-ef94-5ec072d51f3e"
      },
      "execution_count": 94,
      "outputs": [
        {
          "output_type": "execute_result",
          "data": {
            "text/plain": [
              "(756954, 20)"
            ]
          },
          "metadata": {},
          "execution_count": 94
        }
      ]
    },
    {
      "cell_type": "code",
      "source": [
        "test_merged.isnull().mean()"
      ],
      "metadata": {
        "colab": {
          "base_uri": "https://localhost:8080/"
        },
        "id": "63H41F814ccy",
        "outputId": "52370493-4b83-49f6-95c0-f8c18da9b2cb"
      },
      "execution_count": 95,
      "outputs": [
        {
          "output_type": "execute_result",
          "data": {
            "text/plain": [
              "first_active_month      0.000000\n",
              "card_id                 0.000000\n",
              "feature_1               0.000000\n",
              "feature_2               0.000000\n",
              "feature_3               0.000000\n",
              "year                    0.000000\n",
              "month                   0.000000\n",
              "authorized_flag         0.017977\n",
              "city_id                 0.017977\n",
              "category_1              0.017977\n",
              "installments            0.017977\n",
              "category_3              0.017977\n",
              "merchant_category_id    0.017977\n",
              "merchant_id             0.017977\n",
              "month_lag               0.017977\n",
              "purchase_amount         0.017977\n",
              "purchase_date           0.017977\n",
              "category_2              0.017977\n",
              "state_id                0.017977\n",
              "subsector_id            0.017977\n",
              "dtype: float64"
            ]
          },
          "metadata": {},
          "execution_count": 95
        }
      ]
    },
    {
      "cell_type": "code",
      "source": [
        "features_with_na=[features for features in test_merged.columns if test_merged[features].isnull().sum()>0]"
      ],
      "metadata": {
        "id": "f70IzZXw458_"
      },
      "execution_count": 96,
      "outputs": []
    },
    {
      "cell_type": "code",
      "source": [
        "features_with_na"
      ],
      "metadata": {
        "colab": {
          "base_uri": "https://localhost:8080/"
        },
        "id": "OT-Avwli5TN9",
        "outputId": "6f8040b0-0238-47fb-bd36-5030fb2cac2c"
      },
      "execution_count": 97,
      "outputs": [
        {
          "output_type": "execute_result",
          "data": {
            "text/plain": [
              "['authorized_flag',\n",
              " 'city_id',\n",
              " 'category_1',\n",
              " 'installments',\n",
              " 'category_3',\n",
              " 'merchant_category_id',\n",
              " 'merchant_id',\n",
              " 'month_lag',\n",
              " 'purchase_amount',\n",
              " 'purchase_date',\n",
              " 'category_2',\n",
              " 'state_id',\n",
              " 'subsector_id']"
            ]
          },
          "metadata": {},
          "execution_count": 97
        }
      ]
    },
    {
      "cell_type": "code",
      "source": [
        "for i in features_with_na:\n",
        "  test_merged[i].fillna(test_merged[i].mode()[0], inplace=True)"
      ],
      "metadata": {
        "id": "k8i6W3Ry4jXm"
      },
      "execution_count": 98,
      "outputs": []
    },
    {
      "cell_type": "code",
      "source": [
        "test_merged.isnull().sum()"
      ],
      "metadata": {
        "colab": {
          "base_uri": "https://localhost:8080/"
        },
        "id": "no30n5RO5Dpk",
        "outputId": "8281ade9-d2c0-4f7f-d078-0c431db81e2c"
      },
      "execution_count": 99,
      "outputs": [
        {
          "output_type": "execute_result",
          "data": {
            "text/plain": [
              "first_active_month      0\n",
              "card_id                 0\n",
              "feature_1               0\n",
              "feature_2               0\n",
              "feature_3               0\n",
              "year                    0\n",
              "month                   0\n",
              "authorized_flag         0\n",
              "city_id                 0\n",
              "category_1              0\n",
              "installments            0\n",
              "category_3              0\n",
              "merchant_category_id    0\n",
              "merchant_id             0\n",
              "month_lag               0\n",
              "purchase_amount         0\n",
              "purchase_date           0\n",
              "category_2              0\n",
              "state_id                0\n",
              "subsector_id            0\n",
              "dtype: int64"
            ]
          },
          "metadata": {},
          "execution_count": 99
        }
      ]
    },
    {
      "cell_type": "code",
      "source": [
        "dict1={'N':0,'Y':1}\n",
        "dict2={'A':1,'B':0,'C':2}"
      ],
      "metadata": {
        "id": "Xu7RvejW6IJY"
      },
      "execution_count": 100,
      "outputs": []
    },
    {
      "cell_type": "code",
      "source": [
        "test_merged['category_1']=test_merged['category_1'].map(dict1)\n",
        "test_merged['category_3']=test_merged['category_3'].map(dict2)"
      ],
      "metadata": {
        "id": "GaCAv2I06IJY"
      },
      "execution_count": 101,
      "outputs": []
    },
    {
      "cell_type": "code",
      "source": [
        "test_merged['purchase_date'] = pd.to_datetime(test_merged['purchase_date'], format = '%Y-%m-%d %H:%M:%S')"
      ],
      "metadata": {
        "id": "3pAVsNqL6f3W"
      },
      "execution_count": 102,
      "outputs": []
    },
    {
      "cell_type": "code",
      "source": [
        "test_merged['purchase_date_year'] = test_merged['purchase_date'].dt.year\n",
        "test_merged['purchase_date_month'] = test_merged['purchase_date'].dt.month\n",
        "test_merged['purchase_date_week'] = test_merged['purchase_date'].dt.week\n",
        "test_merged['purchase_date_day'] = test_merged['purchase_date'].dt.day\n",
        "test_merged['purchase_date_hour'] = test_merged['purchase_date'].dt.hour\n",
        "test_merged['purchase_date_minute'] = test_merged['purchase_date'].dt.minute\n",
        "test_merged['purchase_date_dayofweek'] = test_merged['purchase_date'].dt.dayofweek"
      ],
      "metadata": {
        "colab": {
          "base_uri": "https://localhost:8080/"
        },
        "outputId": "02e4f42d-541c-4c8e-c337-c674ef5a08e2",
        "id": "SY-GT_JL6f3X"
      },
      "execution_count": 103,
      "outputs": [
        {
          "output_type": "stream",
          "name": "stderr",
          "text": [
            "/usr/local/lib/python3.7/dist-packages/ipykernel_launcher.py:3: FutureWarning: Series.dt.weekofyear and Series.dt.week have been deprecated.  Please use Series.dt.isocalendar().week instead.\n",
            "  This is separate from the ipykernel package so we can avoid doing imports until\n"
          ]
        }
      ]
    },
    {
      "cell_type": "code",
      "source": [
        "test_merged.drop(\"purchase_date\",inplace=True, axis=1)"
      ],
      "metadata": {
        "id": "Ul3iaypk6f3X"
      },
      "execution_count": 104,
      "outputs": []
    },
    {
      "cell_type": "code",
      "source": [
        "date_features = ['purchase_date_year', 'purchase_date_month', 'purchase_date_week', 'purchase_date_day', 'purchase_date_hour', 'purchase_date_minute', 'purchase_date_dayofweek']"
      ],
      "metadata": {
        "id": "gU7Ft9bs6f3X"
      },
      "execution_count": 105,
      "outputs": []
    },
    {
      "cell_type": "code",
      "source": [
        "test_merged[['purchase_date_week']] = est1.transform(test_merged[['purchase_date_week']])\n",
        "test_merged[['purchase_date_day']] = est2.transform(test_merged[['purchase_date_day']])\n",
        "test_merged[['purchase_date_hour']] = est3.transform(test_merged[['purchase_date_hour']])"
      ],
      "metadata": {
        "id": "a454WDk-6f3d"
      },
      "execution_count": 106,
      "outputs": []
    },
    {
      "cell_type": "code",
      "source": [
        "final_columns"
      ],
      "metadata": {
        "colab": {
          "base_uri": "https://localhost:8080/"
        },
        "id": "MGZ90xZbIrXo",
        "outputId": "4065ac2a-8bd8-432f-f800-61d4ec91ec3c"
      },
      "execution_count": 107,
      "outputs": [
        {
          "output_type": "execute_result",
          "data": {
            "text/plain": [
              "Index(['feature_1', 'feature_2', 'feature_3', 'year', 'month', 'city_id',\n",
              "       'category_1', 'installments', 'category_3', 'month_lag',\n",
              "       'purchase_date_year', 'purchase_date_month', 'purchase_date_week',\n",
              "       'purchase_date_day', 'purchase_date_hour'],\n",
              "      dtype='object')"
            ]
          },
          "metadata": {},
          "execution_count": 107
        }
      ]
    },
    {
      "cell_type": "code",
      "source": [
        "fets = ['feature_1', 'feature_2', 'feature_3', 'year', 'month', 'city_id',\n",
        "       'category_1', 'installments', 'category_3', 'month_lag',\n",
        "       'purchase_date_year', 'purchase_date_month', 'purchase_date_week',\n",
        "       'purchase_date_day', 'purchase_date_hour','card_id']"
      ],
      "metadata": {
        "id": "i-nVQyBxHka-"
      },
      "execution_count": 108,
      "outputs": []
    },
    {
      "cell_type": "code",
      "source": [
        "test_merged = test_merged[fets]"
      ],
      "metadata": {
        "id": "V7-Gu2GHG_YJ"
      },
      "execution_count": 109,
      "outputs": []
    },
    {
      "cell_type": "code",
      "source": [
        "test_merged.info()"
      ],
      "metadata": {
        "colab": {
          "base_uri": "https://localhost:8080/"
        },
        "id": "mMlP2FsoNeYP",
        "outputId": "929bbaed-bbcb-4f09-9c4b-508dd915e337"
      },
      "execution_count": 113,
      "outputs": [
        {
          "output_type": "stream",
          "name": "stdout",
          "text": [
            "<class 'pandas.core.frame.DataFrame'>\n",
            "Int64Index: 756954 entries, 0 to 756953\n",
            "Data columns (total 16 columns):\n",
            " #   Column               Non-Null Count   Dtype  \n",
            "---  ------               --------------   -----  \n",
            " 0   feature_1            756954 non-null  int64  \n",
            " 1   feature_2            756954 non-null  int64  \n",
            " 2   feature_3            756954 non-null  int64  \n",
            " 3   year                 756954 non-null  int64  \n",
            " 4   month                756954 non-null  int64  \n",
            " 5   city_id              756954 non-null  float64\n",
            " 6   category_1           756954 non-null  int64  \n",
            " 7   installments         756954 non-null  float64\n",
            " 8   category_3           756954 non-null  int64  \n",
            " 9   month_lag            756954 non-null  float64\n",
            " 10  purchase_date_year   756954 non-null  int64  \n",
            " 11  purchase_date_month  756954 non-null  int64  \n",
            " 12  purchase_date_week   756954 non-null  float64\n",
            " 13  purchase_date_day    756954 non-null  float64\n",
            " 14  purchase_date_hour   756954 non-null  float64\n",
            " 15  card_id              756954 non-null  object \n",
            "dtypes: float64(6), int64(9), object(1)\n",
            "memory usage: 98.2+ MB\n"
          ]
        }
      ]
    },
    {
      "cell_type": "code",
      "source": [
        "X_test = test_merged.groupby(['card_id'])[test_merged.columns].median()"
      ],
      "metadata": {
        "id": "K1SbkBnO7JBi"
      },
      "execution_count": 138,
      "outputs": []
    },
    {
      "cell_type": "code",
      "source": [
        "X_test.shape"
      ],
      "metadata": {
        "colab": {
          "base_uri": "https://localhost:8080/"
        },
        "id": "TQ6vzZDL-75F",
        "outputId": "fbf59d99-e86f-47b3-c7fc-9f8403dffdf2"
      },
      "execution_count": 139,
      "outputs": [
        {
          "output_type": "execute_result",
          "data": {
            "text/plain": [
              "(123623, 15)"
            ]
          },
          "metadata": {},
          "execution_count": 139
        }
      ]
    },
    {
      "cell_type": "code",
      "source": [
        "X_test.head()"
      ],
      "metadata": {
        "colab": {
          "base_uri": "https://localhost:8080/",
          "height": 299
        },
        "id": "aRt-gbz2NSgS",
        "outputId": "7b86e77e-3afc-41af-c671-8e63f7c7894b"
      },
      "execution_count": 140,
      "outputs": [
        {
          "output_type": "execute_result",
          "data": {
            "text/plain": [
              "                 feature_1  feature_2  feature_3    year  month  city_id  \\\n",
              "card_id                                                                    \n",
              "C_ID_0001238066        4.0        1.0        0.0  2017.0    9.0    291.0   \n",
              "C_ID_0001793786        5.0        2.0        1.0  2017.0    1.0     87.0   \n",
              "C_ID_00024e244b        2.0        2.0        0.0  2016.0    8.0     69.0   \n",
              "C_ID_0002709b5a        5.0        1.0        1.0  2015.0    8.0    103.0   \n",
              "C_ID_000298032a        2.0        2.0        0.0  2016.0   12.0     23.0   \n",
              "\n",
              "                 category_1  installments  category_3  month_lag  \\\n",
              "card_id                                                            \n",
              "C_ID_0001238066         0.0           1.0         0.0        1.0   \n",
              "C_ID_0001793786         0.0           0.0         1.0        1.0   \n",
              "C_ID_00024e244b         0.0           0.0         1.0        1.0   \n",
              "C_ID_0002709b5a         0.0           1.0         0.0        1.0   \n",
              "C_ID_000298032a         0.0           0.0         1.0        2.0   \n",
              "\n",
              "                 purchase_date_year  purchase_date_month  purchase_date_week  \\\n",
              "card_id                                                                        \n",
              "C_ID_0001238066              2018.0                  3.0                 2.0   \n",
              "C_ID_0001793786              2017.0                 11.0                 4.0   \n",
              "C_ID_00024e244b              2017.0                 11.0                 4.0   \n",
              "C_ID_0002709b5a              2018.0                  3.0                 0.0   \n",
              "C_ID_000298032a              2018.0                  3.0                 2.0   \n",
              "\n",
              "                 purchase_date_day  purchase_date_hour  \n",
              "card_id                                                 \n",
              "C_ID_0001238066                1.5                 2.0  \n",
              "C_ID_0001793786                2.0                 1.0  \n",
              "C_ID_00024e244b                1.0                 0.0  \n",
              "C_ID_0002709b5a                0.0                 1.0  \n",
              "C_ID_000298032a                2.0                 2.0  "
            ],
            "text/html": [
              "\n",
              "  <div id=\"df-2e4adecc-e7c9-467b-89c5-c16bda68e175\">\n",
              "    <div class=\"colab-df-container\">\n",
              "      <div>\n",
              "<style scoped>\n",
              "    .dataframe tbody tr th:only-of-type {\n",
              "        vertical-align: middle;\n",
              "    }\n",
              "\n",
              "    .dataframe tbody tr th {\n",
              "        vertical-align: top;\n",
              "    }\n",
              "\n",
              "    .dataframe thead th {\n",
              "        text-align: right;\n",
              "    }\n",
              "</style>\n",
              "<table border=\"1\" class=\"dataframe\">\n",
              "  <thead>\n",
              "    <tr style=\"text-align: right;\">\n",
              "      <th></th>\n",
              "      <th>feature_1</th>\n",
              "      <th>feature_2</th>\n",
              "      <th>feature_3</th>\n",
              "      <th>year</th>\n",
              "      <th>month</th>\n",
              "      <th>city_id</th>\n",
              "      <th>category_1</th>\n",
              "      <th>installments</th>\n",
              "      <th>category_3</th>\n",
              "      <th>month_lag</th>\n",
              "      <th>purchase_date_year</th>\n",
              "      <th>purchase_date_month</th>\n",
              "      <th>purchase_date_week</th>\n",
              "      <th>purchase_date_day</th>\n",
              "      <th>purchase_date_hour</th>\n",
              "    </tr>\n",
              "    <tr>\n",
              "      <th>card_id</th>\n",
              "      <th></th>\n",
              "      <th></th>\n",
              "      <th></th>\n",
              "      <th></th>\n",
              "      <th></th>\n",
              "      <th></th>\n",
              "      <th></th>\n",
              "      <th></th>\n",
              "      <th></th>\n",
              "      <th></th>\n",
              "      <th></th>\n",
              "      <th></th>\n",
              "      <th></th>\n",
              "      <th></th>\n",
              "      <th></th>\n",
              "    </tr>\n",
              "  </thead>\n",
              "  <tbody>\n",
              "    <tr>\n",
              "      <th>C_ID_0001238066</th>\n",
              "      <td>4.0</td>\n",
              "      <td>1.0</td>\n",
              "      <td>0.0</td>\n",
              "      <td>2017.0</td>\n",
              "      <td>9.0</td>\n",
              "      <td>291.0</td>\n",
              "      <td>0.0</td>\n",
              "      <td>1.0</td>\n",
              "      <td>0.0</td>\n",
              "      <td>1.0</td>\n",
              "      <td>2018.0</td>\n",
              "      <td>3.0</td>\n",
              "      <td>2.0</td>\n",
              "      <td>1.5</td>\n",
              "      <td>2.0</td>\n",
              "    </tr>\n",
              "    <tr>\n",
              "      <th>C_ID_0001793786</th>\n",
              "      <td>5.0</td>\n",
              "      <td>2.0</td>\n",
              "      <td>1.0</td>\n",
              "      <td>2017.0</td>\n",
              "      <td>1.0</td>\n",
              "      <td>87.0</td>\n",
              "      <td>0.0</td>\n",
              "      <td>0.0</td>\n",
              "      <td>1.0</td>\n",
              "      <td>1.0</td>\n",
              "      <td>2017.0</td>\n",
              "      <td>11.0</td>\n",
              "      <td>4.0</td>\n",
              "      <td>2.0</td>\n",
              "      <td>1.0</td>\n",
              "    </tr>\n",
              "    <tr>\n",
              "      <th>C_ID_00024e244b</th>\n",
              "      <td>2.0</td>\n",
              "      <td>2.0</td>\n",
              "      <td>0.0</td>\n",
              "      <td>2016.0</td>\n",
              "      <td>8.0</td>\n",
              "      <td>69.0</td>\n",
              "      <td>0.0</td>\n",
              "      <td>0.0</td>\n",
              "      <td>1.0</td>\n",
              "      <td>1.0</td>\n",
              "      <td>2017.0</td>\n",
              "      <td>11.0</td>\n",
              "      <td>4.0</td>\n",
              "      <td>1.0</td>\n",
              "      <td>0.0</td>\n",
              "    </tr>\n",
              "    <tr>\n",
              "      <th>C_ID_0002709b5a</th>\n",
              "      <td>5.0</td>\n",
              "      <td>1.0</td>\n",
              "      <td>1.0</td>\n",
              "      <td>2015.0</td>\n",
              "      <td>8.0</td>\n",
              "      <td>103.0</td>\n",
              "      <td>0.0</td>\n",
              "      <td>1.0</td>\n",
              "      <td>0.0</td>\n",
              "      <td>1.0</td>\n",
              "      <td>2018.0</td>\n",
              "      <td>3.0</td>\n",
              "      <td>0.0</td>\n",
              "      <td>0.0</td>\n",
              "      <td>1.0</td>\n",
              "    </tr>\n",
              "    <tr>\n",
              "      <th>C_ID_000298032a</th>\n",
              "      <td>2.0</td>\n",
              "      <td>2.0</td>\n",
              "      <td>0.0</td>\n",
              "      <td>2016.0</td>\n",
              "      <td>12.0</td>\n",
              "      <td>23.0</td>\n",
              "      <td>0.0</td>\n",
              "      <td>0.0</td>\n",
              "      <td>1.0</td>\n",
              "      <td>2.0</td>\n",
              "      <td>2018.0</td>\n",
              "      <td>3.0</td>\n",
              "      <td>2.0</td>\n",
              "      <td>2.0</td>\n",
              "      <td>2.0</td>\n",
              "    </tr>\n",
              "  </tbody>\n",
              "</table>\n",
              "</div>\n",
              "      <button class=\"colab-df-convert\" onclick=\"convertToInteractive('df-2e4adecc-e7c9-467b-89c5-c16bda68e175')\"\n",
              "              title=\"Convert this dataframe to an interactive table.\"\n",
              "              style=\"display:none;\">\n",
              "        \n",
              "  <svg xmlns=\"http://www.w3.org/2000/svg\" height=\"24px\"viewBox=\"0 0 24 24\"\n",
              "       width=\"24px\">\n",
              "    <path d=\"M0 0h24v24H0V0z\" fill=\"none\"/>\n",
              "    <path d=\"M18.56 5.44l.94 2.06.94-2.06 2.06-.94-2.06-.94-.94-2.06-.94 2.06-2.06.94zm-11 1L8.5 8.5l.94-2.06 2.06-.94-2.06-.94L8.5 2.5l-.94 2.06-2.06.94zm10 10l.94 2.06.94-2.06 2.06-.94-2.06-.94-.94-2.06-.94 2.06-2.06.94z\"/><path d=\"M17.41 7.96l-1.37-1.37c-.4-.4-.92-.59-1.43-.59-.52 0-1.04.2-1.43.59L10.3 9.45l-7.72 7.72c-.78.78-.78 2.05 0 2.83L4 21.41c.39.39.9.59 1.41.59.51 0 1.02-.2 1.41-.59l7.78-7.78 2.81-2.81c.8-.78.8-2.07 0-2.86zM5.41 20L4 18.59l7.72-7.72 1.47 1.35L5.41 20z\"/>\n",
              "  </svg>\n",
              "      </button>\n",
              "      \n",
              "  <style>\n",
              "    .colab-df-container {\n",
              "      display:flex;\n",
              "      flex-wrap:wrap;\n",
              "      gap: 12px;\n",
              "    }\n",
              "\n",
              "    .colab-df-convert {\n",
              "      background-color: #E8F0FE;\n",
              "      border: none;\n",
              "      border-radius: 50%;\n",
              "      cursor: pointer;\n",
              "      display: none;\n",
              "      fill: #1967D2;\n",
              "      height: 32px;\n",
              "      padding: 0 0 0 0;\n",
              "      width: 32px;\n",
              "    }\n",
              "\n",
              "    .colab-df-convert:hover {\n",
              "      background-color: #E2EBFA;\n",
              "      box-shadow: 0px 1px 2px rgba(60, 64, 67, 0.3), 0px 1px 3px 1px rgba(60, 64, 67, 0.15);\n",
              "      fill: #174EA6;\n",
              "    }\n",
              "\n",
              "    [theme=dark] .colab-df-convert {\n",
              "      background-color: #3B4455;\n",
              "      fill: #D2E3FC;\n",
              "    }\n",
              "\n",
              "    [theme=dark] .colab-df-convert:hover {\n",
              "      background-color: #434B5C;\n",
              "      box-shadow: 0px 1px 3px 1px rgba(0, 0, 0, 0.15);\n",
              "      filter: drop-shadow(0px 1px 2px rgba(0, 0, 0, 0.3));\n",
              "      fill: #FFFFFF;\n",
              "    }\n",
              "  </style>\n",
              "\n",
              "      <script>\n",
              "        const buttonEl =\n",
              "          document.querySelector('#df-2e4adecc-e7c9-467b-89c5-c16bda68e175 button.colab-df-convert');\n",
              "        buttonEl.style.display =\n",
              "          google.colab.kernel.accessAllowed ? 'block' : 'none';\n",
              "\n",
              "        async function convertToInteractive(key) {\n",
              "          const element = document.querySelector('#df-2e4adecc-e7c9-467b-89c5-c16bda68e175');\n",
              "          const dataTable =\n",
              "            await google.colab.kernel.invokeFunction('convertToInteractive',\n",
              "                                                     [key], {});\n",
              "          if (!dataTable) return;\n",
              "\n",
              "          const docLinkHtml = 'Like what you see? Visit the ' +\n",
              "            '<a target=\"_blank\" href=https://colab.research.google.com/notebooks/data_table.ipynb>data table notebook</a>'\n",
              "            + ' to learn more about interactive tables.';\n",
              "          element.innerHTML = '';\n",
              "          dataTable['output_type'] = 'display_data';\n",
              "          await google.colab.output.renderOutput(dataTable, element);\n",
              "          const docLink = document.createElement('div');\n",
              "          docLink.innerHTML = docLinkHtml;\n",
              "          element.appendChild(docLink);\n",
              "        }\n",
              "      </script>\n",
              "    </div>\n",
              "  </div>\n",
              "  "
            ]
          },
          "metadata": {},
          "execution_count": 140
        }
      ]
    },
    {
      "cell_type": "code",
      "source": [
        "X_test = X_test.reindex(index=test_dataset['card_id'])\n",
        "X_test = X_test.reset_index()"
      ],
      "metadata": {
        "id": "ctL1_Azq7LM4"
      },
      "execution_count": 141,
      "outputs": []
    },
    {
      "cell_type": "code",
      "source": [
        "X_test.to_csv(\"test_dataset.csv\")"
      ],
      "metadata": {
        "id": "IDBlPZ447dDc"
      },
      "execution_count": 143,
      "outputs": []
    },
    {
      "cell_type": "code",
      "source": [
        "submission = X_test[final_columns]"
      ],
      "metadata": {
        "id": "yqfXDdg2CW6y"
      },
      "execution_count": 124,
      "outputs": []
    },
    {
      "cell_type": "code",
      "source": [
        "y_pred = regressor.predict(submission)"
      ],
      "metadata": {
        "id": "K1coyIdhDd8r"
      },
      "execution_count": 125,
      "outputs": []
    },
    {
      "cell_type": "code",
      "source": [
        "submission['target'] = y_pred"
      ],
      "metadata": {
        "id": "MZWJBHUvDpL9"
      },
      "execution_count": 126,
      "outputs": []
    },
    {
      "cell_type": "code",
      "source": [
        "submission.head()"
      ],
      "metadata": {
        "colab": {
          "base_uri": "https://localhost:8080/",
          "height": 268
        },
        "id": "gbKMeHy4ObRE",
        "outputId": "4f803b9b-def4-4510-f1e7-cfc0c892d6ad"
      },
      "execution_count": 127,
      "outputs": [
        {
          "output_type": "execute_result",
          "data": {
            "text/plain": [
              "   feature_1  feature_2  feature_3    year  month  city_id  category_1  \\\n",
              "0        3.0        3.0        1.0  2017.0    4.0     79.0         0.0   \n",
              "1        2.0        3.0        0.0  2017.0    1.0    117.0         0.0   \n",
              "2        5.0        1.0        1.0  2017.0    8.0    166.0         0.5   \n",
              "3        2.0        1.0        0.0  2017.0   12.0     69.0         0.0   \n",
              "4        5.0        1.0        1.0  2015.0   12.0    277.0         0.0   \n",
              "\n",
              "   installments  category_3  month_lag  purchase_date_year  \\\n",
              "0           1.0         0.0        2.0              2018.0   \n",
              "1           1.0         0.0        1.0              2018.0   \n",
              "2           5.5         1.0        1.0              2018.0   \n",
              "3           2.0         1.0        1.0              2018.0   \n",
              "4           1.0         0.0        1.0              2018.0   \n",
              "\n",
              "   purchase_date_month  purchase_date_week  purchase_date_day  \\\n",
              "0                  2.0                 0.0                1.0   \n",
              "1                  3.0                 1.0                1.0   \n",
              "2                  3.0                 0.5                0.5   \n",
              "3                  3.0                 2.0                0.0   \n",
              "4                  3.0                 1.0                0.0   \n",
              "\n",
              "   purchase_date_hour    target  \n",
              "0                 1.0 -1.391072  \n",
              "1                 2.0 -0.221034  \n",
              "2                 1.0 -0.436862  \n",
              "3                 2.0 -0.436862  \n",
              "4                 0.5 -0.292302  "
            ],
            "text/html": [
              "\n",
              "  <div id=\"df-0541cb92-a962-4c3c-b884-011985d44ad6\">\n",
              "    <div class=\"colab-df-container\">\n",
              "      <div>\n",
              "<style scoped>\n",
              "    .dataframe tbody tr th:only-of-type {\n",
              "        vertical-align: middle;\n",
              "    }\n",
              "\n",
              "    .dataframe tbody tr th {\n",
              "        vertical-align: top;\n",
              "    }\n",
              "\n",
              "    .dataframe thead th {\n",
              "        text-align: right;\n",
              "    }\n",
              "</style>\n",
              "<table border=\"1\" class=\"dataframe\">\n",
              "  <thead>\n",
              "    <tr style=\"text-align: right;\">\n",
              "      <th></th>\n",
              "      <th>feature_1</th>\n",
              "      <th>feature_2</th>\n",
              "      <th>feature_3</th>\n",
              "      <th>year</th>\n",
              "      <th>month</th>\n",
              "      <th>city_id</th>\n",
              "      <th>category_1</th>\n",
              "      <th>installments</th>\n",
              "      <th>category_3</th>\n",
              "      <th>month_lag</th>\n",
              "      <th>purchase_date_year</th>\n",
              "      <th>purchase_date_month</th>\n",
              "      <th>purchase_date_week</th>\n",
              "      <th>purchase_date_day</th>\n",
              "      <th>purchase_date_hour</th>\n",
              "      <th>target</th>\n",
              "    </tr>\n",
              "  </thead>\n",
              "  <tbody>\n",
              "    <tr>\n",
              "      <th>0</th>\n",
              "      <td>3.0</td>\n",
              "      <td>3.0</td>\n",
              "      <td>1.0</td>\n",
              "      <td>2017.0</td>\n",
              "      <td>4.0</td>\n",
              "      <td>79.0</td>\n",
              "      <td>0.0</td>\n",
              "      <td>1.0</td>\n",
              "      <td>0.0</td>\n",
              "      <td>2.0</td>\n",
              "      <td>2018.0</td>\n",
              "      <td>2.0</td>\n",
              "      <td>0.0</td>\n",
              "      <td>1.0</td>\n",
              "      <td>1.0</td>\n",
              "      <td>-1.391072</td>\n",
              "    </tr>\n",
              "    <tr>\n",
              "      <th>1</th>\n",
              "      <td>2.0</td>\n",
              "      <td>3.0</td>\n",
              "      <td>0.0</td>\n",
              "      <td>2017.0</td>\n",
              "      <td>1.0</td>\n",
              "      <td>117.0</td>\n",
              "      <td>0.0</td>\n",
              "      <td>1.0</td>\n",
              "      <td>0.0</td>\n",
              "      <td>1.0</td>\n",
              "      <td>2018.0</td>\n",
              "      <td>3.0</td>\n",
              "      <td>1.0</td>\n",
              "      <td>1.0</td>\n",
              "      <td>2.0</td>\n",
              "      <td>-0.221034</td>\n",
              "    </tr>\n",
              "    <tr>\n",
              "      <th>2</th>\n",
              "      <td>5.0</td>\n",
              "      <td>1.0</td>\n",
              "      <td>1.0</td>\n",
              "      <td>2017.0</td>\n",
              "      <td>8.0</td>\n",
              "      <td>166.0</td>\n",
              "      <td>0.5</td>\n",
              "      <td>5.5</td>\n",
              "      <td>1.0</td>\n",
              "      <td>1.0</td>\n",
              "      <td>2018.0</td>\n",
              "      <td>3.0</td>\n",
              "      <td>0.5</td>\n",
              "      <td>0.5</td>\n",
              "      <td>1.0</td>\n",
              "      <td>-0.436862</td>\n",
              "    </tr>\n",
              "    <tr>\n",
              "      <th>3</th>\n",
              "      <td>2.0</td>\n",
              "      <td>1.0</td>\n",
              "      <td>0.0</td>\n",
              "      <td>2017.0</td>\n",
              "      <td>12.0</td>\n",
              "      <td>69.0</td>\n",
              "      <td>0.0</td>\n",
              "      <td>2.0</td>\n",
              "      <td>1.0</td>\n",
              "      <td>1.0</td>\n",
              "      <td>2018.0</td>\n",
              "      <td>3.0</td>\n",
              "      <td>2.0</td>\n",
              "      <td>0.0</td>\n",
              "      <td>2.0</td>\n",
              "      <td>-0.436862</td>\n",
              "    </tr>\n",
              "    <tr>\n",
              "      <th>4</th>\n",
              "      <td>5.0</td>\n",
              "      <td>1.0</td>\n",
              "      <td>1.0</td>\n",
              "      <td>2015.0</td>\n",
              "      <td>12.0</td>\n",
              "      <td>277.0</td>\n",
              "      <td>0.0</td>\n",
              "      <td>1.0</td>\n",
              "      <td>0.0</td>\n",
              "      <td>1.0</td>\n",
              "      <td>2018.0</td>\n",
              "      <td>3.0</td>\n",
              "      <td>1.0</td>\n",
              "      <td>0.0</td>\n",
              "      <td>0.5</td>\n",
              "      <td>-0.292302</td>\n",
              "    </tr>\n",
              "  </tbody>\n",
              "</table>\n",
              "</div>\n",
              "      <button class=\"colab-df-convert\" onclick=\"convertToInteractive('df-0541cb92-a962-4c3c-b884-011985d44ad6')\"\n",
              "              title=\"Convert this dataframe to an interactive table.\"\n",
              "              style=\"display:none;\">\n",
              "        \n",
              "  <svg xmlns=\"http://www.w3.org/2000/svg\" height=\"24px\"viewBox=\"0 0 24 24\"\n",
              "       width=\"24px\">\n",
              "    <path d=\"M0 0h24v24H0V0z\" fill=\"none\"/>\n",
              "    <path d=\"M18.56 5.44l.94 2.06.94-2.06 2.06-.94-2.06-.94-.94-2.06-.94 2.06-2.06.94zm-11 1L8.5 8.5l.94-2.06 2.06-.94-2.06-.94L8.5 2.5l-.94 2.06-2.06.94zm10 10l.94 2.06.94-2.06 2.06-.94-2.06-.94-.94-2.06-.94 2.06-2.06.94z\"/><path d=\"M17.41 7.96l-1.37-1.37c-.4-.4-.92-.59-1.43-.59-.52 0-1.04.2-1.43.59L10.3 9.45l-7.72 7.72c-.78.78-.78 2.05 0 2.83L4 21.41c.39.39.9.59 1.41.59.51 0 1.02-.2 1.41-.59l7.78-7.78 2.81-2.81c.8-.78.8-2.07 0-2.86zM5.41 20L4 18.59l7.72-7.72 1.47 1.35L5.41 20z\"/>\n",
              "  </svg>\n",
              "      </button>\n",
              "      \n",
              "  <style>\n",
              "    .colab-df-container {\n",
              "      display:flex;\n",
              "      flex-wrap:wrap;\n",
              "      gap: 12px;\n",
              "    }\n",
              "\n",
              "    .colab-df-convert {\n",
              "      background-color: #E8F0FE;\n",
              "      border: none;\n",
              "      border-radius: 50%;\n",
              "      cursor: pointer;\n",
              "      display: none;\n",
              "      fill: #1967D2;\n",
              "      height: 32px;\n",
              "      padding: 0 0 0 0;\n",
              "      width: 32px;\n",
              "    }\n",
              "\n",
              "    .colab-df-convert:hover {\n",
              "      background-color: #E2EBFA;\n",
              "      box-shadow: 0px 1px 2px rgba(60, 64, 67, 0.3), 0px 1px 3px 1px rgba(60, 64, 67, 0.15);\n",
              "      fill: #174EA6;\n",
              "    }\n",
              "\n",
              "    [theme=dark] .colab-df-convert {\n",
              "      background-color: #3B4455;\n",
              "      fill: #D2E3FC;\n",
              "    }\n",
              "\n",
              "    [theme=dark] .colab-df-convert:hover {\n",
              "      background-color: #434B5C;\n",
              "      box-shadow: 0px 1px 3px 1px rgba(0, 0, 0, 0.15);\n",
              "      filter: drop-shadow(0px 1px 2px rgba(0, 0, 0, 0.3));\n",
              "      fill: #FFFFFF;\n",
              "    }\n",
              "  </style>\n",
              "\n",
              "      <script>\n",
              "        const buttonEl =\n",
              "          document.querySelector('#df-0541cb92-a962-4c3c-b884-011985d44ad6 button.colab-df-convert');\n",
              "        buttonEl.style.display =\n",
              "          google.colab.kernel.accessAllowed ? 'block' : 'none';\n",
              "\n",
              "        async function convertToInteractive(key) {\n",
              "          const element = document.querySelector('#df-0541cb92-a962-4c3c-b884-011985d44ad6');\n",
              "          const dataTable =\n",
              "            await google.colab.kernel.invokeFunction('convertToInteractive',\n",
              "                                                     [key], {});\n",
              "          if (!dataTable) return;\n",
              "\n",
              "          const docLinkHtml = 'Like what you see? Visit the ' +\n",
              "            '<a target=\"_blank\" href=https://colab.research.google.com/notebooks/data_table.ipynb>data table notebook</a>'\n",
              "            + ' to learn more about interactive tables.';\n",
              "          element.innerHTML = '';\n",
              "          dataTable['output_type'] = 'display_data';\n",
              "          await google.colab.output.renderOutput(dataTable, element);\n",
              "          const docLink = document.createElement('div');\n",
              "          docLink.innerHTML = docLinkHtml;\n",
              "          element.appendChild(docLink);\n",
              "        }\n",
              "      </script>\n",
              "    </div>\n",
              "  </div>\n",
              "  "
            ]
          },
          "metadata": {},
          "execution_count": 127
        }
      ]
    },
    {
      "cell_type": "code",
      "source": [
        "X_test['target'] = y_pred"
      ],
      "metadata": {
        "id": "TExbHouwOpua"
      },
      "execution_count": 128,
      "outputs": []
    },
    {
      "cell_type": "code",
      "source": [
        "submission = X_test[['card_id','target']]"
      ],
      "metadata": {
        "id": "g3PbX8qkO3aD"
      },
      "execution_count": 131,
      "outputs": []
    },
    {
      "cell_type": "code",
      "source": [
        "submission.shape"
      ],
      "metadata": {
        "colab": {
          "base_uri": "https://localhost:8080/"
        },
        "id": "v2qETOMyPtOo",
        "outputId": "b1097c16-b5b1-4ca7-dae4-739da5e679a2"
      },
      "execution_count": 133,
      "outputs": [
        {
          "output_type": "execute_result",
          "data": {
            "text/plain": [
              "(123623, 2)"
            ]
          },
          "metadata": {},
          "execution_count": 133
        }
      ]
    },
    {
      "cell_type": "code",
      "source": [
        "submission.head()"
      ],
      "metadata": {
        "colab": {
          "base_uri": "https://localhost:8080/",
          "height": 204
        },
        "id": "K2wVLA3rQb9e",
        "outputId": "418d3411-2a97-43c4-c88c-bda50a2ac8d3"
      },
      "execution_count": 135,
      "outputs": [
        {
          "output_type": "execute_result",
          "data": {
            "text/plain": [
              "           card_id    target\n",
              "0  C_ID_0ab67a22ab -1.391072\n",
              "1  C_ID_130fd0cbdd -0.221034\n",
              "2  C_ID_b709037bc5 -0.436862\n",
              "3  C_ID_d27d835a9f -0.436862\n",
              "4  C_ID_2b5e3df5c2 -0.292302"
            ],
            "text/html": [
              "\n",
              "  <div id=\"df-cce4bd2a-5824-4f3a-a20a-17bb8d821647\">\n",
              "    <div class=\"colab-df-container\">\n",
              "      <div>\n",
              "<style scoped>\n",
              "    .dataframe tbody tr th:only-of-type {\n",
              "        vertical-align: middle;\n",
              "    }\n",
              "\n",
              "    .dataframe tbody tr th {\n",
              "        vertical-align: top;\n",
              "    }\n",
              "\n",
              "    .dataframe thead th {\n",
              "        text-align: right;\n",
              "    }\n",
              "</style>\n",
              "<table border=\"1\" class=\"dataframe\">\n",
              "  <thead>\n",
              "    <tr style=\"text-align: right;\">\n",
              "      <th></th>\n",
              "      <th>card_id</th>\n",
              "      <th>target</th>\n",
              "    </tr>\n",
              "  </thead>\n",
              "  <tbody>\n",
              "    <tr>\n",
              "      <th>0</th>\n",
              "      <td>C_ID_0ab67a22ab</td>\n",
              "      <td>-1.391072</td>\n",
              "    </tr>\n",
              "    <tr>\n",
              "      <th>1</th>\n",
              "      <td>C_ID_130fd0cbdd</td>\n",
              "      <td>-0.221034</td>\n",
              "    </tr>\n",
              "    <tr>\n",
              "      <th>2</th>\n",
              "      <td>C_ID_b709037bc5</td>\n",
              "      <td>-0.436862</td>\n",
              "    </tr>\n",
              "    <tr>\n",
              "      <th>3</th>\n",
              "      <td>C_ID_d27d835a9f</td>\n",
              "      <td>-0.436862</td>\n",
              "    </tr>\n",
              "    <tr>\n",
              "      <th>4</th>\n",
              "      <td>C_ID_2b5e3df5c2</td>\n",
              "      <td>-0.292302</td>\n",
              "    </tr>\n",
              "  </tbody>\n",
              "</table>\n",
              "</div>\n",
              "      <button class=\"colab-df-convert\" onclick=\"convertToInteractive('df-cce4bd2a-5824-4f3a-a20a-17bb8d821647')\"\n",
              "              title=\"Convert this dataframe to an interactive table.\"\n",
              "              style=\"display:none;\">\n",
              "        \n",
              "  <svg xmlns=\"http://www.w3.org/2000/svg\" height=\"24px\"viewBox=\"0 0 24 24\"\n",
              "       width=\"24px\">\n",
              "    <path d=\"M0 0h24v24H0V0z\" fill=\"none\"/>\n",
              "    <path d=\"M18.56 5.44l.94 2.06.94-2.06 2.06-.94-2.06-.94-.94-2.06-.94 2.06-2.06.94zm-11 1L8.5 8.5l.94-2.06 2.06-.94-2.06-.94L8.5 2.5l-.94 2.06-2.06.94zm10 10l.94 2.06.94-2.06 2.06-.94-2.06-.94-.94-2.06-.94 2.06-2.06.94z\"/><path d=\"M17.41 7.96l-1.37-1.37c-.4-.4-.92-.59-1.43-.59-.52 0-1.04.2-1.43.59L10.3 9.45l-7.72 7.72c-.78.78-.78 2.05 0 2.83L4 21.41c.39.39.9.59 1.41.59.51 0 1.02-.2 1.41-.59l7.78-7.78 2.81-2.81c.8-.78.8-2.07 0-2.86zM5.41 20L4 18.59l7.72-7.72 1.47 1.35L5.41 20z\"/>\n",
              "  </svg>\n",
              "      </button>\n",
              "      \n",
              "  <style>\n",
              "    .colab-df-container {\n",
              "      display:flex;\n",
              "      flex-wrap:wrap;\n",
              "      gap: 12px;\n",
              "    }\n",
              "\n",
              "    .colab-df-convert {\n",
              "      background-color: #E8F0FE;\n",
              "      border: none;\n",
              "      border-radius: 50%;\n",
              "      cursor: pointer;\n",
              "      display: none;\n",
              "      fill: #1967D2;\n",
              "      height: 32px;\n",
              "      padding: 0 0 0 0;\n",
              "      width: 32px;\n",
              "    }\n",
              "\n",
              "    .colab-df-convert:hover {\n",
              "      background-color: #E2EBFA;\n",
              "      box-shadow: 0px 1px 2px rgba(60, 64, 67, 0.3), 0px 1px 3px 1px rgba(60, 64, 67, 0.15);\n",
              "      fill: #174EA6;\n",
              "    }\n",
              "\n",
              "    [theme=dark] .colab-df-convert {\n",
              "      background-color: #3B4455;\n",
              "      fill: #D2E3FC;\n",
              "    }\n",
              "\n",
              "    [theme=dark] .colab-df-convert:hover {\n",
              "      background-color: #434B5C;\n",
              "      box-shadow: 0px 1px 3px 1px rgba(0, 0, 0, 0.15);\n",
              "      filter: drop-shadow(0px 1px 2px rgba(0, 0, 0, 0.3));\n",
              "      fill: #FFFFFF;\n",
              "    }\n",
              "  </style>\n",
              "\n",
              "      <script>\n",
              "        const buttonEl =\n",
              "          document.querySelector('#df-cce4bd2a-5824-4f3a-a20a-17bb8d821647 button.colab-df-convert');\n",
              "        buttonEl.style.display =\n",
              "          google.colab.kernel.accessAllowed ? 'block' : 'none';\n",
              "\n",
              "        async function convertToInteractive(key) {\n",
              "          const element = document.querySelector('#df-cce4bd2a-5824-4f3a-a20a-17bb8d821647');\n",
              "          const dataTable =\n",
              "            await google.colab.kernel.invokeFunction('convertToInteractive',\n",
              "                                                     [key], {});\n",
              "          if (!dataTable) return;\n",
              "\n",
              "          const docLinkHtml = 'Like what you see? Visit the ' +\n",
              "            '<a target=\"_blank\" href=https://colab.research.google.com/notebooks/data_table.ipynb>data table notebook</a>'\n",
              "            + ' to learn more about interactive tables.';\n",
              "          element.innerHTML = '';\n",
              "          dataTable['output_type'] = 'display_data';\n",
              "          await google.colab.output.renderOutput(dataTable, element);\n",
              "          const docLink = document.createElement('div');\n",
              "          docLink.innerHTML = docLinkHtml;\n",
              "          element.appendChild(docLink);\n",
              "        }\n",
              "      </script>\n",
              "    </div>\n",
              "  </div>\n",
              "  "
            ]
          },
          "metadata": {},
          "execution_count": 135
        }
      ]
    },
    {
      "cell_type": "code",
      "source": [
        "submission.to_csv(\"submission3.csv\", index=False)"
      ],
      "metadata": {
        "id": "SAV0qq86QBKu"
      },
      "execution_count": 137,
      "outputs": []
    },
    {
      "cell_type": "code",
      "source": [
        ""
      ],
      "metadata": {
        "id": "-SLjLFG4QISi"
      },
      "execution_count": null,
      "outputs": []
    }
  ]
}