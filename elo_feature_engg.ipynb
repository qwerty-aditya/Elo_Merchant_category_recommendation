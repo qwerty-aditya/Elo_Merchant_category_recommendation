{
  "cells": [
    {
      "cell_type": "code",
      "execution_count": 1,
      "metadata": {
        "colab": {
          "base_uri": "https://localhost:8080/"
        },
        "id": "A8OW6DbKN_AW",
        "outputId": "6e127c18-dd36-4c6b-e575-52b12348c410"
      },
      "outputs": [
        {
          "output_type": "stream",
          "name": "stdout",
          "text": [
            "Looking in indexes: https://pypi.org/simple, https://us-python.pkg.dev/colab-wheels/public/simple/\n",
            "Requirement already satisfied: kaggle in /usr/local/lib/python3.7/dist-packages (1.5.12)\n",
            "Requirement already satisfied: six>=1.10 in /usr/local/lib/python3.7/dist-packages (from kaggle) (1.15.0)\n",
            "Requirement already satisfied: certifi in /usr/local/lib/python3.7/dist-packages (from kaggle) (2022.5.18.1)\n",
            "Requirement already satisfied: python-slugify in /usr/local/lib/python3.7/dist-packages (from kaggle) (6.1.2)\n",
            "Requirement already satisfied: urllib3 in /usr/local/lib/python3.7/dist-packages (from kaggle) (1.24.3)\n",
            "Requirement already satisfied: requests in /usr/local/lib/python3.7/dist-packages (from kaggle) (2.23.0)\n",
            "Requirement already satisfied: tqdm in /usr/local/lib/python3.7/dist-packages (from kaggle) (4.64.0)\n",
            "Requirement already satisfied: python-dateutil in /usr/local/lib/python3.7/dist-packages (from kaggle) (2.8.2)\n",
            "Requirement already satisfied: text-unidecode>=1.3 in /usr/local/lib/python3.7/dist-packages (from python-slugify->kaggle) (1.3)\n",
            "Requirement already satisfied: chardet<4,>=3.0.2 in /usr/local/lib/python3.7/dist-packages (from requests->kaggle) (3.0.4)\n",
            "Requirement already satisfied: idna<3,>=2.5 in /usr/local/lib/python3.7/dist-packages (from requests->kaggle) (2.10)\n"
          ]
        }
      ],
      "source": [
        "!pip install kaggle"
      ]
    },
    {
      "cell_type": "code",
      "execution_count": 2,
      "metadata": {
        "id": "5ZSTba8sObNL"
      },
      "outputs": [],
      "source": [
        "from sklearn.datasets import load_diabetes\n",
        "from sklearn.model_selection import cross_val_score\n",
        "from sklearn.tree import DecisionTreeRegressor"
      ]
    },
    {
      "cell_type": "code",
      "execution_count": 3,
      "metadata": {
        "id": "Q-jTAkjIOcwT"
      },
      "outputs": [],
      "source": [
        "# The Kaggle API client expects this file to be in ~/.kaggle,\n",
        "# so move it there.\n",
        "!mkdir -p ~/.kaggle\n",
        "!cp kaggle.json ~/.kaggle/\n",
        "# This permissions change avoids a warning on Kaggle tool startup.\n",
        "!chmod 600 ~/.kaggle/kaggle.json"
      ]
    },
    {
      "cell_type": "code",
      "execution_count": 4,
      "metadata": {
        "colab": {
          "base_uri": "https://localhost:8080/"
        },
        "id": "wx52WrvoOeH8",
        "outputId": "b225d4f9-716a-4c1d-86bd-93d33b287e1d"
      },
      "outputs": [
        {
          "output_type": "stream",
          "name": "stdout",
          "text": [
            "Downloading elo-merchant-category-recommendation.zip to /content\n",
            "100% 615M/615M [00:04<00:00, 105MB/s] \n",
            "100% 615M/615M [00:04<00:00, 144MB/s]\n"
          ]
        }
      ],
      "source": [
        "!kaggle competitions download -c elo-merchant-category-recommendation"
      ]
    },
    {
      "cell_type": "code",
      "execution_count": 5,
      "metadata": {
        "id": "tLK3k5KcOfum"
      },
      "outputs": [],
      "source": [
        "!unzip -q elo-merchant-category-recommendation.zip -d dataset/"
      ]
    },
    {
      "cell_type": "code",
      "execution_count": 6,
      "metadata": {
        "id": "v-W8SFerOhxn"
      },
      "outputs": [],
      "source": [
        "import pandas as pd\n",
        "import numpy as np\n",
        "import seaborn as sns\n",
        "import matplotlib.pyplot as plt\n",
        "%matplotlib inline\n",
        "pd.pandas.set_option('display.max_columns',None)"
      ]
    },
    {
      "cell_type": "code",
      "execution_count": 7,
      "metadata": {
        "id": "ox22QajSOjyW",
        "colab": {
          "base_uri": "https://localhost:8080/",
          "height": 268
        },
        "outputId": "ec2b07bc-e9cf-4a6b-d53a-9a0dea62ef35"
      },
      "outputs": [
        {
          "output_type": "execute_result",
          "data": {
            "text/plain": [
              "       merchant_id  merchant_group_id  merchant_category_id  subsector_id  \\\n",
              "0  M_ID_838061e48c               8353                   792             9   \n",
              "1  M_ID_9339d880ad               3184                   840            20   \n",
              "2  M_ID_e726bbae1e                447                   690             1   \n",
              "3  M_ID_a70e9c5f81               5026                   792             9   \n",
              "4  M_ID_64456c37ce               2228                   222            21   \n",
              "\n",
              "   numerical_1  numerical_2 category_1 most_recent_sales_range  \\\n",
              "0    -0.057471    -0.057471          N                       E   \n",
              "1    -0.057471    -0.057471          N                       E   \n",
              "2    -0.057471    -0.057471          N                       E   \n",
              "3    -0.057471    -0.057471          Y                       E   \n",
              "4    -0.057471    -0.057471          Y                       E   \n",
              "\n",
              "  most_recent_purchases_range  avg_sales_lag3  avg_purchases_lag3  \\\n",
              "0                           E           -0.40            9.666667   \n",
              "1                           E           -0.72            1.750000   \n",
              "2                           E          -82.13          260.000000   \n",
              "3                           E             NaN            1.666667   \n",
              "4                           E             NaN            0.500000   \n",
              "\n",
              "   active_months_lag3  avg_sales_lag6  avg_purchases_lag6  active_months_lag6  \\\n",
              "0                   3           -2.25           18.666667                   6   \n",
              "1                   3           -0.74            1.291667                   6   \n",
              "2                   2          -82.13          260.000000                   2   \n",
              "3                   3             NaN            4.666667                   6   \n",
              "4                   3             NaN            0.361111                   6   \n",
              "\n",
              "   avg_sales_lag12  avg_purchases_lag12  active_months_lag12 category_4  \\\n",
              "0            -2.32            13.916667                   12          N   \n",
              "1            -0.57             1.687500                   12          N   \n",
              "2           -82.13           260.000000                    2          N   \n",
              "3              NaN             3.833333                   12          Y   \n",
              "4              NaN             0.347222                   12          Y   \n",
              "\n",
              "   city_id  state_id  category_2  \n",
              "0      242         9         1.0  \n",
              "1       22        16         1.0  \n",
              "2       -1         5         5.0  \n",
              "3       -1        -1         NaN  \n",
              "4       -1        -1         NaN  "
            ],
            "text/html": [
              "\n",
              "  <div id=\"df-1d84ebea-9aae-41be-99ec-9273cccc16d1\">\n",
              "    <div class=\"colab-df-container\">\n",
              "      <div>\n",
              "<style scoped>\n",
              "    .dataframe tbody tr th:only-of-type {\n",
              "        vertical-align: middle;\n",
              "    }\n",
              "\n",
              "    .dataframe tbody tr th {\n",
              "        vertical-align: top;\n",
              "    }\n",
              "\n",
              "    .dataframe thead th {\n",
              "        text-align: right;\n",
              "    }\n",
              "</style>\n",
              "<table border=\"1\" class=\"dataframe\">\n",
              "  <thead>\n",
              "    <tr style=\"text-align: right;\">\n",
              "      <th></th>\n",
              "      <th>merchant_id</th>\n",
              "      <th>merchant_group_id</th>\n",
              "      <th>merchant_category_id</th>\n",
              "      <th>subsector_id</th>\n",
              "      <th>numerical_1</th>\n",
              "      <th>numerical_2</th>\n",
              "      <th>category_1</th>\n",
              "      <th>most_recent_sales_range</th>\n",
              "      <th>most_recent_purchases_range</th>\n",
              "      <th>avg_sales_lag3</th>\n",
              "      <th>avg_purchases_lag3</th>\n",
              "      <th>active_months_lag3</th>\n",
              "      <th>avg_sales_lag6</th>\n",
              "      <th>avg_purchases_lag6</th>\n",
              "      <th>active_months_lag6</th>\n",
              "      <th>avg_sales_lag12</th>\n",
              "      <th>avg_purchases_lag12</th>\n",
              "      <th>active_months_lag12</th>\n",
              "      <th>category_4</th>\n",
              "      <th>city_id</th>\n",
              "      <th>state_id</th>\n",
              "      <th>category_2</th>\n",
              "    </tr>\n",
              "  </thead>\n",
              "  <tbody>\n",
              "    <tr>\n",
              "      <th>0</th>\n",
              "      <td>M_ID_838061e48c</td>\n",
              "      <td>8353</td>\n",
              "      <td>792</td>\n",
              "      <td>9</td>\n",
              "      <td>-0.057471</td>\n",
              "      <td>-0.057471</td>\n",
              "      <td>N</td>\n",
              "      <td>E</td>\n",
              "      <td>E</td>\n",
              "      <td>-0.40</td>\n",
              "      <td>9.666667</td>\n",
              "      <td>3</td>\n",
              "      <td>-2.25</td>\n",
              "      <td>18.666667</td>\n",
              "      <td>6</td>\n",
              "      <td>-2.32</td>\n",
              "      <td>13.916667</td>\n",
              "      <td>12</td>\n",
              "      <td>N</td>\n",
              "      <td>242</td>\n",
              "      <td>9</td>\n",
              "      <td>1.0</td>\n",
              "    </tr>\n",
              "    <tr>\n",
              "      <th>1</th>\n",
              "      <td>M_ID_9339d880ad</td>\n",
              "      <td>3184</td>\n",
              "      <td>840</td>\n",
              "      <td>20</td>\n",
              "      <td>-0.057471</td>\n",
              "      <td>-0.057471</td>\n",
              "      <td>N</td>\n",
              "      <td>E</td>\n",
              "      <td>E</td>\n",
              "      <td>-0.72</td>\n",
              "      <td>1.750000</td>\n",
              "      <td>3</td>\n",
              "      <td>-0.74</td>\n",
              "      <td>1.291667</td>\n",
              "      <td>6</td>\n",
              "      <td>-0.57</td>\n",
              "      <td>1.687500</td>\n",
              "      <td>12</td>\n",
              "      <td>N</td>\n",
              "      <td>22</td>\n",
              "      <td>16</td>\n",
              "      <td>1.0</td>\n",
              "    </tr>\n",
              "    <tr>\n",
              "      <th>2</th>\n",
              "      <td>M_ID_e726bbae1e</td>\n",
              "      <td>447</td>\n",
              "      <td>690</td>\n",
              "      <td>1</td>\n",
              "      <td>-0.057471</td>\n",
              "      <td>-0.057471</td>\n",
              "      <td>N</td>\n",
              "      <td>E</td>\n",
              "      <td>E</td>\n",
              "      <td>-82.13</td>\n",
              "      <td>260.000000</td>\n",
              "      <td>2</td>\n",
              "      <td>-82.13</td>\n",
              "      <td>260.000000</td>\n",
              "      <td>2</td>\n",
              "      <td>-82.13</td>\n",
              "      <td>260.000000</td>\n",
              "      <td>2</td>\n",
              "      <td>N</td>\n",
              "      <td>-1</td>\n",
              "      <td>5</td>\n",
              "      <td>5.0</td>\n",
              "    </tr>\n",
              "    <tr>\n",
              "      <th>3</th>\n",
              "      <td>M_ID_a70e9c5f81</td>\n",
              "      <td>5026</td>\n",
              "      <td>792</td>\n",
              "      <td>9</td>\n",
              "      <td>-0.057471</td>\n",
              "      <td>-0.057471</td>\n",
              "      <td>Y</td>\n",
              "      <td>E</td>\n",
              "      <td>E</td>\n",
              "      <td>NaN</td>\n",
              "      <td>1.666667</td>\n",
              "      <td>3</td>\n",
              "      <td>NaN</td>\n",
              "      <td>4.666667</td>\n",
              "      <td>6</td>\n",
              "      <td>NaN</td>\n",
              "      <td>3.833333</td>\n",
              "      <td>12</td>\n",
              "      <td>Y</td>\n",
              "      <td>-1</td>\n",
              "      <td>-1</td>\n",
              "      <td>NaN</td>\n",
              "    </tr>\n",
              "    <tr>\n",
              "      <th>4</th>\n",
              "      <td>M_ID_64456c37ce</td>\n",
              "      <td>2228</td>\n",
              "      <td>222</td>\n",
              "      <td>21</td>\n",
              "      <td>-0.057471</td>\n",
              "      <td>-0.057471</td>\n",
              "      <td>Y</td>\n",
              "      <td>E</td>\n",
              "      <td>E</td>\n",
              "      <td>NaN</td>\n",
              "      <td>0.500000</td>\n",
              "      <td>3</td>\n",
              "      <td>NaN</td>\n",
              "      <td>0.361111</td>\n",
              "      <td>6</td>\n",
              "      <td>NaN</td>\n",
              "      <td>0.347222</td>\n",
              "      <td>12</td>\n",
              "      <td>Y</td>\n",
              "      <td>-1</td>\n",
              "      <td>-1</td>\n",
              "      <td>NaN</td>\n",
              "    </tr>\n",
              "  </tbody>\n",
              "</table>\n",
              "</div>\n",
              "      <button class=\"colab-df-convert\" onclick=\"convertToInteractive('df-1d84ebea-9aae-41be-99ec-9273cccc16d1')\"\n",
              "              title=\"Convert this dataframe to an interactive table.\"\n",
              "              style=\"display:none;\">\n",
              "        \n",
              "  <svg xmlns=\"http://www.w3.org/2000/svg\" height=\"24px\"viewBox=\"0 0 24 24\"\n",
              "       width=\"24px\">\n",
              "    <path d=\"M0 0h24v24H0V0z\" fill=\"none\"/>\n",
              "    <path d=\"M18.56 5.44l.94 2.06.94-2.06 2.06-.94-2.06-.94-.94-2.06-.94 2.06-2.06.94zm-11 1L8.5 8.5l.94-2.06 2.06-.94-2.06-.94L8.5 2.5l-.94 2.06-2.06.94zm10 10l.94 2.06.94-2.06 2.06-.94-2.06-.94-.94-2.06-.94 2.06-2.06.94z\"/><path d=\"M17.41 7.96l-1.37-1.37c-.4-.4-.92-.59-1.43-.59-.52 0-1.04.2-1.43.59L10.3 9.45l-7.72 7.72c-.78.78-.78 2.05 0 2.83L4 21.41c.39.39.9.59 1.41.59.51 0 1.02-.2 1.41-.59l7.78-7.78 2.81-2.81c.8-.78.8-2.07 0-2.86zM5.41 20L4 18.59l7.72-7.72 1.47 1.35L5.41 20z\"/>\n",
              "  </svg>\n",
              "      </button>\n",
              "      \n",
              "  <style>\n",
              "    .colab-df-container {\n",
              "      display:flex;\n",
              "      flex-wrap:wrap;\n",
              "      gap: 12px;\n",
              "    }\n",
              "\n",
              "    .colab-df-convert {\n",
              "      background-color: #E8F0FE;\n",
              "      border: none;\n",
              "      border-radius: 50%;\n",
              "      cursor: pointer;\n",
              "      display: none;\n",
              "      fill: #1967D2;\n",
              "      height: 32px;\n",
              "      padding: 0 0 0 0;\n",
              "      width: 32px;\n",
              "    }\n",
              "\n",
              "    .colab-df-convert:hover {\n",
              "      background-color: #E2EBFA;\n",
              "      box-shadow: 0px 1px 2px rgba(60, 64, 67, 0.3), 0px 1px 3px 1px rgba(60, 64, 67, 0.15);\n",
              "      fill: #174EA6;\n",
              "    }\n",
              "\n",
              "    [theme=dark] .colab-df-convert {\n",
              "      background-color: #3B4455;\n",
              "      fill: #D2E3FC;\n",
              "    }\n",
              "\n",
              "    [theme=dark] .colab-df-convert:hover {\n",
              "      background-color: #434B5C;\n",
              "      box-shadow: 0px 1px 3px 1px rgba(0, 0, 0, 0.15);\n",
              "      filter: drop-shadow(0px 1px 2px rgba(0, 0, 0, 0.3));\n",
              "      fill: #FFFFFF;\n",
              "    }\n",
              "  </style>\n",
              "\n",
              "      <script>\n",
              "        const buttonEl =\n",
              "          document.querySelector('#df-1d84ebea-9aae-41be-99ec-9273cccc16d1 button.colab-df-convert');\n",
              "        buttonEl.style.display =\n",
              "          google.colab.kernel.accessAllowed ? 'block' : 'none';\n",
              "\n",
              "        async function convertToInteractive(key) {\n",
              "          const element = document.querySelector('#df-1d84ebea-9aae-41be-99ec-9273cccc16d1');\n",
              "          const dataTable =\n",
              "            await google.colab.kernel.invokeFunction('convertToInteractive',\n",
              "                                                     [key], {});\n",
              "          if (!dataTable) return;\n",
              "\n",
              "          const docLinkHtml = 'Like what you see? Visit the ' +\n",
              "            '<a target=\"_blank\" href=https://colab.research.google.com/notebooks/data_table.ipynb>data table notebook</a>'\n",
              "            + ' to learn more about interactive tables.';\n",
              "          element.innerHTML = '';\n",
              "          dataTable['output_type'] = 'display_data';\n",
              "          await google.colab.output.renderOutput(dataTable, element);\n",
              "          const docLink = document.createElement('div');\n",
              "          docLink.innerHTML = docLinkHtml;\n",
              "          element.appendChild(docLink);\n",
              "        }\n",
              "      </script>\n",
              "    </div>\n",
              "  </div>\n",
              "  "
            ]
          },
          "metadata": {},
          "execution_count": 7
        }
      ],
      "source": [
        "merchants = pd.read_csv('dataset/merchants.csv')\n",
        "merchants.head()"
      ]
    },
    {
      "cell_type": "code",
      "execution_count": 8,
      "metadata": {
        "id": "3rw-IgbKOqF7"
      },
      "outputs": [],
      "source": [
        "new_tran = pd.read_csv('/content/dataset/new_merchant_transactions.csv')"
      ]
    },
    {
      "cell_type": "code",
      "execution_count": 9,
      "metadata": {
        "id": "46tSW_9wOqvO"
      },
      "outputs": [],
      "source": [
        "new_tran.dropna(subset=['merchant_id'],inplace=True)"
      ]
    },
    {
      "cell_type": "code",
      "execution_count": 10,
      "metadata": {
        "id": "285IS5QrPBpc"
      },
      "outputs": [],
      "source": [
        "merch_tran = pd.merge(new_tran, merchants, how=\"left\", on=[\"city_id\", \"category_1\", \"merchant_category_id\", \"merchant_id\", \"category_2\", \"state_id\", \"subsector_id\"])"
      ]
    },
    {
      "cell_type": "code",
      "execution_count": 11,
      "metadata": {
        "id": "YmlhPi5TPOOw"
      },
      "outputs": [],
      "source": [
        "train_EDA = pd.read_csv(\"drive/MyDrive/train_EDA.csv\")"
      ]
    },
    {
      "cell_type": "code",
      "execution_count": 12,
      "metadata": {
        "id": "KSuYNcwAPYUf"
      },
      "outputs": [],
      "source": [
        "elo_data = pd.merge(train_EDA, merch_tran, how=\"left\", on=[\"card_id\"])"
      ]
    },
    {
      "cell_type": "code",
      "source": [
        "dataset = elo_data.copy()"
      ],
      "metadata": {
        "id": "lq-jgCxEZ4SU"
      },
      "execution_count": 50,
      "outputs": []
    },
    {
      "cell_type": "code",
      "source": [
        "dataset.isnull().sum()"
      ],
      "metadata": {
        "colab": {
          "base_uri": "https://localhost:8080/"
        },
        "id": "JZfWG6ceqYWX",
        "outputId": "91c4a007-7e47-4310-e9ad-2315afc4bc95"
      },
      "execution_count": 51,
      "outputs": [
        {
          "output_type": "execute_result",
          "data": {
            "text/plain": [
              "Unnamed: 0                          0\n",
              "first_active_month                  0\n",
              "card_id                             0\n",
              "feature_1                           0\n",
              "feature_2                           0\n",
              "feature_3                           0\n",
              "target                              0\n",
              "year                                0\n",
              "month                               0\n",
              "authorized_flag                 22517\n",
              "city_id                         22517\n",
              "category_1                      22517\n",
              "installments                    22517\n",
              "category_3                      55855\n",
              "merchant_category_id            22517\n",
              "merchant_id                     22517\n",
              "month_lag                       22517\n",
              "purchase_amount                 22517\n",
              "purchase_date                   22517\n",
              "category_2                      91615\n",
              "state_id                        22517\n",
              "subsector_id                    22517\n",
              "merchant_group_id              420601\n",
              "numerical_1                    420601\n",
              "numerical_2                    420601\n",
              "most_recent_sales_range        420601\n",
              "most_recent_purchases_range    420601\n",
              "avg_sales_lag3                 420805\n",
              "avg_purchases_lag3             420601\n",
              "active_months_lag3             420601\n",
              "avg_sales_lag6                 420805\n",
              "avg_purchases_lag6             420601\n",
              "active_months_lag6             420601\n",
              "avg_sales_lag12                420805\n",
              "avg_purchases_lag12            420601\n",
              "active_months_lag12            420601\n",
              "category_4                     420601\n",
              "dtype: int64"
            ]
          },
          "metadata": {},
          "execution_count": 51
        }
      ]
    },
    {
      "cell_type": "code",
      "execution_count": 52,
      "metadata": {
        "id": "nY-Wa-xkPboi"
      },
      "outputs": [],
      "source": [
        "dataset = elo_data.dropna()"
      ]
    },
    {
      "cell_type": "code",
      "source": [
        "dataset.isnull().sum()"
      ],
      "metadata": {
        "colab": {
          "base_uri": "https://localhost:8080/"
        },
        "id": "KA30ATicaln4",
        "outputId": "fca1f14a-1af1-4e2b-e4d7-16ea1e98bc0c"
      },
      "execution_count": 53,
      "outputs": [
        {
          "output_type": "execute_result",
          "data": {
            "text/plain": [
              "Unnamed: 0                     0\n",
              "first_active_month             0\n",
              "card_id                        0\n",
              "feature_1                      0\n",
              "feature_2                      0\n",
              "feature_3                      0\n",
              "target                         0\n",
              "year                           0\n",
              "month                          0\n",
              "authorized_flag                0\n",
              "city_id                        0\n",
              "category_1                     0\n",
              "installments                   0\n",
              "category_3                     0\n",
              "merchant_category_id           0\n",
              "merchant_id                    0\n",
              "month_lag                      0\n",
              "purchase_amount                0\n",
              "purchase_date                  0\n",
              "category_2                     0\n",
              "state_id                       0\n",
              "subsector_id                   0\n",
              "merchant_group_id              0\n",
              "numerical_1                    0\n",
              "numerical_2                    0\n",
              "most_recent_sales_range        0\n",
              "most_recent_purchases_range    0\n",
              "avg_sales_lag3                 0\n",
              "avg_purchases_lag3             0\n",
              "active_months_lag3             0\n",
              "avg_sales_lag6                 0\n",
              "avg_purchases_lag6             0\n",
              "active_months_lag6             0\n",
              "avg_sales_lag12                0\n",
              "avg_purchases_lag12            0\n",
              "active_months_lag12            0\n",
              "category_4                     0\n",
              "dtype: int64"
            ]
          },
          "metadata": {},
          "execution_count": 53
        }
      ]
    },
    {
      "cell_type": "code",
      "execution_count": 54,
      "metadata": {
        "id": "gyWExBmFPom8",
        "colab": {
          "base_uri": "https://localhost:8080/"
        },
        "outputId": "b0c28d64-f9f9-4193-cf2c-9a3f650fa515"
      },
      "outputs": [
        {
          "output_type": "execute_result",
          "data": {
            "text/plain": [
              "(747514, 37)"
            ]
          },
          "metadata": {},
          "execution_count": 54
        }
      ],
      "source": [
        "dataset.shape"
      ]
    },
    {
      "cell_type": "code",
      "execution_count": 55,
      "metadata": {
        "id": "beMQlCp_PsJm",
        "colab": {
          "base_uri": "https://localhost:8080/"
        },
        "outputId": "128c5006-5d34-4944-a15e-78b272a5dac7"
      },
      "outputs": [
        {
          "output_type": "stream",
          "name": "stderr",
          "text": [
            "/usr/local/lib/python3.7/dist-packages/pandas/core/frame.py:4913: SettingWithCopyWarning: \n",
            "A value is trying to be set on a copy of a slice from a DataFrame\n",
            "\n",
            "See the caveats in the documentation: https://pandas.pydata.org/pandas-docs/stable/user_guide/indexing.html#returning-a-view-versus-a-copy\n",
            "  errors=errors,\n"
          ]
        }
      ],
      "source": [
        "dataset.drop(\"Unnamed: 0\", inplace=True, axis=1)"
      ]
    },
    {
      "cell_type": "markdown",
      "metadata": {
        "id": "uesVyl1OU9-Z"
      },
      "source": [
        "##Handling Discrete Vars"
      ]
    },
    {
      "cell_type": "code",
      "execution_count": 56,
      "metadata": {
        "id": "adFkxB3IPv2a",
        "colab": {
          "base_uri": "https://localhost:8080/",
          "height": 285
        },
        "outputId": "cd7b67e8-66d6-4bb4-a5d2-1c4471ad013a"
      },
      "outputs": [
        {
          "output_type": "stream",
          "name": "stdout",
          "text": [
            "Number of numerical variables:  26\n"
          ]
        },
        {
          "output_type": "execute_result",
          "data": {
            "text/plain": [
              "   feature_1  feature_2  feature_3    target  year  month  city_id  \\\n",
              "1          5          2          1 -0.820283  2017      6     69.0   \n",
              "3          5          2          1 -0.820283  2017      6     69.0   \n",
              "5          5          2          1 -0.820283  2017      6     69.0   \n",
              "6          5          2          1 -0.820283  2017      6     69.0   \n",
              "7          5          2          1 -0.820283  2017      6     69.0   \n",
              "\n",
              "   installments  merchant_category_id  month_lag  purchase_amount  category_2  \\\n",
              "1           0.0                  80.0        2.0        -0.666561         1.0   \n",
              "3           0.0                 842.0        2.0        -0.581180         1.0   \n",
              "5           0.0                 454.0        1.0        -0.719890         1.0   \n",
              "6           0.0                 278.0        1.0        -0.559933         1.0   \n",
              "7           0.0                 683.0        1.0        -0.707223         1.0   \n",
              "\n",
              "   state_id  subsector_id  merchant_group_id  numerical_1  numerical_2  \\\n",
              "1       9.0          37.0            45545.0    -0.057471    -0.057471   \n",
              "3       9.0          37.0            78720.0     0.002019    -0.037641   \n",
              "5       9.0          39.0            86847.0     0.011934    -0.037641   \n",
              "6       9.0          37.0            15450.0     0.002019    -0.037641   \n",
              "7       9.0          34.0               35.0   105.585835   104.901707   \n",
              "\n",
              "   avg_sales_lag3  avg_purchases_lag3  active_months_lag3  avg_sales_lag6  \\\n",
              "1            1.05            1.159329                 3.0            0.75   \n",
              "3            0.99            0.986516                 3.0            0.96   \n",
              "5            1.01            0.994652                 3.0            0.99   \n",
              "6            0.98            1.016640                 3.0            0.95   \n",
              "7            1.08            1.090130                 3.0            1.10   \n",
              "\n",
              "   avg_purchases_lag6  active_months_lag6  avg_sales_lag12  \\\n",
              "1            0.821384                 5.0             0.75   \n",
              "3            0.936156                 6.0             0.90   \n",
              "5            0.948663                 6.0             0.97   \n",
              "6            1.007515                 6.0             0.92   \n",
              "7            1.092221                 6.0             1.13   \n",
              "\n",
              "   avg_purchases_lag12  active_months_lag12  \n",
              "1             0.821384                  5.0  \n",
              "3             0.879034                 12.0  \n",
              "5             0.931952                 12.0  \n",
              "6             0.999061                 12.0  \n",
              "7             1.117407                 12.0  "
            ],
            "text/html": [
              "\n",
              "  <div id=\"df-5824aaf0-fe4b-400b-a78b-7b569806ea9b\">\n",
              "    <div class=\"colab-df-container\">\n",
              "      <div>\n",
              "<style scoped>\n",
              "    .dataframe tbody tr th:only-of-type {\n",
              "        vertical-align: middle;\n",
              "    }\n",
              "\n",
              "    .dataframe tbody tr th {\n",
              "        vertical-align: top;\n",
              "    }\n",
              "\n",
              "    .dataframe thead th {\n",
              "        text-align: right;\n",
              "    }\n",
              "</style>\n",
              "<table border=\"1\" class=\"dataframe\">\n",
              "  <thead>\n",
              "    <tr style=\"text-align: right;\">\n",
              "      <th></th>\n",
              "      <th>feature_1</th>\n",
              "      <th>feature_2</th>\n",
              "      <th>feature_3</th>\n",
              "      <th>target</th>\n",
              "      <th>year</th>\n",
              "      <th>month</th>\n",
              "      <th>city_id</th>\n",
              "      <th>installments</th>\n",
              "      <th>merchant_category_id</th>\n",
              "      <th>month_lag</th>\n",
              "      <th>purchase_amount</th>\n",
              "      <th>category_2</th>\n",
              "      <th>state_id</th>\n",
              "      <th>subsector_id</th>\n",
              "      <th>merchant_group_id</th>\n",
              "      <th>numerical_1</th>\n",
              "      <th>numerical_2</th>\n",
              "      <th>avg_sales_lag3</th>\n",
              "      <th>avg_purchases_lag3</th>\n",
              "      <th>active_months_lag3</th>\n",
              "      <th>avg_sales_lag6</th>\n",
              "      <th>avg_purchases_lag6</th>\n",
              "      <th>active_months_lag6</th>\n",
              "      <th>avg_sales_lag12</th>\n",
              "      <th>avg_purchases_lag12</th>\n",
              "      <th>active_months_lag12</th>\n",
              "    </tr>\n",
              "  </thead>\n",
              "  <tbody>\n",
              "    <tr>\n",
              "      <th>1</th>\n",
              "      <td>5</td>\n",
              "      <td>2</td>\n",
              "      <td>1</td>\n",
              "      <td>-0.820283</td>\n",
              "      <td>2017</td>\n",
              "      <td>6</td>\n",
              "      <td>69.0</td>\n",
              "      <td>0.0</td>\n",
              "      <td>80.0</td>\n",
              "      <td>2.0</td>\n",
              "      <td>-0.666561</td>\n",
              "      <td>1.0</td>\n",
              "      <td>9.0</td>\n",
              "      <td>37.0</td>\n",
              "      <td>45545.0</td>\n",
              "      <td>-0.057471</td>\n",
              "      <td>-0.057471</td>\n",
              "      <td>1.05</td>\n",
              "      <td>1.159329</td>\n",
              "      <td>3.0</td>\n",
              "      <td>0.75</td>\n",
              "      <td>0.821384</td>\n",
              "      <td>5.0</td>\n",
              "      <td>0.75</td>\n",
              "      <td>0.821384</td>\n",
              "      <td>5.0</td>\n",
              "    </tr>\n",
              "    <tr>\n",
              "      <th>3</th>\n",
              "      <td>5</td>\n",
              "      <td>2</td>\n",
              "      <td>1</td>\n",
              "      <td>-0.820283</td>\n",
              "      <td>2017</td>\n",
              "      <td>6</td>\n",
              "      <td>69.0</td>\n",
              "      <td>0.0</td>\n",
              "      <td>842.0</td>\n",
              "      <td>2.0</td>\n",
              "      <td>-0.581180</td>\n",
              "      <td>1.0</td>\n",
              "      <td>9.0</td>\n",
              "      <td>37.0</td>\n",
              "      <td>78720.0</td>\n",
              "      <td>0.002019</td>\n",
              "      <td>-0.037641</td>\n",
              "      <td>0.99</td>\n",
              "      <td>0.986516</td>\n",
              "      <td>3.0</td>\n",
              "      <td>0.96</td>\n",
              "      <td>0.936156</td>\n",
              "      <td>6.0</td>\n",
              "      <td>0.90</td>\n",
              "      <td>0.879034</td>\n",
              "      <td>12.0</td>\n",
              "    </tr>\n",
              "    <tr>\n",
              "      <th>5</th>\n",
              "      <td>5</td>\n",
              "      <td>2</td>\n",
              "      <td>1</td>\n",
              "      <td>-0.820283</td>\n",
              "      <td>2017</td>\n",
              "      <td>6</td>\n",
              "      <td>69.0</td>\n",
              "      <td>0.0</td>\n",
              "      <td>454.0</td>\n",
              "      <td>1.0</td>\n",
              "      <td>-0.719890</td>\n",
              "      <td>1.0</td>\n",
              "      <td>9.0</td>\n",
              "      <td>39.0</td>\n",
              "      <td>86847.0</td>\n",
              "      <td>0.011934</td>\n",
              "      <td>-0.037641</td>\n",
              "      <td>1.01</td>\n",
              "      <td>0.994652</td>\n",
              "      <td>3.0</td>\n",
              "      <td>0.99</td>\n",
              "      <td>0.948663</td>\n",
              "      <td>6.0</td>\n",
              "      <td>0.97</td>\n",
              "      <td>0.931952</td>\n",
              "      <td>12.0</td>\n",
              "    </tr>\n",
              "    <tr>\n",
              "      <th>6</th>\n",
              "      <td>5</td>\n",
              "      <td>2</td>\n",
              "      <td>1</td>\n",
              "      <td>-0.820283</td>\n",
              "      <td>2017</td>\n",
              "      <td>6</td>\n",
              "      <td>69.0</td>\n",
              "      <td>0.0</td>\n",
              "      <td>278.0</td>\n",
              "      <td>1.0</td>\n",
              "      <td>-0.559933</td>\n",
              "      <td>1.0</td>\n",
              "      <td>9.0</td>\n",
              "      <td>37.0</td>\n",
              "      <td>15450.0</td>\n",
              "      <td>0.002019</td>\n",
              "      <td>-0.037641</td>\n",
              "      <td>0.98</td>\n",
              "      <td>1.016640</td>\n",
              "      <td>3.0</td>\n",
              "      <td>0.95</td>\n",
              "      <td>1.007515</td>\n",
              "      <td>6.0</td>\n",
              "      <td>0.92</td>\n",
              "      <td>0.999061</td>\n",
              "      <td>12.0</td>\n",
              "    </tr>\n",
              "    <tr>\n",
              "      <th>7</th>\n",
              "      <td>5</td>\n",
              "      <td>2</td>\n",
              "      <td>1</td>\n",
              "      <td>-0.820283</td>\n",
              "      <td>2017</td>\n",
              "      <td>6</td>\n",
              "      <td>69.0</td>\n",
              "      <td>0.0</td>\n",
              "      <td>683.0</td>\n",
              "      <td>1.0</td>\n",
              "      <td>-0.707223</td>\n",
              "      <td>1.0</td>\n",
              "      <td>9.0</td>\n",
              "      <td>34.0</td>\n",
              "      <td>35.0</td>\n",
              "      <td>105.585835</td>\n",
              "      <td>104.901707</td>\n",
              "      <td>1.08</td>\n",
              "      <td>1.090130</td>\n",
              "      <td>3.0</td>\n",
              "      <td>1.10</td>\n",
              "      <td>1.092221</td>\n",
              "      <td>6.0</td>\n",
              "      <td>1.13</td>\n",
              "      <td>1.117407</td>\n",
              "      <td>12.0</td>\n",
              "    </tr>\n",
              "  </tbody>\n",
              "</table>\n",
              "</div>\n",
              "      <button class=\"colab-df-convert\" onclick=\"convertToInteractive('df-5824aaf0-fe4b-400b-a78b-7b569806ea9b')\"\n",
              "              title=\"Convert this dataframe to an interactive table.\"\n",
              "              style=\"display:none;\">\n",
              "        \n",
              "  <svg xmlns=\"http://www.w3.org/2000/svg\" height=\"24px\"viewBox=\"0 0 24 24\"\n",
              "       width=\"24px\">\n",
              "    <path d=\"M0 0h24v24H0V0z\" fill=\"none\"/>\n",
              "    <path d=\"M18.56 5.44l.94 2.06.94-2.06 2.06-.94-2.06-.94-.94-2.06-.94 2.06-2.06.94zm-11 1L8.5 8.5l.94-2.06 2.06-.94-2.06-.94L8.5 2.5l-.94 2.06-2.06.94zm10 10l.94 2.06.94-2.06 2.06-.94-2.06-.94-.94-2.06-.94 2.06-2.06.94z\"/><path d=\"M17.41 7.96l-1.37-1.37c-.4-.4-.92-.59-1.43-.59-.52 0-1.04.2-1.43.59L10.3 9.45l-7.72 7.72c-.78.78-.78 2.05 0 2.83L4 21.41c.39.39.9.59 1.41.59.51 0 1.02-.2 1.41-.59l7.78-7.78 2.81-2.81c.8-.78.8-2.07 0-2.86zM5.41 20L4 18.59l7.72-7.72 1.47 1.35L5.41 20z\"/>\n",
              "  </svg>\n",
              "      </button>\n",
              "      \n",
              "  <style>\n",
              "    .colab-df-container {\n",
              "      display:flex;\n",
              "      flex-wrap:wrap;\n",
              "      gap: 12px;\n",
              "    }\n",
              "\n",
              "    .colab-df-convert {\n",
              "      background-color: #E8F0FE;\n",
              "      border: none;\n",
              "      border-radius: 50%;\n",
              "      cursor: pointer;\n",
              "      display: none;\n",
              "      fill: #1967D2;\n",
              "      height: 32px;\n",
              "      padding: 0 0 0 0;\n",
              "      width: 32px;\n",
              "    }\n",
              "\n",
              "    .colab-df-convert:hover {\n",
              "      background-color: #E2EBFA;\n",
              "      box-shadow: 0px 1px 2px rgba(60, 64, 67, 0.3), 0px 1px 3px 1px rgba(60, 64, 67, 0.15);\n",
              "      fill: #174EA6;\n",
              "    }\n",
              "\n",
              "    [theme=dark] .colab-df-convert {\n",
              "      background-color: #3B4455;\n",
              "      fill: #D2E3FC;\n",
              "    }\n",
              "\n",
              "    [theme=dark] .colab-df-convert:hover {\n",
              "      background-color: #434B5C;\n",
              "      box-shadow: 0px 1px 3px 1px rgba(0, 0, 0, 0.15);\n",
              "      filter: drop-shadow(0px 1px 2px rgba(0, 0, 0, 0.3));\n",
              "      fill: #FFFFFF;\n",
              "    }\n",
              "  </style>\n",
              "\n",
              "      <script>\n",
              "        const buttonEl =\n",
              "          document.querySelector('#df-5824aaf0-fe4b-400b-a78b-7b569806ea9b button.colab-df-convert');\n",
              "        buttonEl.style.display =\n",
              "          google.colab.kernel.accessAllowed ? 'block' : 'none';\n",
              "\n",
              "        async function convertToInteractive(key) {\n",
              "          const element = document.querySelector('#df-5824aaf0-fe4b-400b-a78b-7b569806ea9b');\n",
              "          const dataTable =\n",
              "            await google.colab.kernel.invokeFunction('convertToInteractive',\n",
              "                                                     [key], {});\n",
              "          if (!dataTable) return;\n",
              "\n",
              "          const docLinkHtml = 'Like what you see? Visit the ' +\n",
              "            '<a target=\"_blank\" href=https://colab.research.google.com/notebooks/data_table.ipynb>data table notebook</a>'\n",
              "            + ' to learn more about interactive tables.';\n",
              "          element.innerHTML = '';\n",
              "          dataTable['output_type'] = 'display_data';\n",
              "          await google.colab.output.renderOutput(dataTable, element);\n",
              "          const docLink = document.createElement('div');\n",
              "          docLink.innerHTML = docLinkHtml;\n",
              "          element.appendChild(docLink);\n",
              "        }\n",
              "      </script>\n",
              "    </div>\n",
              "  </div>\n",
              "  "
            ]
          },
          "metadata": {},
          "execution_count": 56
        }
      ],
      "source": [
        "# list of numerical variables\n",
        "numerical_features = [feature for feature in dataset.columns if dataset[feature].dtypes != 'O']\n",
        "\n",
        "print('Number of numerical variables: ', len(numerical_features))\n",
        "\n",
        "# visualise the numerical variables\n",
        "dataset[numerical_features].head()"
      ]
    },
    {
      "cell_type": "code",
      "execution_count": 57,
      "metadata": {
        "id": "3dbu6EqoU4YQ",
        "colab": {
          "base_uri": "https://localhost:8080/"
        },
        "outputId": "33162e6e-a1f8-4075-e53f-d6b6d7e17585"
      },
      "outputs": [
        {
          "output_type": "stream",
          "name": "stdout",
          "text": [
            "Discrete Variables Count: 12\n"
          ]
        }
      ],
      "source": [
        "## Numerical variables are usually of 2 type\n",
        "## 1. Continous variable and Discrete Variables\n",
        "\n",
        "discrete_feature=[feature for feature in numerical_features if len(dataset[feature].unique())<25]\n",
        "print(\"Discrete Variables Count: {}\".format(len(discrete_feature)))"
      ]
    },
    {
      "cell_type": "markdown",
      "metadata": {
        "id": "Sly1-RQoVDew"
      },
      "source": [
        "keeping discrete vars as it is"
      ]
    },
    {
      "cell_type": "code",
      "execution_count": 58,
      "metadata": {
        "id": "TTCezULbVCqq",
        "colab": {
          "base_uri": "https://localhost:8080/"
        },
        "outputId": "4b340e09-8d28-4ace-e016-df3139ae7366"
      },
      "outputs": [
        {
          "output_type": "stream",
          "name": "stdout",
          "text": [
            "Continuous feature Count 14\n"
          ]
        }
      ],
      "source": [
        "continuous_feature=[feature for feature in numerical_features if feature not in discrete_feature]\n",
        "print(\"Continuous feature Count {}\".format(len(continuous_feature)))"
      ]
    },
    {
      "cell_type": "code",
      "execution_count": 59,
      "metadata": {
        "id": "ftNNowQMU8Rp"
      },
      "outputs": [],
      "source": [
        "scale_list=[\"avg_purchases_lag12\", \"avg_sales_lag12\", \"avg_purchases_lag6\", \"avg_purchases_lag3\", \"numerical_2\", \"numerical_1\"]"
      ]
    },
    {
      "cell_type": "code",
      "execution_count": 22,
      "metadata": {
        "id": "zjAhLAOuWmmq"
      },
      "outputs": [],
      "source": [
        "from sklearn.preprocessing import StandardScaler"
      ]
    },
    {
      "cell_type": "code",
      "execution_count": 23,
      "metadata": {
        "id": "t1TcddgIWpw1"
      },
      "outputs": [],
      "source": [
        "scaler = StandardScaler()"
      ]
    },
    {
      "cell_type": "code",
      "source": [
        "scaled_data = dataset.copy()"
      ],
      "metadata": {
        "id": "YLaTqUrRZgzj"
      },
      "execution_count": 62,
      "outputs": []
    },
    {
      "cell_type": "code",
      "execution_count": 25,
      "metadata": {
        "id": "2Q72s3g1WuSp"
      },
      "outputs": [],
      "source": [
        "scaled_data[scale_list] = scaler.fit_transform(dataset[scale_list])"
      ]
    },
    {
      "cell_type": "code",
      "execution_count": 26,
      "metadata": {
        "colab": {
          "base_uri": "https://localhost:8080/",
          "height": 1000
        },
        "id": "AGTDNkqdXBma",
        "outputId": "65e5f296-1b9c-4486-a64f-afeaf4fa3e8a"
      },
      "outputs": [
        {
          "output_type": "display_data",
          "data": {
            "text/plain": [
              "<Figure size 432x288 with 1 Axes>"
            ],
            "image/png": "[encoded data removed]"
          },
          "metadata": {
            "needs_background": "light"
          }
        },
        {
          "output_type": "display_data",
          "data": {
            "text/plain": [
              "<Figure size 432x288 with 1 Axes>"
            ],
            "image/png": "[encoded data removed]"
          },
          "metadata": {
            "needs_background": "light"
          }
        },
        {
          "output_type": "display_data",
          "data": {
            "text/plain": [
              "<Figure size 432x288 with 1 Axes>"
            ],
            "image/png": "[encoded data removed]"
          },
          "metadata": {
            "needs_background": "light"
          }
        },
        {
          "output_type": "display_data",
          "data": {
            "text/plain": [
              "<Figure size 432x288 with 1 Axes>"
            ],
            "image/png": "[encoded data removed]"
          },
          "metadata": {
            "needs_background": "light"
          }
        },
        {
          "output_type": "display_data",
          "data": {
            "text/plain": [
              "<Figure size 432x288 with 1 Axes>"
            ],
            "image/png": "[encoded data removed]"
          },
          "metadata": {
            "needs_background": "light"
          }
        },
        {
          "output_type": "display_data",
          "data": {
            "text/plain": [
              "<Figure size 432x288 with 1 Axes>"
            ],
            "image/png": "[encoded data removed]"
          },
          "metadata": {
            "needs_background": "light"
          }
        }
      ],
      "source": [
        "## Lets analyse the continuous values by creating histograms to understand the distribution\n",
        "for feature in scale_list:\n",
        "    data=scaled_data.copy()\n",
        "    data[feature].hist(bins=25)\n",
        "    plt.xlabel(feature)\n",
        "    plt.ylabel(\"Count\")\n",
        "    plt.title(feature)\n",
        "    plt.show()"
      ]
    },
    {
      "cell_type": "markdown",
      "source": [
        "standardization or normalization were not effective on the above features, now trying binarization"
      ],
      "metadata": {
        "id": "pC074M4AbEZr"
      }
    },
    {
      "cell_type": "code",
      "source": [
        "from sklearn.preprocessing import KBinsDiscretizer"
      ],
      "metadata": {
        "id": "3ZdvrKmOadaq"
      },
      "execution_count": 60,
      "outputs": []
    },
    {
      "cell_type": "code",
      "execution_count": 61,
      "metadata": {
        "id": "I_5hTlh5YNuF"
      },
      "outputs": [],
      "source": [
        "est = KBinsDiscretizer(n_bins=3, encode='ordinal', strategy='quantile')"
      ]
    },
    {
      "cell_type": "code",
      "source": [
        "est.fit(dataset[scale_list])"
      ],
      "metadata": {
        "colab": {
          "base_uri": "https://localhost:8080/"
        },
        "id": "Qrq3PTGccmRd",
        "outputId": "46e3a52c-d84d-4382-a063-4ff10d844b63"
      },
      "execution_count": 63,
      "outputs": [
        {
          "output_type": "stream",
          "name": "stderr",
          "text": [
            "/usr/local/lib/python3.7/dist-packages/sklearn/preprocessing/_discretization.py:233: UserWarning: Bins whose width are too small (i.e., <= 1e-8) in feature 4 are removed. Consider decreasing the number of bins.\n",
            "  \"decreasing the number of bins.\" % jj\n",
            "/usr/local/lib/python3.7/dist-packages/sklearn/preprocessing/_discretization.py:233: UserWarning: Bins whose width are too small (i.e., <= 1e-8) in feature 5 are removed. Consider decreasing the number of bins.\n",
            "  \"decreasing the number of bins.\" % jj\n"
          ]
        },
        {
          "output_type": "execute_result",
          "data": {
            "text/plain": [
              "KBinsDiscretizer(encode='ordinal', n_bins=3)"
            ]
          },
          "metadata": {},
          "execution_count": 63
        }
      ]
    },
    {
      "cell_type": "code",
      "source": [
        "scaled_data[scale_list] = est.transform(dataset[scale_list])"
      ],
      "metadata": {
        "id": "3kcuPuJvbHmF"
      },
      "execution_count": 64,
      "outputs": []
    },
    {
      "cell_type": "code",
      "source": [
        "## Lets Find the realtionship between them and Sale PRice\n",
        "\n",
        "for feature in scale_list:\n",
        "    data=scaled_data.copy()\n",
        "    data.groupby(feature)['target'].median().plot.bar()\n",
        "    plt.xlabel(feature)\n",
        "    plt.ylabel('target')\n",
        "    plt.title(feature)\n",
        "    plt.show()"
      ],
      "metadata": {
        "colab": {
          "base_uri": "https://localhost:8080/",
          "height": 1000
        },
        "id": "b2JE896QczgY",
        "outputId": "5c0316db-fe85-4623-9f28-77b7d210f681"
      },
      "execution_count": 65,
      "outputs": [
        {
          "output_type": "display_data",
          "data": {
            "text/plain": [
              "<Figure size 432x288 with 1 Axes>"
            ],
            "image/png": "[encoded data removed]"
          },
          "metadata": {
            "needs_background": "light"
          }
        },
        {
          "output_type": "display_data",
          "data": {
            "text/plain": [
              "<Figure size 432x288 with 1 Axes>"
            ],
            "image/png": "[encoded data removed]"
          },
          "metadata": {
            "needs_background": "light"
          }
        },
        {
          "output_type": "display_data",
          "data": {
            "text/plain": [
              "<Figure size 432x288 with 1 Axes>"
            ],
            "image/png": "[encoded data removed]"
          },
          "metadata": {
            "needs_background": "light"
          }
        },
        {
          "output_type": "display_data",
          "data": {
            "text/plain": [
              "<Figure size 432x288 with 1 Axes>"
            ],
            "image/png": "[encoded data removed]"
          },
          "metadata": {
            "needs_background": "light"
          }
        },
        {
          "output_type": "display_data",
          "data": {
            "text/plain": [
              "<Figure size 432x288 with 1 Axes>"
            ],
            "image/png": "[encoded data removed]"
          },
          "metadata": {
            "needs_background": "light"
          }
        },
        {
          "output_type": "display_data",
          "data": {
            "text/plain": [
              "<Figure size 432x288 with 1 Axes>"
            ],
            "image/png": "[encoded data removed]"
          },
          "metadata": {
            "needs_background": "light"
          }
        }
      ]
    },
    {
      "cell_type": "code",
      "source": [
        "dataset[scale_list] = scaled_data[scale_list]"
      ],
      "metadata": {
        "colab": {
          "base_uri": "https://localhost:8080/"
        },
        "id": "u-uKDC3lq68I",
        "outputId": "7f741136-5e1f-4223-b49d-d67b127b9631"
      },
      "execution_count": 66,
      "outputs": [
        {
          "output_type": "stream",
          "name": "stderr",
          "text": [
            "/usr/local/lib/python3.7/dist-packages/pandas/core/frame.py:3641: SettingWithCopyWarning: \n",
            "A value is trying to be set on a copy of a slice from a DataFrame.\n",
            "Try using .loc[row_indexer,col_indexer] = value instead\n",
            "\n",
            "See the caveats in the documentation: https://pandas.pydata.org/pandas-docs/stable/user_guide/indexing.html#returning-a-view-versus-a-copy\n",
            "  self[k1] = value[k2]\n"
          ]
        }
      ]
    },
    {
      "cell_type": "code",
      "source": [
        "continuous_drop_list = [\"numerical_1\", \"numerical_2\", \"avg_purchases_lag6\", \"avg_sales_lag12\"]"
      ],
      "metadata": {
        "id": "mGC0Y-pac2H7"
      },
      "execution_count": 67,
      "outputs": []
    },
    {
      "cell_type": "code",
      "source": [
        "id_list = [\"city_id\", \"merchant_category_id\", \"subsector_id\", \"merchant_group_id\"]"
      ],
      "metadata": {
        "id": "4hgDlKszfedG"
      },
      "execution_count": 68,
      "outputs": []
    },
    {
      "cell_type": "code",
      "source": [
        "scaled_data[id_list] = est.fit_transform(dataset[id_list])"
      ],
      "metadata": {
        "id": "wxK-9TUHgFJF"
      },
      "execution_count": 34,
      "outputs": []
    },
    {
      "cell_type": "code",
      "source": [
        "## Lets Find the realtionship between them and Sale PRice\n",
        "\n",
        "for feature in id_list:\n",
        "    data=scaled_data.copy()\n",
        "    data.groupby(feature)['target'].mean().plot.bar()\n",
        "    plt.xlabel(feature)\n",
        "    plt.ylabel('target')\n",
        "    plt.title(feature)\n",
        "    plt.show()"
      ],
      "metadata": {
        "colab": {
          "base_uri": "https://localhost:8080/",
          "height": 1000
        },
        "id": "fF18Q7ROgNhy",
        "outputId": "484d9c7d-5d92-4366-c263-eb6b961d19d5"
      },
      "execution_count": 35,
      "outputs": [
        {
          "output_type": "display_data",
          "data": {
            "text/plain": [
              "<Figure size 432x288 with 1 Axes>"
            ],
            "image/png": "[encoded data removed]"
          },
          "metadata": {
            "needs_background": "light"
          }
        },
        {
          "output_type": "display_data",
          "data": {
            "text/plain": [
              "<Figure size 432x288 with 1 Axes>"
            ],
            "image/png": "[encoded data removed]"
          },
          "metadata": {
            "needs_background": "light"
          }
        },
        {
          "output_type": "display_data",
          "data": {
            "text/plain": [
              "<Figure size 432x288 with 1 Axes>"
            ],
            "image/png": "[encoded data removed]"
          },
          "metadata": {
            "needs_background": "light"
          }
        },
        {
          "output_type": "display_data",
          "data": {
            "text/plain": [
              "<Figure size 432x288 with 1 Axes>"
            ],
            "image/png": "[encoded data removed]"
          },
          "metadata": {
            "needs_background": "light"
          }
        }
      ]
    },
    {
      "cell_type": "code",
      "source": [
        "dataset.drop(continuous_drop_list,inplace=True,axis=1)"
      ],
      "metadata": {
        "colab": {
          "base_uri": "https://localhost:8080/"
        },
        "id": "f0dKc4g4gZRU",
        "outputId": "562618be-09b1-4fe7-a6f3-933f02a08f3a"
      },
      "execution_count": 69,
      "outputs": [
        {
          "output_type": "stream",
          "name": "stderr",
          "text": [
            "/usr/local/lib/python3.7/dist-packages/pandas/core/frame.py:4913: SettingWithCopyWarning: \n",
            "A value is trying to be set on a copy of a slice from a DataFrame\n",
            "\n",
            "See the caveats in the documentation: https://pandas.pydata.org/pandas-docs/stable/user_guide/indexing.html#returning-a-view-versus-a-copy\n",
            "  errors=errors,\n"
          ]
        }
      ]
    },
    {
      "cell_type": "code",
      "source": [
        "dataset.drop(id_list,inplace=True,axis=1)"
      ],
      "metadata": {
        "colab": {
          "base_uri": "https://localhost:8080/"
        },
        "id": "w_rD44V5gqch",
        "outputId": "180e9ca5-82ad-4522-cb2c-9f090aea3560"
      },
      "execution_count": 70,
      "outputs": [
        {
          "output_type": "stream",
          "name": "stderr",
          "text": [
            "/usr/local/lib/python3.7/dist-packages/pandas/core/frame.py:4913: SettingWithCopyWarning: \n",
            "A value is trying to be set on a copy of a slice from a DataFrame\n",
            "\n",
            "See the caveats in the documentation: https://pandas.pydata.org/pandas-docs/stable/user_guide/indexing.html#returning-a-view-versus-a-copy\n",
            "  errors=errors,\n"
          ]
        }
      ]
    },
    {
      "cell_type": "code",
      "source": [
        "dataset.shape"
      ],
      "metadata": {
        "colab": {
          "base_uri": "https://localhost:8080/"
        },
        "id": "sH-VvLzLg7_9",
        "outputId": "b17adc3f-264a-4dff-9a6b-5f4c12d83028"
      },
      "execution_count": 71,
      "outputs": [
        {
          "output_type": "execute_result",
          "data": {
            "text/plain": [
              "(747514, 28)"
            ]
          },
          "metadata": {},
          "execution_count": 71
        }
      ]
    },
    {
      "cell_type": "markdown",
      "source": [
        "##handling categorical labels"
      ],
      "metadata": {
        "id": "b65UvDoHhlmV"
      }
    },
    {
      "cell_type": "code",
      "source": [
        "category_drop_list = [\"authorized_flag\", \"category_1\", \"most_recent_sales_range\", \"category_4\", \"merchant_id\", \"first_active_month\"]"
      ],
      "metadata": {
        "id": "wTYIyfYtg-G-"
      },
      "execution_count": 72,
      "outputs": []
    },
    {
      "cell_type": "code",
      "source": [
        "dataset.drop(category_drop_list,inplace=True,axis=1)"
      ],
      "metadata": {
        "colab": {
          "base_uri": "https://localhost:8080/"
        },
        "id": "blumYoe4iIBh",
        "outputId": "5538f538-22e2-414b-fe3d-3f6979a18363"
      },
      "execution_count": 73,
      "outputs": [
        {
          "output_type": "stream",
          "name": "stderr",
          "text": [
            "/usr/local/lib/python3.7/dist-packages/pandas/core/frame.py:4913: SettingWithCopyWarning: \n",
            "A value is trying to be set on a copy of a slice from a DataFrame\n",
            "\n",
            "See the caveats in the documentation: https://pandas.pydata.org/pandas-docs/stable/user_guide/indexing.html#returning-a-view-versus-a-copy\n",
            "  errors=errors,\n"
          ]
        }
      ]
    },
    {
      "cell_type": "code",
      "source": [
        "dataset.shape"
      ],
      "metadata": {
        "colab": {
          "base_uri": "https://localhost:8080/"
        },
        "id": "v7w9g5vXikQi",
        "outputId": "675daa42-4312-48bc-c665-df2870c4c7d2"
      },
      "execution_count": 74,
      "outputs": [
        {
          "output_type": "execute_result",
          "data": {
            "text/plain": [
              "(747514, 22)"
            ]
          },
          "metadata": {},
          "execution_count": 74
        }
      ]
    },
    {
      "cell_type": "code",
      "source": [
        "categorical_list = [\"category_3\", \"most_recent_purchases_range\"]"
      ],
      "metadata": {
        "id": "7puEz8HIkSOH"
      },
      "execution_count": 75,
      "outputs": []
    },
    {
      "cell_type": "code",
      "source": [
        "ordinal_data = dataset.copy()"
      ],
      "metadata": {
        "id": "MQJLWIkOi1Pw"
      },
      "execution_count": 76,
      "outputs": []
    },
    {
      "cell_type": "code",
      "source": [
        "dict1={'B':1,'C':2,'A':3}\n",
        "dict2={'A':1,'B':2,'C':3,'D':4,'E':5}"
      ],
      "metadata": {
        "id": "q1fPftJYsEGZ"
      },
      "execution_count": 77,
      "outputs": []
    },
    {
      "cell_type": "code",
      "source": [
        "ordinal_data['category_3']=dataset['category_3'].map(dict1)"
      ],
      "metadata": {
        "id": "IM66bPe6sRKm"
      },
      "execution_count": 78,
      "outputs": []
    },
    {
      "cell_type": "code",
      "source": [
        "ordinal_data['most_recent_purchases_range']=dataset['most_recent_purchases_range'].map(dict2)"
      ],
      "metadata": {
        "id": "xjNraoh_tBi9"
      },
      "execution_count": 79,
      "outputs": []
    },
    {
      "cell_type": "code",
      "source": [
        "## Lets Find the realtionship between them and Sale PRice\n",
        "\n",
        "for feature in categorical_list:\n",
        "    data=ordinal_data.copy()\n",
        "    data.groupby(feature)['target'].median().plot.bar()\n",
        "    plt.xlabel(feature)\n",
        "    plt.ylabel('target')\n",
        "    plt.title(feature)\n",
        "    plt.show()"
      ],
      "metadata": {
        "colab": {
          "base_uri": "https://localhost:8080/",
          "height": 569
        },
        "id": "8ObOWGdHkpZo",
        "outputId": "145ef985-87fa-485d-cc4b-047183b7c7d3"
      },
      "execution_count": 80,
      "outputs": [
        {
          "output_type": "display_data",
          "data": {
            "text/plain": [
              "<Figure size 432x288 with 1 Axes>"
            ],
            "image/png": "[encoded data removed]"
          },
          "metadata": {
            "needs_background": "light"
          }
        },
        {
          "output_type": "display_data",
          "data": {
            "text/plain": [
              "<Figure size 432x288 with 1 Axes>"
            ],
            "image/png": "[encoded data removed]"
          },
          "metadata": {
            "needs_background": "light"
          }
        }
      ]
    },
    {
      "cell_type": "code",
      "source": [
        "dataset[categorical_list] = ordinal_data[categorical_list]"
      ],
      "metadata": {
        "colab": {
          "base_uri": "https://localhost:8080/"
        },
        "id": "totrRvePkzT4",
        "outputId": "6ade9adc-aed0-488c-923b-58883e9b69d1"
      },
      "execution_count": 81,
      "outputs": [
        {
          "output_type": "stream",
          "name": "stderr",
          "text": [
            "/usr/local/lib/python3.7/dist-packages/pandas/core/frame.py:3641: SettingWithCopyWarning: \n",
            "A value is trying to be set on a copy of a slice from a DataFrame.\n",
            "Try using .loc[row_indexer,col_indexer] = value instead\n",
            "\n",
            "See the caveats in the documentation: https://pandas.pydata.org/pandas-docs/stable/user_guide/indexing.html#returning-a-view-versus-a-copy\n",
            "  self[k1] = value[k2]\n"
          ]
        }
      ]
    },
    {
      "cell_type": "code",
      "source": [
        "dataset.info()"
      ],
      "metadata": {
        "colab": {
          "base_uri": "https://localhost:8080/"
        },
        "id": "fOE2omM8tbfZ",
        "outputId": "6265f496-8850-4bcf-c40f-d039c5726181"
      },
      "execution_count": 82,
      "outputs": [
        {
          "output_type": "stream",
          "name": "stdout",
          "text": [
            "<class 'pandas.core.frame.DataFrame'>\n",
            "Int64Index: 747514 entries, 1 to 1229644\n",
            "Data columns (total 22 columns):\n",
            " #   Column                       Non-Null Count   Dtype  \n",
            "---  ------                       --------------   -----  \n",
            " 0   card_id                      747514 non-null  object \n",
            " 1   feature_1                    747514 non-null  int64  \n",
            " 2   feature_2                    747514 non-null  int64  \n",
            " 3   feature_3                    747514 non-null  int64  \n",
            " 4   target                       747514 non-null  float64\n",
            " 5   year                         747514 non-null  int64  \n",
            " 6   month                        747514 non-null  int64  \n",
            " 7   installments                 747514 non-null  float64\n",
            " 8   category_3                   747514 non-null  int64  \n",
            " 9   month_lag                    747514 non-null  float64\n",
            " 10  purchase_amount              747514 non-null  float64\n",
            " 11  purchase_date                747514 non-null  object \n",
            " 12  category_2                   747514 non-null  float64\n",
            " 13  state_id                     747514 non-null  float64\n",
            " 14  most_recent_purchases_range  747514 non-null  int64  \n",
            " 15  avg_sales_lag3               747514 non-null  float64\n",
            " 16  avg_purchases_lag3           747514 non-null  float64\n",
            " 17  active_months_lag3           747514 non-null  float64\n",
            " 18  avg_sales_lag6               747514 non-null  float64\n",
            " 19  active_months_lag6           747514 non-null  float64\n",
            " 20  avg_purchases_lag12          747514 non-null  float64\n",
            " 21  active_months_lag12          747514 non-null  float64\n",
            "dtypes: float64(13), int64(7), object(2)\n",
            "memory usage: 131.2+ MB\n"
          ]
        }
      ]
    },
    {
      "cell_type": "markdown",
      "source": [
        "## Handling the date object"
      ],
      "metadata": {
        "id": "v3LV-nm1wOO0"
      }
    },
    {
      "cell_type": "code",
      "source": [
        "dataset['purchase_date'] = pd.to_datetime(dataset['purchase_date'], format = '%Y-%m-%d %H:%M:%S')"
      ],
      "metadata": {
        "colab": {
          "base_uri": "https://localhost:8080/"
        },
        "id": "cI4L03hXwNzP",
        "outputId": "ac8769fe-2089-4faf-dce2-17df374f0c32"
      },
      "execution_count": 83,
      "outputs": [
        {
          "output_type": "stream",
          "name": "stderr",
          "text": [
            "/usr/local/lib/python3.7/dist-packages/ipykernel_launcher.py:1: SettingWithCopyWarning: \n",
            "A value is trying to be set on a copy of a slice from a DataFrame.\n",
            "Try using .loc[row_indexer,col_indexer] = value instead\n",
            "\n",
            "See the caveats in the documentation: https://pandas.pydata.org/pandas-docs/stable/user_guide/indexing.html#returning-a-view-versus-a-copy\n",
            "  \"\"\"Entry point for launching an IPython kernel.\n"
          ]
        }
      ]
    },
    {
      "cell_type": "code",
      "source": [
        "dataset['purchase_date_year'] = dataset['purchase_date'].dt.year\n",
        "dataset['purchase_date_month'] = dataset['purchase_date'].dt.month\n",
        "dataset['purchase_date_week'] = dataset['purchase_date'].dt.week\n",
        "dataset['purchase_date_day'] = dataset['purchase_date'].dt.day\n",
        "dataset['purchase_date_hour'] = dataset['purchase_date'].dt.hour\n",
        "dataset['purchase_date_minute'] = dataset['purchase_date'].dt.minute\n",
        "dataset['purchase_date_dayofweek'] = dataset['purchase_date'].dt.dayofweek"
      ],
      "metadata": {
        "colab": {
          "base_uri": "https://localhost:8080/"
        },
        "id": "UzP6-s19uMaT",
        "outputId": "82fa1506-4ec9-400e-8ba7-9c07fe892330"
      },
      "execution_count": 84,
      "outputs": [
        {
          "output_type": "stream",
          "name": "stderr",
          "text": [
            "/usr/local/lib/python3.7/dist-packages/ipykernel_launcher.py:1: SettingWithCopyWarning: \n",
            "A value is trying to be set on a copy of a slice from a DataFrame.\n",
            "Try using .loc[row_indexer,col_indexer] = value instead\n",
            "\n",
            "See the caveats in the documentation: https://pandas.pydata.org/pandas-docs/stable/user_guide/indexing.html#returning-a-view-versus-a-copy\n",
            "  \"\"\"Entry point for launching an IPython kernel.\n",
            "/usr/local/lib/python3.7/dist-packages/ipykernel_launcher.py:2: SettingWithCopyWarning: \n",
            "A value is trying to be set on a copy of a slice from a DataFrame.\n",
            "Try using .loc[row_indexer,col_indexer] = value instead\n",
            "\n",
            "See the caveats in the documentation: https://pandas.pydata.org/pandas-docs/stable/user_guide/indexing.html#returning-a-view-versus-a-copy\n",
            "  \n",
            "/usr/local/lib/python3.7/dist-packages/ipykernel_launcher.py:3: FutureWarning: Series.dt.weekofyear and Series.dt.week have been deprecated.  Please use Series.dt.isocalendar().week instead.\n",
            "  This is separate from the ipykernel package so we can avoid doing imports until\n",
            "/usr/local/lib/python3.7/dist-packages/ipykernel_launcher.py:3: SettingWithCopyWarning: \n",
            "A value is trying to be set on a copy of a slice from a DataFrame.\n",
            "Try using .loc[row_indexer,col_indexer] = value instead\n",
            "\n",
            "See the caveats in the documentation: https://pandas.pydata.org/pandas-docs/stable/user_guide/indexing.html#returning-a-view-versus-a-copy\n",
            "  This is separate from the ipykernel package so we can avoid doing imports until\n",
            "/usr/local/lib/python3.7/dist-packages/ipykernel_launcher.py:4: SettingWithCopyWarning: \n",
            "A value is trying to be set on a copy of a slice from a DataFrame.\n",
            "Try using .loc[row_indexer,col_indexer] = value instead\n",
            "\n",
            "See the caveats in the documentation: https://pandas.pydata.org/pandas-docs/stable/user_guide/indexing.html#returning-a-view-versus-a-copy\n",
            "  after removing the cwd from sys.path.\n",
            "/usr/local/lib/python3.7/dist-packages/ipykernel_launcher.py:5: SettingWithCopyWarning: \n",
            "A value is trying to be set on a copy of a slice from a DataFrame.\n",
            "Try using .loc[row_indexer,col_indexer] = value instead\n",
            "\n",
            "See the caveats in the documentation: https://pandas.pydata.org/pandas-docs/stable/user_guide/indexing.html#returning-a-view-versus-a-copy\n",
            "  \"\"\"\n",
            "/usr/local/lib/python3.7/dist-packages/ipykernel_launcher.py:6: SettingWithCopyWarning: \n",
            "A value is trying to be set on a copy of a slice from a DataFrame.\n",
            "Try using .loc[row_indexer,col_indexer] = value instead\n",
            "\n",
            "See the caveats in the documentation: https://pandas.pydata.org/pandas-docs/stable/user_guide/indexing.html#returning-a-view-versus-a-copy\n",
            "  \n",
            "/usr/local/lib/python3.7/dist-packages/ipykernel_launcher.py:7: SettingWithCopyWarning: \n",
            "A value is trying to be set on a copy of a slice from a DataFrame.\n",
            "Try using .loc[row_indexer,col_indexer] = value instead\n",
            "\n",
            "See the caveats in the documentation: https://pandas.pydata.org/pandas-docs/stable/user_guide/indexing.html#returning-a-view-versus-a-copy\n",
            "  import sys\n"
          ]
        }
      ]
    },
    {
      "cell_type": "code",
      "source": [
        "dataset.info()"
      ],
      "metadata": {
        "colab": {
          "base_uri": "https://localhost:8080/"
        },
        "id": "QReH3EQMx4Yc",
        "outputId": "f7e9913e-4798-422c-b9d7-51f0eb19e412"
      },
      "execution_count": 85,
      "outputs": [
        {
          "output_type": "stream",
          "name": "stdout",
          "text": [
            "<class 'pandas.core.frame.DataFrame'>\n",
            "Int64Index: 747514 entries, 1 to 1229644\n",
            "Data columns (total 29 columns):\n",
            " #   Column                       Non-Null Count   Dtype         \n",
            "---  ------                       --------------   -----         \n",
            " 0   card_id                      747514 non-null  object        \n",
            " 1   feature_1                    747514 non-null  int64         \n",
            " 2   feature_2                    747514 non-null  int64         \n",
            " 3   feature_3                    747514 non-null  int64         \n",
            " 4   target                       747514 non-null  float64       \n",
            " 5   year                         747514 non-null  int64         \n",
            " 6   month                        747514 non-null  int64         \n",
            " 7   installments                 747514 non-null  float64       \n",
            " 8   category_3                   747514 non-null  int64         \n",
            " 9   month_lag                    747514 non-null  float64       \n",
            " 10  purchase_amount              747514 non-null  float64       \n",
            " 11  purchase_date                747514 non-null  datetime64[ns]\n",
            " 12  category_2                   747514 non-null  float64       \n",
            " 13  state_id                     747514 non-null  float64       \n",
            " 14  most_recent_purchases_range  747514 non-null  int64         \n",
            " 15  avg_sales_lag3               747514 non-null  float64       \n",
            " 16  avg_purchases_lag3           747514 non-null  float64       \n",
            " 17  active_months_lag3           747514 non-null  float64       \n",
            " 18  avg_sales_lag6               747514 non-null  float64       \n",
            " 19  active_months_lag6           747514 non-null  float64       \n",
            " 20  avg_purchases_lag12          747514 non-null  float64       \n",
            " 21  active_months_lag12          747514 non-null  float64       \n",
            " 22  purchase_date_year           747514 non-null  int64         \n",
            " 23  purchase_date_month          747514 non-null  int64         \n",
            " 24  purchase_date_week           747514 non-null  int64         \n",
            " 25  purchase_date_day            747514 non-null  int64         \n",
            " 26  purchase_date_hour           747514 non-null  int64         \n",
            " 27  purchase_date_minute         747514 non-null  int64         \n",
            " 28  purchase_date_dayofweek      747514 non-null  int64         \n",
            "dtypes: datetime64[ns](1), float64(13), int64(14), object(1)\n",
            "memory usage: 171.1+ MB\n"
          ]
        }
      ]
    },
    {
      "cell_type": "code",
      "source": [
        "dataset.drop(\"purchase_date\",inplace=True, axis=1)"
      ],
      "metadata": {
        "colab": {
          "base_uri": "https://localhost:8080/"
        },
        "id": "18VjXUcvx7Rf",
        "outputId": "0706cd56-0018-4de6-d865-cd66e90789f5"
      },
      "execution_count": 86,
      "outputs": [
        {
          "output_type": "stream",
          "name": "stderr",
          "text": [
            "/usr/local/lib/python3.7/dist-packages/pandas/core/frame.py:4913: SettingWithCopyWarning: \n",
            "A value is trying to be set on a copy of a slice from a DataFrame\n",
            "\n",
            "See the caveats in the documentation: https://pandas.pydata.org/pandas-docs/stable/user_guide/indexing.html#returning-a-view-versus-a-copy\n",
            "  errors=errors,\n"
          ]
        }
      ]
    },
    {
      "cell_type": "code",
      "source": [
        "date_features = ['purchase_date_year', 'purchase_date_month', 'purchase_date_week', 'purchase_date_day', 'purchase_date_hour', 'purchase_date_minute', 'purchase_date_dayofweek']"
      ],
      "metadata": {
        "id": "UUrleEoISlgR"
      },
      "execution_count": 87,
      "outputs": []
    },
    {
      "cell_type": "code",
      "source": [
        "for feature in date_features:\n",
        "    data=dataset.copy()\n",
        "    data.groupby(feature)['target'].mean().plot.bar()\n",
        "    plt.xlabel(feature)\n",
        "    plt.ylabel('target')\n",
        "    plt.title(feature)\n",
        "    plt.show()"
      ],
      "metadata": {
        "colab": {
          "base_uri": "https://localhost:8080/",
          "height": 1000
        },
        "id": "K5_Jizpo60oo",
        "outputId": "65eec381-d701-4a2c-fdb0-8982c0104f1a"
      },
      "execution_count": 88,
      "outputs": [
        {
          "output_type": "display_data",
          "data": {
            "text/plain": [
              "<Figure size 432x288 with 1 Axes>"
            ],
            "image/png": "[encoded data removed]"
          },
          "metadata": {
            "needs_background": "light"
          }
        },
        {
          "output_type": "display_data",
          "data": {
            "text/plain": [
              "<Figure size 432x288 with 1 Axes>"
            ],
            "image/png": "[encoded data removed]"
          },
          "metadata": {
            "needs_background": "light"
          }
        },
        {
          "output_type": "display_data",
          "data": {
            "text/plain": [
              "<Figure size 432x288 with 1 Axes>"
            ],
            "image/png": "[encoded data removed]"
          },
          "metadata": {
            "needs_background": "light"
          }
        },
        {
          "output_type": "display_data",
          "data": {
            "text/plain": [
              "<Figure size 432x288 with 1 Axes>"
            ],
            "image/png": "[encoded data removed]"
          },
          "metadata": {
            "needs_background": "light"
          }
        },
        {
          "output_type": "display_data",
          "data": {
            "text/plain": [
              "<Figure size 432x288 with 1 Axes>"
            ],
            "image/png": "[encoded data removed]"
          },
          "metadata": {
            "needs_background": "light"
          }
        },
        {
          "output_type": "display_data",
          "data": {
            "text/plain": [
              "<Figure size 432x288 with 1 Axes>"
            ],
            "image/png": "[encoded data removed]"
          },
          "metadata": {
            "needs_background": "light"
          }
        },
        {
          "output_type": "display_data",
          "data": {
            "text/plain": [
              "<Figure size 432x288 with 1 Axes>"
            ],
            "image/png": "[encoded data removed]"
          },
          "metadata": {
            "needs_background": "light"
          }
        }
      ]
    },
    {
      "cell_type": "code",
      "source": [
        "dataset.drop(\"purchase_date_dayofweek\",inplace=True,axis=1)"
      ],
      "metadata": {
        "colab": {
          "base_uri": "https://localhost:8080/"
        },
        "id": "AidzEflvTy-C",
        "outputId": "8d78a78b-f1f5-4017-fbbd-5e18a3fa3ee5"
      },
      "execution_count": 89,
      "outputs": [
        {
          "output_type": "stream",
          "name": "stderr",
          "text": [
            "/usr/local/lib/python3.7/dist-packages/pandas/core/frame.py:4913: SettingWithCopyWarning: \n",
            "A value is trying to be set on a copy of a slice from a DataFrame\n",
            "\n",
            "See the caveats in the documentation: https://pandas.pydata.org/pandas-docs/stable/user_guide/indexing.html#returning-a-view-versus-a-copy\n",
            "  errors=errors,\n"
          ]
        }
      ]
    },
    {
      "cell_type": "code",
      "source": [
        "dataset.drop(\"purchase_date_minute\",inplace=True,axis=1)"
      ],
      "metadata": {
        "colab": {
          "base_uri": "https://localhost:8080/"
        },
        "id": "TQcoqNFdWuqe",
        "outputId": "769378a5-537c-4889-b195-6faa44a38fb5"
      },
      "execution_count": 90,
      "outputs": [
        {
          "output_type": "stream",
          "name": "stderr",
          "text": [
            "/usr/local/lib/python3.7/dist-packages/pandas/core/frame.py:4913: SettingWithCopyWarning: \n",
            "A value is trying to be set on a copy of a slice from a DataFrame\n",
            "\n",
            "See the caveats in the documentation: https://pandas.pydata.org/pandas-docs/stable/user_guide/indexing.html#returning-a-view-versus-a-copy\n",
            "  errors=errors,\n"
          ]
        }
      ]
    },
    {
      "cell_type": "code",
      "source": [
        "dataset.drop(\"purchase_date_week\",inplace=True,axis=1)"
      ],
      "metadata": {
        "colab": {
          "base_uri": "https://localhost:8080/"
        },
        "id": "FKFhMsY2XEwl",
        "outputId": "af858870-cca7-4492-b564-c836f30a3275"
      },
      "execution_count": 91,
      "outputs": [
        {
          "output_type": "stream",
          "name": "stderr",
          "text": [
            "/usr/local/lib/python3.7/dist-packages/pandas/core/frame.py:4913: SettingWithCopyWarning: \n",
            "A value is trying to be set on a copy of a slice from a DataFrame\n",
            "\n",
            "See the caveats in the documentation: https://pandas.pydata.org/pandas-docs/stable/user_guide/indexing.html#returning-a-view-versus-a-copy\n",
            "  errors=errors,\n"
          ]
        }
      ]
    },
    {
      "cell_type": "code",
      "source": [
        "final_features = dataset.columns"
      ],
      "metadata": {
        "id": "IPJmRp2xp2y_"
      },
      "execution_count": 92,
      "outputs": []
    },
    {
      "cell_type": "code",
      "source": [
        "print(final_features)"
      ],
      "metadata": {
        "colab": {
          "base_uri": "https://localhost:8080/"
        },
        "id": "GgkPViDsb6Ei",
        "outputId": "ecc601c0-8280-4e46-a927-1e66e3add77b"
      },
      "execution_count": 93,
      "outputs": [
        {
          "output_type": "stream",
          "name": "stdout",
          "text": [
            "Index(['card_id', 'feature_1', 'feature_2', 'feature_3', 'target', 'year',\n",
            "       'month', 'installments', 'category_3', 'month_lag', 'purchase_amount',\n",
            "       'category_2', 'state_id', 'most_recent_purchases_range',\n",
            "       'avg_sales_lag3', 'avg_purchases_lag3', 'active_months_lag3',\n",
            "       'avg_sales_lag6', 'active_months_lag6', 'avg_purchases_lag12',\n",
            "       'active_months_lag12', 'purchase_date_year', 'purchase_date_month',\n",
            "       'purchase_date_day', 'purchase_date_hour'],\n",
            "      dtype='object')\n"
          ]
        }
      ]
    },
    {
      "cell_type": "code",
      "source": [
        "dataset.shape"
      ],
      "metadata": {
        "colab": {
          "base_uri": "https://localhost:8080/"
        },
        "id": "qR0S5V7khxlA",
        "outputId": "9c7bac0b-578f-4178-a852-1bdc0bcec904"
      },
      "execution_count": 147,
      "outputs": [
        {
          "output_type": "execute_result",
          "data": {
            "text/plain": [
              "(747514, 25)"
            ]
          },
          "metadata": {},
          "execution_count": 147
        }
      ]
    },
    {
      "cell_type": "markdown",
      "source": [
        "##Feature Selection"
      ],
      "metadata": {
        "id": "XoGphZlhyKhX"
      }
    },
    {
      "cell_type": "code",
      "source": [
        "import seaborn as sns\n",
        "import matplotlib.pyplot as plt"
      ],
      "metadata": {
        "id": "DhYtTDsoyKT0"
      },
      "execution_count": 94,
      "outputs": []
    },
    {
      "cell_type": "code",
      "source": [
        "dataset.corr()"
      ],
      "metadata": {
        "colab": {
          "base_uri": "https://localhost:8080/",
          "height": 857
        },
        "id": "bSwDrj7OzPwE",
        "outputId": "4eeff350-4439-4e6f-8439-332ce5029565"
      },
      "execution_count": 95,
      "outputs": [
        {
          "output_type": "execute_result",
          "data": {
            "text/plain": [
              "                             feature_1  feature_2  feature_3    target  \\\n",
              "feature_1                     1.000000  -0.089571   0.565854 -0.013897   \n",
              "feature_2                    -0.089571   1.000000   0.011069 -0.019445   \n",
              "feature_3                     0.565854   0.011069   1.000000 -0.021270   \n",
              "target                       -0.013897  -0.019445  -0.021270  1.000000   \n",
              "year                         -0.085487  -0.134071  -0.161444  0.044578   \n",
              "month                        -0.022706  -0.046916  -0.022886  0.049162   \n",
              "installments                 -0.036180  -0.084258  -0.180235 -0.003039   \n",
              "category_3                    0.112036   0.221459   0.423666 -0.019318   \n",
              "month_lag                     0.004127   0.004133  -0.000710  0.038159   \n",
              "purchase_amount               0.011116  -0.035755  -0.043566 -0.023410   \n",
              "category_2                   -0.023672   0.113095  -0.018836  0.003802   \n",
              "state_id                     -0.020906   0.050931  -0.012011 -0.007306   \n",
              "most_recent_purchases_range   0.011776   0.007595  -0.014798 -0.006483   \n",
              "avg_sales_lag3               -0.000554   0.000603  -0.000391  0.000053   \n",
              "avg_purchases_lag3            0.008748  -0.001885   0.015544  0.000107   \n",
              "active_months_lag3            0.003106   0.002905   0.003667  0.001197   \n",
              "avg_sales_lag6               -0.000192   0.000864  -0.000456 -0.000067   \n",
              "active_months_lag6            0.003634   0.001225   0.003763 -0.005890   \n",
              "avg_purchases_lag12           0.006830   0.003509   0.014530 -0.012687   \n",
              "active_months_lag12           0.004335  -0.001148   0.001293 -0.008634   \n",
              "purchase_date_year           -0.049337  -0.044104  -0.050791  0.112855   \n",
              "purchase_date_month           0.036001   0.013761   0.044659 -0.084543   \n",
              "purchase_date_day             0.000245   0.003051  -0.022914  0.022132   \n",
              "purchase_date_hour           -0.019664  -0.002392  -0.017939 -0.005850   \n",
              "\n",
              "                                 year     month  installments  category_3  \\\n",
              "feature_1                   -0.085487 -0.022706     -0.036180    0.112036   \n",
              "feature_2                   -0.134071 -0.046916     -0.084258    0.221459   \n",
              "feature_3                   -0.161444 -0.022886     -0.180235    0.423666   \n",
              "target                       0.044578  0.049162     -0.003039   -0.019318   \n",
              "year                         1.000000 -0.060696      0.067860   -0.172954   \n",
              "month                       -0.060696  1.000000      0.017161   -0.049823   \n",
              "installments                 0.067860  0.017161      1.000000   -0.319874   \n",
              "category_3                  -0.172954 -0.049823     -0.319874    1.000000   \n",
              "month_lag                   -0.007104 -0.008483     -0.001095   -0.000713   \n",
              "purchase_amount              0.010123  0.000467      0.222308   -0.026903   \n",
              "category_2                   0.017615 -0.006806      0.002947    0.004914   \n",
              "state_id                    -0.016600 -0.008039     -0.004983    0.014230   \n",
              "most_recent_purchases_range -0.009625 -0.016725      0.042586    0.004549   \n",
              "avg_sales_lag3              -0.005043  0.000318     -0.000560    0.002061   \n",
              "avg_purchases_lag3           0.000581 -0.000409     -0.024082   -0.001550   \n",
              "active_months_lag3           0.000673  0.000898     -0.002148    0.001943   \n",
              "avg_sales_lag6              -0.004683  0.000021     -0.000864    0.002559   \n",
              "active_months_lag6          -0.001671 -0.002622      0.002416    0.000952   \n",
              "avg_purchases_lag12         -0.010711 -0.008697      0.006940    0.009616   \n",
              "active_months_lag12         -0.000094  0.001071      0.006434   -0.001562   \n",
              "purchase_date_year           0.195899  0.185433      0.031584   -0.097870   \n",
              "purchase_date_month         -0.123589 -0.144051     -0.026511    0.082916   \n",
              "purchase_date_day            0.001306  0.002733      0.014010   -0.038094   \n",
              "purchase_date_hour           0.006222 -0.002597      0.027184   -0.001094   \n",
              "\n",
              "                             month_lag  purchase_amount  category_2  state_id  \\\n",
              "feature_1                     0.004127         0.011116   -0.023672 -0.020906   \n",
              "feature_2                     0.004133        -0.035755    0.113095  0.050931   \n",
              "feature_3                    -0.000710        -0.043566   -0.018836 -0.012011   \n",
              "target                        0.038159        -0.023410    0.003802 -0.007306   \n",
              "year                         -0.007104         0.010123    0.017615 -0.016600   \n",
              "month                        -0.008483         0.000467   -0.006806 -0.008039   \n",
              "installments                 -0.001095         0.222308    0.002947 -0.004983   \n",
              "category_3                   -0.000713        -0.026903    0.004914  0.014230   \n",
              "month_lag                     1.000000        -0.001241    0.002719 -0.003495   \n",
              "purchase_amount              -0.001241         1.000000    0.014945 -0.002209   \n",
              "category_2                    0.002719         0.014945    1.000000  0.172866   \n",
              "state_id                     -0.003495        -0.002209    0.172866  1.000000   \n",
              "most_recent_purchases_range   0.006542         0.087804    0.092690  0.039366   \n",
              "avg_sales_lag3               -0.002241         0.000137   -0.003035 -0.001726   \n",
              "avg_purchases_lag3            0.001310        -0.013872    0.013763  0.026008   \n",
              "active_months_lag3            0.000758        -0.030514   -0.001496 -0.003522   \n",
              "avg_sales_lag6               -0.000594         0.002023   -0.003052 -0.001650   \n",
              "active_months_lag6           -0.025530        -0.013497   -0.005603 -0.001692   \n",
              "avg_purchases_lag12          -0.012035         0.007574    0.021347  0.069473   \n",
              "active_months_lag12          -0.018039        -0.006502   -0.003033 -0.003188   \n",
              "purchase_date_year            0.039939         0.007402    0.001569 -0.012052   \n",
              "purchase_date_month           0.123132        -0.006115   -0.002197  0.005280   \n",
              "purchase_date_day            -0.003341        -0.001184   -0.003356  0.000146   \n",
              "purchase_date_hour           -0.008242         0.008258    0.013261  0.006493   \n",
              "\n",
              "                             most_recent_purchases_range  avg_sales_lag3  \\\n",
              "feature_1                                       0.011776       -0.000554   \n",
              "feature_2                                       0.007595        0.000603   \n",
              "feature_3                                      -0.014798       -0.000391   \n",
              "target                                         -0.006483        0.000053   \n",
              "year                                           -0.009625       -0.005043   \n",
              "month                                          -0.016725        0.000318   \n",
              "installments                                    0.042586       -0.000560   \n",
              "category_3                                      0.004549        0.002061   \n",
              "month_lag                                       0.006542       -0.002241   \n",
              "purchase_amount                                 0.087804        0.000137   \n",
              "category_2                                      0.092690       -0.003035   \n",
              "state_id                                        0.039366       -0.001726   \n",
              "most_recent_purchases_range                     1.000000        0.006973   \n",
              "avg_sales_lag3                                  0.006973        1.000000   \n",
              "avg_purchases_lag3                             -0.064095        0.004929   \n",
              "active_months_lag3                             -0.010568        0.000044   \n",
              "avg_sales_lag6                                  0.007062        0.827870   \n",
              "active_months_lag6                             -0.043366        0.000251   \n",
              "avg_purchases_lag12                            -0.010962        0.004925   \n",
              "active_months_lag12                            -0.006660       -0.011832   \n",
              "purchase_date_year                             -0.002470       -0.009156   \n",
              "purchase_date_month                             0.004599        0.001954   \n",
              "purchase_date_day                              -0.004387       -0.001814   \n",
              "purchase_date_hour                             -0.049409        0.001679   \n",
              "\n",
              "                             avg_purchases_lag3  active_months_lag3  \\\n",
              "feature_1                              0.008748            0.003106   \n",
              "feature_2                             -0.001885            0.002905   \n",
              "feature_3                              0.015544            0.003667   \n",
              "target                                 0.000107            0.001197   \n",
              "year                                   0.000581            0.000673   \n",
              "month                                 -0.000409            0.000898   \n",
              "installments                          -0.024082           -0.002148   \n",
              "category_3                            -0.001550            0.001943   \n",
              "month_lag                              0.001310            0.000758   \n",
              "purchase_amount                       -0.013872           -0.030514   \n",
              "category_2                             0.013763           -0.001496   \n",
              "state_id                               0.026008           -0.003522   \n",
              "most_recent_purchases_range           -0.064095           -0.010568   \n",
              "avg_sales_lag3                         0.004929            0.000044   \n",
              "avg_purchases_lag3                     1.000000           -0.000962   \n",
              "active_months_lag3                    -0.000962            1.000000   \n",
              "avg_sales_lag6                         0.004980            0.000045   \n",
              "active_months_lag6                     0.019816            0.370508   \n",
              "avg_purchases_lag12                    0.634763            0.008676   \n",
              "active_months_lag12                    0.101516            0.143979   \n",
              "purchase_date_year                    -0.014714            0.005651   \n",
              "purchase_date_month                    0.006090           -0.004971   \n",
              "purchase_date_day                     -0.009129            0.003427   \n",
              "purchase_date_hour                    -0.041538           -0.000255   \n",
              "\n",
              "                             avg_sales_lag6  active_months_lag6  \\\n",
              "feature_1                         -0.000192            0.003634   \n",
              "feature_2                          0.000864            0.001225   \n",
              "feature_3                         -0.000456            0.003763   \n",
              "target                            -0.000067           -0.005890   \n",
              "year                              -0.004683           -0.001671   \n",
              "month                              0.000021           -0.002622   \n",
              "installments                      -0.000864            0.002416   \n",
              "category_3                         0.002559            0.000952   \n",
              "month_lag                         -0.000594           -0.025530   \n",
              "purchase_amount                    0.002023           -0.013497   \n",
              "category_2                        -0.003052           -0.005603   \n",
              "state_id                          -0.001650           -0.001692   \n",
              "most_recent_purchases_range        0.007062           -0.043366   \n",
              "avg_sales_lag3                     0.827870            0.000251   \n",
              "avg_purchases_lag3                 0.004980            0.019816   \n",
              "active_months_lag3                 0.000045            0.370508   \n",
              "avg_sales_lag6                     1.000000            0.000256   \n",
              "active_months_lag6                 0.000256            1.000000   \n",
              "avg_purchases_lag12                0.004992            0.043290   \n",
              "active_months_lag12               -0.008649            0.606146   \n",
              "purchase_date_year                -0.009226           -0.020721   \n",
              "purchase_date_month                0.003681            0.008896   \n",
              "purchase_date_day                  0.000210           -0.014395   \n",
              "purchase_date_hour                 0.001602           -0.002496   \n",
              "\n",
              "                             avg_purchases_lag12  active_months_lag12  \\\n",
              "feature_1                               0.006830             0.004335   \n",
              "feature_2                               0.003509            -0.001148   \n",
              "feature_3                               0.014530             0.001293   \n",
              "target                                 -0.012687            -0.008634   \n",
              "year                                   -0.010711            -0.000094   \n",
              "month                                  -0.008697             0.001071   \n",
              "installments                            0.006940             0.006434   \n",
              "category_3                              0.009616            -0.001562   \n",
              "month_lag                              -0.012035            -0.018039   \n",
              "purchase_amount                         0.007574            -0.006502   \n",
              "category_2                              0.021347            -0.003033   \n",
              "state_id                                0.069473            -0.003188   \n",
              "most_recent_purchases_range            -0.010962            -0.006660   \n",
              "avg_sales_lag3                          0.004925            -0.011832   \n",
              "avg_purchases_lag3                      0.634763             0.101516   \n",
              "active_months_lag3                      0.008676             0.143979   \n",
              "avg_sales_lag6                          0.004992            -0.008649   \n",
              "active_months_lag6                      0.043290             0.606146   \n",
              "avg_purchases_lag12                     1.000000             0.145357   \n",
              "active_months_lag12                     0.145357             1.000000   \n",
              "purchase_date_year                     -0.044487            -0.048209   \n",
              "purchase_date_month                     0.028989             0.030675   \n",
              "purchase_date_day                      -0.007028            -0.009714   \n",
              "purchase_date_hour                     -0.007988            -0.010414   \n",
              "\n",
              "                             purchase_date_year  purchase_date_month  \\\n",
              "feature_1                             -0.049337             0.036001   \n",
              "feature_2                             -0.044104             0.013761   \n",
              "feature_3                             -0.050791             0.044659   \n",
              "target                                 0.112855            -0.084543   \n",
              "year                                   0.195899            -0.123589   \n",
              "month                                  0.185433            -0.144051   \n",
              "installments                           0.031584            -0.026511   \n",
              "category_3                            -0.097870             0.082916   \n",
              "month_lag                              0.039939             0.123132   \n",
              "purchase_amount                        0.007402            -0.006115   \n",
              "category_2                             0.001569            -0.002197   \n",
              "state_id                              -0.012052             0.005280   \n",
              "most_recent_purchases_range           -0.002470             0.004599   \n",
              "avg_sales_lag3                        -0.009156             0.001954   \n",
              "avg_purchases_lag3                    -0.014714             0.006090   \n",
              "active_months_lag3                     0.005651            -0.004971   \n",
              "avg_sales_lag6                        -0.009226             0.003681   \n",
              "active_months_lag6                    -0.020721             0.008896   \n",
              "avg_purchases_lag12                   -0.044487             0.028989   \n",
              "active_months_lag12                   -0.048209             0.030675   \n",
              "purchase_date_year                     1.000000            -0.866571   \n",
              "purchase_date_month                   -0.866571             1.000000   \n",
              "purchase_date_day                      0.008575            -0.000499   \n",
              "purchase_date_hour                    -0.022737            -0.004665   \n",
              "\n",
              "                             purchase_date_day  purchase_date_hour  \n",
              "feature_1                             0.000245           -0.019664  \n",
              "feature_2                             0.003051           -0.002392  \n",
              "feature_3                            -0.022914           -0.017939  \n",
              "target                                0.022132           -0.005850  \n",
              "year                                  0.001306            0.006222  \n",
              "month                                 0.002733           -0.002597  \n",
              "installments                          0.014010            0.027184  \n",
              "category_3                           -0.038094           -0.001094  \n",
              "month_lag                            -0.003341           -0.008242  \n",
              "purchase_amount                      -0.001184            0.008258  \n",
              "category_2                           -0.003356            0.013261  \n",
              "state_id                              0.000146            0.006493  \n",
              "most_recent_purchases_range          -0.004387           -0.049409  \n",
              "avg_sales_lag3                       -0.001814            0.001679  \n",
              "avg_purchases_lag3                   -0.009129           -0.041538  \n",
              "active_months_lag3                    0.003427           -0.000255  \n",
              "avg_sales_lag6                        0.000210            0.001602  \n",
              "active_months_lag6                   -0.014395           -0.002496  \n",
              "avg_purchases_lag12                  -0.007028           -0.007988  \n",
              "active_months_lag12                  -0.009714           -0.010414  \n",
              "purchase_date_year                    0.008575           -0.022737  \n",
              "purchase_date_month                  -0.000499           -0.004665  \n",
              "purchase_date_day                     1.000000           -0.010081  \n",
              "purchase_date_hour                   -0.010081            1.000000  "
            ],
            "text/html": [
              "\n",
              "  <div id=\"df-8de87afd-fe75-4925-ade7-af706d46d816\">\n",
              "    <div class=\"colab-df-container\">\n",
              "      <div>\n",
              "<style scoped>\n",
              "    .dataframe tbody tr th:only-of-type {\n",
              "        vertical-align: middle;\n",
              "    }\n",
              "\n",
              "    .dataframe tbody tr th {\n",
              "        vertical-align: top;\n",
              "    }\n",
              "\n",
              "    .dataframe thead th {\n",
              "        text-align: right;\n",
              "    }\n",
              "</style>\n",
              "<table border=\"1\" class=\"dataframe\">\n",
              "  <thead>\n",
              "    <tr style=\"text-align: right;\">\n",
              "      <th></th>\n",
              "      <th>feature_1</th>\n",
              "      <th>feature_2</th>\n",
              "      <th>feature_3</th>\n",
              "      <th>target</th>\n",
              "      <th>year</th>\n",
              "      <th>month</th>\n",
              "      <th>installments</th>\n",
              "      <th>category_3</th>\n",
              "      <th>month_lag</th>\n",
              "      <th>purchase_amount</th>\n",
              "      <th>category_2</th>\n",
              "      <th>state_id</th>\n",
              "      <th>most_recent_purchases_range</th>\n",
              "      <th>avg_sales_lag3</th>\n",
              "      <th>avg_purchases_lag3</th>\n",
              "      <th>active_months_lag3</th>\n",
              "      <th>avg_sales_lag6</th>\n",
              "      <th>active_months_lag6</th>\n",
              "      <th>avg_purchases_lag12</th>\n",
              "      <th>active_months_lag12</th>\n",
              "      <th>purchase_date_year</th>\n",
              "      <th>purchase_date_month</th>\n",
              "      <th>purchase_date_day</th>\n",
              "      <th>purchase_date_hour</th>\n",
              "    </tr>\n",
              "  </thead>\n",
              "  <tbody>\n",
              "    <tr>\n",
              "      <th>feature_1</th>\n",
              "      <td>1.000000</td>\n",
              "      <td>-0.089571</td>\n",
              "      <td>0.565854</td>\n",
              "      <td>-0.013897</td>\n",
              "      <td>-0.085487</td>\n",
              "      <td>-0.022706</td>\n",
              "      <td>-0.036180</td>\n",
              "      <td>0.112036</td>\n",
              "      <td>0.004127</td>\n",
              "      <td>0.011116</td>\n",
              "      <td>-0.023672</td>\n",
              "      <td>-0.020906</td>\n",
              "      <td>0.011776</td>\n",
              "      <td>-0.000554</td>\n",
              "      <td>0.008748</td>\n",
              "      <td>0.003106</td>\n",
              "      <td>-0.000192</td>\n",
              "      <td>0.003634</td>\n",
              "      <td>0.006830</td>\n",
              "      <td>0.004335</td>\n",
              "      <td>-0.049337</td>\n",
              "      <td>0.036001</td>\n",
              "      <td>0.000245</td>\n",
              "      <td>-0.019664</td>\n",
              "    </tr>\n",
              "    <tr>\n",
              "      <th>feature_2</th>\n",
              "      <td>-0.089571</td>\n",
              "      <td>1.000000</td>\n",
              "      <td>0.011069</td>\n",
              "      <td>-0.019445</td>\n",
              "      <td>-0.134071</td>\n",
              "      <td>-0.046916</td>\n",
              "      <td>-0.084258</td>\n",
              "      <td>0.221459</td>\n",
              "      <td>0.004133</td>\n",
              "      <td>-0.035755</td>\n",
              "      <td>0.113095</td>\n",
              "      <td>0.050931</td>\n",
              "      <td>0.007595</td>\n",
              "      <td>0.000603</td>\n",
              "      <td>-0.001885</td>\n",
              "      <td>0.002905</td>\n",
              "      <td>0.000864</td>\n",
              "      <td>0.001225</td>\n",
              "      <td>0.003509</td>\n",
              "      <td>-0.001148</td>\n",
              "      <td>-0.044104</td>\n",
              "      <td>0.013761</td>\n",
              "      <td>0.003051</td>\n",
              "      <td>-0.002392</td>\n",
              "    </tr>\n",
              "    <tr>\n",
              "      <th>feature_3</th>\n",
              "      <td>0.565854</td>\n",
              "      <td>0.011069</td>\n",
              "      <td>1.000000</td>\n",
              "      <td>-0.021270</td>\n",
              "      <td>-0.161444</td>\n",
              "      <td>-0.022886</td>\n",
              "      <td>-0.180235</td>\n",
              "      <td>0.423666</td>\n",
              "      <td>-0.000710</td>\n",
              "      <td>-0.043566</td>\n",
              "      <td>-0.018836</td>\n",
              "      <td>-0.012011</td>\n",
              "      <td>-0.014798</td>\n",
              "      <td>-0.000391</td>\n",
              "      <td>0.015544</td>\n",
              "      <td>0.003667</td>\n",
              "      <td>-0.000456</td>\n",
              "      <td>0.003763</td>\n",
              "      <td>0.014530</td>\n",
              "      <td>0.001293</td>\n",
              "      <td>-0.050791</td>\n",
              "      <td>0.044659</td>\n",
              "      <td>-0.022914</td>\n",
              "      <td>-0.017939</td>\n",
              "    </tr>\n",
              "    <tr>\n",
              "      <th>target</th>\n",
              "      <td>-0.013897</td>\n",
              "      <td>-0.019445</td>\n",
              "      <td>-0.021270</td>\n",
              "      <td>1.000000</td>\n",
              "      <td>0.044578</td>\n",
              "      <td>0.049162</td>\n",
              "      <td>-0.003039</td>\n",
              "      <td>-0.019318</td>\n",
              "      <td>0.038159</td>\n",
              "      <td>-0.023410</td>\n",
              "      <td>0.003802</td>\n",
              "      <td>-0.007306</td>\n",
              "      <td>-0.006483</td>\n",
              "      <td>0.000053</td>\n",
              "      <td>0.000107</td>\n",
              "      <td>0.001197</td>\n",
              "      <td>-0.000067</td>\n",
              "      <td>-0.005890</td>\n",
              "      <td>-0.012687</td>\n",
              "      <td>-0.008634</td>\n",
              "      <td>0.112855</td>\n",
              "      <td>-0.084543</td>\n",
              "      <td>0.022132</td>\n",
              "      <td>-0.005850</td>\n",
              "    </tr>\n",
              "    <tr>\n",
              "      <th>year</th>\n",
              "      <td>-0.085487</td>\n",
              "      <td>-0.134071</td>\n",
              "      <td>-0.161444</td>\n",
              "      <td>0.044578</td>\n",
              "      <td>1.000000</td>\n",
              "      <td>-0.060696</td>\n",
              "      <td>0.067860</td>\n",
              "      <td>-0.172954</td>\n",
              "      <td>-0.007104</td>\n",
              "      <td>0.010123</td>\n",
              "      <td>0.017615</td>\n",
              "      <td>-0.016600</td>\n",
              "      <td>-0.009625</td>\n",
              "      <td>-0.005043</td>\n",
              "      <td>0.000581</td>\n",
              "      <td>0.000673</td>\n",
              "      <td>-0.004683</td>\n",
              "      <td>-0.001671</td>\n",
              "      <td>-0.010711</td>\n",
              "      <td>-0.000094</td>\n",
              "      <td>0.195899</td>\n",
              "      <td>-0.123589</td>\n",
              "      <td>0.001306</td>\n",
              "      <td>0.006222</td>\n",
              "    </tr>\n",
              "    <tr>\n",
              "      <th>month</th>\n",
              "      <td>-0.022706</td>\n",
              "      <td>-0.046916</td>\n",
              "      <td>-0.022886</td>\n",
              "      <td>0.049162</td>\n",
              "      <td>-0.060696</td>\n",
              "      <td>1.000000</td>\n",
              "      <td>0.017161</td>\n",
              "      <td>-0.049823</td>\n",
              "      <td>-0.008483</td>\n",
              "      <td>0.000467</td>\n",
              "      <td>-0.006806</td>\n",
              "      <td>-0.008039</td>\n",
              "      <td>-0.016725</td>\n",
              "      <td>0.000318</td>\n",
              "      <td>-0.000409</td>\n",
              "      <td>0.000898</td>\n",
              "      <td>0.000021</td>\n",
              "      <td>-0.002622</td>\n",
              "      <td>-0.008697</td>\n",
              "      <td>0.001071</td>\n",
              "      <td>0.185433</td>\n",
              "      <td>-0.144051</td>\n",
              "      <td>0.002733</td>\n",
              "      <td>-0.002597</td>\n",
              "    </tr>\n",
              "    <tr>\n",
              "      <th>installments</th>\n",
              "      <td>-0.036180</td>\n",
              "      <td>-0.084258</td>\n",
              "      <td>-0.180235</td>\n",
              "      <td>-0.003039</td>\n",
              "      <td>0.067860</td>\n",
              "      <td>0.017161</td>\n",
              "      <td>1.000000</td>\n",
              "      <td>-0.319874</td>\n",
              "      <td>-0.001095</td>\n",
              "      <td>0.222308</td>\n",
              "      <td>0.002947</td>\n",
              "      <td>-0.004983</td>\n",
              "      <td>0.042586</td>\n",
              "      <td>-0.000560</td>\n",
              "      <td>-0.024082</td>\n",
              "      <td>-0.002148</td>\n",
              "      <td>-0.000864</td>\n",
              "      <td>0.002416</td>\n",
              "      <td>0.006940</td>\n",
              "      <td>0.006434</td>\n",
              "      <td>0.031584</td>\n",
              "      <td>-0.026511</td>\n",
              "      <td>0.014010</td>\n",
              "      <td>0.027184</td>\n",
              "    </tr>\n",
              "    <tr>\n",
              "      <th>category_3</th>\n",
              "      <td>0.112036</td>\n",
              "      <td>0.221459</td>\n",
              "      <td>0.423666</td>\n",
              "      <td>-0.019318</td>\n",
              "      <td>-0.172954</td>\n",
              "      <td>-0.049823</td>\n",
              "      <td>-0.319874</td>\n",
              "      <td>1.000000</td>\n",
              "      <td>-0.000713</td>\n",
              "      <td>-0.026903</td>\n",
              "      <td>0.004914</td>\n",
              "      <td>0.014230</td>\n",
              "      <td>0.004549</td>\n",
              "      <td>0.002061</td>\n",
              "      <td>-0.001550</td>\n",
              "      <td>0.001943</td>\n",
              "      <td>0.002559</td>\n",
              "      <td>0.000952</td>\n",
              "      <td>0.009616</td>\n",
              "      <td>-0.001562</td>\n",
              "      <td>-0.097870</td>\n",
              "      <td>0.082916</td>\n",
              "      <td>-0.038094</td>\n",
              "      <td>-0.001094</td>\n",
              "    </tr>\n",
              "    <tr>\n",
              "      <th>month_lag</th>\n",
              "      <td>0.004127</td>\n",
              "      <td>0.004133</td>\n",
              "      <td>-0.000710</td>\n",
              "      <td>0.038159</td>\n",
              "      <td>-0.007104</td>\n",
              "      <td>-0.008483</td>\n",
              "      <td>-0.001095</td>\n",
              "      <td>-0.000713</td>\n",
              "      <td>1.000000</td>\n",
              "      <td>-0.001241</td>\n",
              "      <td>0.002719</td>\n",
              "      <td>-0.003495</td>\n",
              "      <td>0.006542</td>\n",
              "      <td>-0.002241</td>\n",
              "      <td>0.001310</td>\n",
              "      <td>0.000758</td>\n",
              "      <td>-0.000594</td>\n",
              "      <td>-0.025530</td>\n",
              "      <td>-0.012035</td>\n",
              "      <td>-0.018039</td>\n",
              "      <td>0.039939</td>\n",
              "      <td>0.123132</td>\n",
              "      <td>-0.003341</td>\n",
              "      <td>-0.008242</td>\n",
              "    </tr>\n",
              "    <tr>\n",
              "      <th>purchase_amount</th>\n",
              "      <td>0.011116</td>\n",
              "      <td>-0.035755</td>\n",
              "      <td>-0.043566</td>\n",
              "      <td>-0.023410</td>\n",
              "      <td>0.010123</td>\n",
              "      <td>0.000467</td>\n",
              "      <td>0.222308</td>\n",
              "      <td>-0.026903</td>\n",
              "      <td>-0.001241</td>\n",
              "      <td>1.000000</td>\n",
              "      <td>0.014945</td>\n",
              "      <td>-0.002209</td>\n",
              "      <td>0.087804</td>\n",
              "      <td>0.000137</td>\n",
              "      <td>-0.013872</td>\n",
              "      <td>-0.030514</td>\n",
              "      <td>0.002023</td>\n",
              "      <td>-0.013497</td>\n",
              "      <td>0.007574</td>\n",
              "      <td>-0.006502</td>\n",
              "      <td>0.007402</td>\n",
              "      <td>-0.006115</td>\n",
              "      <td>-0.001184</td>\n",
              "      <td>0.008258</td>\n",
              "    </tr>\n",
              "    <tr>\n",
              "      <th>category_2</th>\n",
              "      <td>-0.023672</td>\n",
              "      <td>0.113095</td>\n",
              "      <td>-0.018836</td>\n",
              "      <td>0.003802</td>\n",
              "      <td>0.017615</td>\n",
              "      <td>-0.006806</td>\n",
              "      <td>0.002947</td>\n",
              "      <td>0.004914</td>\n",
              "      <td>0.002719</td>\n",
              "      <td>0.014945</td>\n",
              "      <td>1.000000</td>\n",
              "      <td>0.172866</td>\n",
              "      <td>0.092690</td>\n",
              "      <td>-0.003035</td>\n",
              "      <td>0.013763</td>\n",
              "      <td>-0.001496</td>\n",
              "      <td>-0.003052</td>\n",
              "      <td>-0.005603</td>\n",
              "      <td>0.021347</td>\n",
              "      <td>-0.003033</td>\n",
              "      <td>0.001569</td>\n",
              "      <td>-0.002197</td>\n",
              "      <td>-0.003356</td>\n",
              "      <td>0.013261</td>\n",
              "    </tr>\n",
              "    <tr>\n",
              "      <th>state_id</th>\n",
              "      <td>-0.020906</td>\n",
              "      <td>0.050931</td>\n",
              "      <td>-0.012011</td>\n",
              "      <td>-0.007306</td>\n",
              "      <td>-0.016600</td>\n",
              "      <td>-0.008039</td>\n",
              "      <td>-0.004983</td>\n",
              "      <td>0.014230</td>\n",
              "      <td>-0.003495</td>\n",
              "      <td>-0.002209</td>\n",
              "      <td>0.172866</td>\n",
              "      <td>1.000000</td>\n",
              "      <td>0.039366</td>\n",
              "      <td>-0.001726</td>\n",
              "      <td>0.026008</td>\n",
              "      <td>-0.003522</td>\n",
              "      <td>-0.001650</td>\n",
              "      <td>-0.001692</td>\n",
              "      <td>0.069473</td>\n",
              "      <td>-0.003188</td>\n",
              "      <td>-0.012052</td>\n",
              "      <td>0.005280</td>\n",
              "      <td>0.000146</td>\n",
              "      <td>0.006493</td>\n",
              "    </tr>\n",
              "    <tr>\n",
              "      <th>most_recent_purchases_range</th>\n",
              "      <td>0.011776</td>\n",
              "      <td>0.007595</td>\n",
              "      <td>-0.014798</td>\n",
              "      <td>-0.006483</td>\n",
              "      <td>-0.009625</td>\n",
              "      <td>-0.016725</td>\n",
              "      <td>0.042586</td>\n",
              "      <td>0.004549</td>\n",
              "      <td>0.006542</td>\n",
              "      <td>0.087804</td>\n",
              "      <td>0.092690</td>\n",
              "      <td>0.039366</td>\n",
              "      <td>1.000000</td>\n",
              "      <td>0.006973</td>\n",
              "      <td>-0.064095</td>\n",
              "      <td>-0.010568</td>\n",
              "      <td>0.007062</td>\n",
              "      <td>-0.043366</td>\n",
              "      <td>-0.010962</td>\n",
              "      <td>-0.006660</td>\n",
              "      <td>-0.002470</td>\n",
              "      <td>0.004599</td>\n",
              "      <td>-0.004387</td>\n",
              "      <td>-0.049409</td>\n",
              "    </tr>\n",
              "    <tr>\n",
              "      <th>avg_sales_lag3</th>\n",
              "      <td>-0.000554</td>\n",
              "      <td>0.000603</td>\n",
              "      <td>-0.000391</td>\n",
              "      <td>0.000053</td>\n",
              "      <td>-0.005043</td>\n",
              "      <td>0.000318</td>\n",
              "      <td>-0.000560</td>\n",
              "      <td>0.002061</td>\n",
              "      <td>-0.002241</td>\n",
              "      <td>0.000137</td>\n",
              "      <td>-0.003035</td>\n",
              "      <td>-0.001726</td>\n",
              "      <td>0.006973</td>\n",
              "      <td>1.000000</td>\n",
              "      <td>0.004929</td>\n",
              "      <td>0.000044</td>\n",
              "      <td>0.827870</td>\n",
              "      <td>0.000251</td>\n",
              "      <td>0.004925</td>\n",
              "      <td>-0.011832</td>\n",
              "      <td>-0.009156</td>\n",
              "      <td>0.001954</td>\n",
              "      <td>-0.001814</td>\n",
              "      <td>0.001679</td>\n",
              "    </tr>\n",
              "    <tr>\n",
              "      <th>avg_purchases_lag3</th>\n",
              "      <td>0.008748</td>\n",
              "      <td>-0.001885</td>\n",
              "      <td>0.015544</td>\n",
              "      <td>0.000107</td>\n",
              "      <td>0.000581</td>\n",
              "      <td>-0.000409</td>\n",
              "      <td>-0.024082</td>\n",
              "      <td>-0.001550</td>\n",
              "      <td>0.001310</td>\n",
              "      <td>-0.013872</td>\n",
              "      <td>0.013763</td>\n",
              "      <td>0.026008</td>\n",
              "      <td>-0.064095</td>\n",
              "      <td>0.004929</td>\n",
              "      <td>1.000000</td>\n",
              "      <td>-0.000962</td>\n",
              "      <td>0.004980</td>\n",
              "      <td>0.019816</td>\n",
              "      <td>0.634763</td>\n",
              "      <td>0.101516</td>\n",
              "      <td>-0.014714</td>\n",
              "      <td>0.006090</td>\n",
              "      <td>-0.009129</td>\n",
              "      <td>-0.041538</td>\n",
              "    </tr>\n",
              "    <tr>\n",
              "      <th>active_months_lag3</th>\n",
              "      <td>0.003106</td>\n",
              "      <td>0.002905</td>\n",
              "      <td>0.003667</td>\n",
              "      <td>0.001197</td>\n",
              "      <td>0.000673</td>\n",
              "      <td>0.000898</td>\n",
              "      <td>-0.002148</td>\n",
              "      <td>0.001943</td>\n",
              "      <td>0.000758</td>\n",
              "      <td>-0.030514</td>\n",
              "      <td>-0.001496</td>\n",
              "      <td>-0.003522</td>\n",
              "      <td>-0.010568</td>\n",
              "      <td>0.000044</td>\n",
              "      <td>-0.000962</td>\n",
              "      <td>1.000000</td>\n",
              "      <td>0.000045</td>\n",
              "      <td>0.370508</td>\n",
              "      <td>0.008676</td>\n",
              "      <td>0.143979</td>\n",
              "      <td>0.005651</td>\n",
              "      <td>-0.004971</td>\n",
              "      <td>0.003427</td>\n",
              "      <td>-0.000255</td>\n",
              "    </tr>\n",
              "    <tr>\n",
              "      <th>avg_sales_lag6</th>\n",
              "      <td>-0.000192</td>\n",
              "      <td>0.000864</td>\n",
              "      <td>-0.000456</td>\n",
              "      <td>-0.000067</td>\n",
              "      <td>-0.004683</td>\n",
              "      <td>0.000021</td>\n",
              "      <td>-0.000864</td>\n",
              "      <td>0.002559</td>\n",
              "      <td>-0.000594</td>\n",
              "      <td>0.002023</td>\n",
              "      <td>-0.003052</td>\n",
              "      <td>-0.001650</td>\n",
              "      <td>0.007062</td>\n",
              "      <td>0.827870</td>\n",
              "      <td>0.004980</td>\n",
              "      <td>0.000045</td>\n",
              "      <td>1.000000</td>\n",
              "      <td>0.000256</td>\n",
              "      <td>0.004992</td>\n",
              "      <td>-0.008649</td>\n",
              "      <td>-0.009226</td>\n",
              "      <td>0.003681</td>\n",
              "      <td>0.000210</td>\n",
              "      <td>0.001602</td>\n",
              "    </tr>\n",
              "    <tr>\n",
              "      <th>active_months_lag6</th>\n",
              "      <td>0.003634</td>\n",
              "      <td>0.001225</td>\n",
              "      <td>0.003763</td>\n",
              "      <td>-0.005890</td>\n",
              "      <td>-0.001671</td>\n",
              "      <td>-0.002622</td>\n",
              "      <td>0.002416</td>\n",
              "      <td>0.000952</td>\n",
              "      <td>-0.025530</td>\n",
              "      <td>-0.013497</td>\n",
              "      <td>-0.005603</td>\n",
              "      <td>-0.001692</td>\n",
              "      <td>-0.043366</td>\n",
              "      <td>0.000251</td>\n",
              "      <td>0.019816</td>\n",
              "      <td>0.370508</td>\n",
              "      <td>0.000256</td>\n",
              "      <td>1.000000</td>\n",
              "      <td>0.043290</td>\n",
              "      <td>0.606146</td>\n",
              "      <td>-0.020721</td>\n",
              "      <td>0.008896</td>\n",
              "      <td>-0.014395</td>\n",
              "      <td>-0.002496</td>\n",
              "    </tr>\n",
              "    <tr>\n",
              "      <th>avg_purchases_lag12</th>\n",
              "      <td>0.006830</td>\n",
              "      <td>0.003509</td>\n",
              "      <td>0.014530</td>\n",
              "      <td>-0.012687</td>\n",
              "      <td>-0.010711</td>\n",
              "      <td>-0.008697</td>\n",
              "      <td>0.006940</td>\n",
              "      <td>0.009616</td>\n",
              "      <td>-0.012035</td>\n",
              "      <td>0.007574</td>\n",
              "      <td>0.021347</td>\n",
              "      <td>0.069473</td>\n",
              "      <td>-0.010962</td>\n",
              "      <td>0.004925</td>\n",
              "      <td>0.634763</td>\n",
              "      <td>0.008676</td>\n",
              "      <td>0.004992</td>\n",
              "      <td>0.043290</td>\n",
              "      <td>1.000000</td>\n",
              "      <td>0.145357</td>\n",
              "      <td>-0.044487</td>\n",
              "      <td>0.028989</td>\n",
              "      <td>-0.007028</td>\n",
              "      <td>-0.007988</td>\n",
              "    </tr>\n",
              "    <tr>\n",
              "      <th>active_months_lag12</th>\n",
              "      <td>0.004335</td>\n",
              "      <td>-0.001148</td>\n",
              "      <td>0.001293</td>\n",
              "      <td>-0.008634</td>\n",
              "      <td>-0.000094</td>\n",
              "      <td>0.001071</td>\n",
              "      <td>0.006434</td>\n",
              "      <td>-0.001562</td>\n",
              "      <td>-0.018039</td>\n",
              "      <td>-0.006502</td>\n",
              "      <td>-0.003033</td>\n",
              "      <td>-0.003188</td>\n",
              "      <td>-0.006660</td>\n",
              "      <td>-0.011832</td>\n",
              "      <td>0.101516</td>\n",
              "      <td>0.143979</td>\n",
              "      <td>-0.008649</td>\n",
              "      <td>0.606146</td>\n",
              "      <td>0.145357</td>\n",
              "      <td>1.000000</td>\n",
              "      <td>-0.048209</td>\n",
              "      <td>0.030675</td>\n",
              "      <td>-0.009714</td>\n",
              "      <td>-0.010414</td>\n",
              "    </tr>\n",
              "    <tr>\n",
              "      <th>purchase_date_year</th>\n",
              "      <td>-0.049337</td>\n",
              "      <td>-0.044104</td>\n",
              "      <td>-0.050791</td>\n",
              "      <td>0.112855</td>\n",
              "      <td>0.195899</td>\n",
              "      <td>0.185433</td>\n",
              "      <td>0.031584</td>\n",
              "      <td>-0.097870</td>\n",
              "      <td>0.039939</td>\n",
              "      <td>0.007402</td>\n",
              "      <td>0.001569</td>\n",
              "      <td>-0.012052</td>\n",
              "      <td>-0.002470</td>\n",
              "      <td>-0.009156</td>\n",
              "      <td>-0.014714</td>\n",
              "      <td>0.005651</td>\n",
              "      <td>-0.009226</td>\n",
              "      <td>-0.020721</td>\n",
              "      <td>-0.044487</td>\n",
              "      <td>-0.048209</td>\n",
              "      <td>1.000000</td>\n",
              "      <td>-0.866571</td>\n",
              "      <td>0.008575</td>\n",
              "      <td>-0.022737</td>\n",
              "    </tr>\n",
              "    <tr>\n",
              "      <th>purchase_date_month</th>\n",
              "      <td>0.036001</td>\n",
              "      <td>0.013761</td>\n",
              "      <td>0.044659</td>\n",
              "      <td>-0.084543</td>\n",
              "      <td>-0.123589</td>\n",
              "      <td>-0.144051</td>\n",
              "      <td>-0.026511</td>\n",
              "      <td>0.082916</td>\n",
              "      <td>0.123132</td>\n",
              "      <td>-0.006115</td>\n",
              "      <td>-0.002197</td>\n",
              "      <td>0.005280</td>\n",
              "      <td>0.004599</td>\n",
              "      <td>0.001954</td>\n",
              "      <td>0.006090</td>\n",
              "      <td>-0.004971</td>\n",
              "      <td>0.003681</td>\n",
              "      <td>0.008896</td>\n",
              "      <td>0.028989</td>\n",
              "      <td>0.030675</td>\n",
              "      <td>-0.866571</td>\n",
              "      <td>1.000000</td>\n",
              "      <td>-0.000499</td>\n",
              "      <td>-0.004665</td>\n",
              "    </tr>\n",
              "    <tr>\n",
              "      <th>purchase_date_day</th>\n",
              "      <td>0.000245</td>\n",
              "      <td>0.003051</td>\n",
              "      <td>-0.022914</td>\n",
              "      <td>0.022132</td>\n",
              "      <td>0.001306</td>\n",
              "      <td>0.002733</td>\n",
              "      <td>0.014010</td>\n",
              "      <td>-0.038094</td>\n",
              "      <td>-0.003341</td>\n",
              "      <td>-0.001184</td>\n",
              "      <td>-0.003356</td>\n",
              "      <td>0.000146</td>\n",
              "      <td>-0.004387</td>\n",
              "      <td>-0.001814</td>\n",
              "      <td>-0.009129</td>\n",
              "      <td>0.003427</td>\n",
              "      <td>0.000210</td>\n",
              "      <td>-0.014395</td>\n",
              "      <td>-0.007028</td>\n",
              "      <td>-0.009714</td>\n",
              "      <td>0.008575</td>\n",
              "      <td>-0.000499</td>\n",
              "      <td>1.000000</td>\n",
              "      <td>-0.010081</td>\n",
              "    </tr>\n",
              "    <tr>\n",
              "      <th>purchase_date_hour</th>\n",
              "      <td>-0.019664</td>\n",
              "      <td>-0.002392</td>\n",
              "      <td>-0.017939</td>\n",
              "      <td>-0.005850</td>\n",
              "      <td>0.006222</td>\n",
              "      <td>-0.002597</td>\n",
              "      <td>0.027184</td>\n",
              "      <td>-0.001094</td>\n",
              "      <td>-0.008242</td>\n",
              "      <td>0.008258</td>\n",
              "      <td>0.013261</td>\n",
              "      <td>0.006493</td>\n",
              "      <td>-0.049409</td>\n",
              "      <td>0.001679</td>\n",
              "      <td>-0.041538</td>\n",
              "      <td>-0.000255</td>\n",
              "      <td>0.001602</td>\n",
              "      <td>-0.002496</td>\n",
              "      <td>-0.007988</td>\n",
              "      <td>-0.010414</td>\n",
              "      <td>-0.022737</td>\n",
              "      <td>-0.004665</td>\n",
              "      <td>-0.010081</td>\n",
              "      <td>1.000000</td>\n",
              "    </tr>\n",
              "  </tbody>\n",
              "</table>\n",
              "</div>\n",
              "      <button class=\"colab-df-convert\" onclick=\"convertToInteractive('df-8de87afd-fe75-4925-ade7-af706d46d816')\"\n",
              "              title=\"Convert this dataframe to an interactive table.\"\n",
              "              style=\"display:none;\">\n",
              "        \n",
              "  <svg xmlns=\"http://www.w3.org/2000/svg\" height=\"24px\"viewBox=\"0 0 24 24\"\n",
              "       width=\"24px\">\n",
              "    <path d=\"M0 0h24v24H0V0z\" fill=\"none\"/>\n",
              "    <path d=\"M18.56 5.44l.94 2.06.94-2.06 2.06-.94-2.06-.94-.94-2.06-.94 2.06-2.06.94zm-11 1L8.5 8.5l.94-2.06 2.06-.94-2.06-.94L8.5 2.5l-.94 2.06-2.06.94zm10 10l.94 2.06.94-2.06 2.06-.94-2.06-.94-.94-2.06-.94 2.06-2.06.94z\"/><path d=\"M17.41 7.96l-1.37-1.37c-.4-.4-.92-.59-1.43-.59-.52 0-1.04.2-1.43.59L10.3 9.45l-7.72 7.72c-.78.78-.78 2.05 0 2.83L4 21.41c.39.39.9.59 1.41.59.51 0 1.02-.2 1.41-.59l7.78-7.78 2.81-2.81c.8-.78.8-2.07 0-2.86zM5.41 20L4 18.59l7.72-7.72 1.47 1.35L5.41 20z\"/>\n",
              "  </svg>\n",
              "      </button>\n",
              "      \n",
              "  <style>\n",
              "    .colab-df-container {\n",
              "      display:flex;\n",
              "      flex-wrap:wrap;\n",
              "      gap: 12px;\n",
              "    }\n",
              "\n",
              "    .colab-df-convert {\n",
              "      background-color: #E8F0FE;\n",
              "      border: none;\n",
              "      border-radius: 50%;\n",
              "      cursor: pointer;\n",
              "      display: none;\n",
              "      fill: #1967D2;\n",
              "      height: 32px;\n",
              "      padding: 0 0 0 0;\n",
              "      width: 32px;\n",
              "    }\n",
              "\n",
              "    .colab-df-convert:hover {\n",
              "      background-color: #E2EBFA;\n",
              "      box-shadow: 0px 1px 2px rgba(60, 64, 67, 0.3), 0px 1px 3px 1px rgba(60, 64, 67, 0.15);\n",
              "      fill: #174EA6;\n",
              "    }\n",
              "\n",
              "    [theme=dark] .colab-df-convert {\n",
              "      background-color: #3B4455;\n",
              "      fill: #D2E3FC;\n",
              "    }\n",
              "\n",
              "    [theme=dark] .colab-df-convert:hover {\n",
              "      background-color: #434B5C;\n",
              "      box-shadow: 0px 1px 3px 1px rgba(0, 0, 0, 0.15);\n",
              "      filter: drop-shadow(0px 1px 2px rgba(0, 0, 0, 0.3));\n",
              "      fill: #FFFFFF;\n",
              "    }\n",
              "  </style>\n",
              "\n",
              "      <script>\n",
              "        const buttonEl =\n",
              "          document.querySelector('#df-8de87afd-fe75-4925-ade7-af706d46d816 button.colab-df-convert');\n",
              "        buttonEl.style.display =\n",
              "          google.colab.kernel.accessAllowed ? 'block' : 'none';\n",
              "\n",
              "        async function convertToInteractive(key) {\n",
              "          const element = document.querySelector('#df-8de87afd-fe75-4925-ade7-af706d46d816');\n",
              "          const dataTable =\n",
              "            await google.colab.kernel.invokeFunction('convertToInteractive',\n",
              "                                                     [key], {});\n",
              "          if (!dataTable) return;\n",
              "\n",
              "          const docLinkHtml = 'Like what you see? Visit the ' +\n",
              "            '<a target=\"_blank\" href=https://colab.research.google.com/notebooks/data_table.ipynb>data table notebook</a>'\n",
              "            + ' to learn more about interactive tables.';\n",
              "          element.innerHTML = '';\n",
              "          dataTable['output_type'] = 'display_data';\n",
              "          await google.colab.output.renderOutput(dataTable, element);\n",
              "          const docLink = document.createElement('div');\n",
              "          docLink.innerHTML = docLinkHtml;\n",
              "          element.appendChild(docLink);\n",
              "        }\n",
              "      </script>\n",
              "    </div>\n",
              "  </div>\n",
              "  "
            ]
          },
          "metadata": {},
          "execution_count": 95
        }
      ]
    },
    {
      "cell_type": "code",
      "source": [
        "plt.figure(figsize=(16, 16))\n",
        "sns.heatmap(dataset.corr());"
      ],
      "metadata": {
        "colab": {
          "base_uri": "https://localhost:8080/",
          "height": 1000
        },
        "id": "uCU_ehBxyk_I",
        "outputId": "e3867a57-f8ff-4c7a-e463-c4a6a432b14f"
      },
      "execution_count": 96,
      "outputs": [
        {
          "output_type": "display_data",
          "data": {
            "text/plain": [
              "<Figure size 1152x1152 with 2 Axes>"
            ],
            "image/png": "[encoded data removed]"
          },
          "metadata": {
            "needs_background": "light"
          }
        }
      ]
    },
    {
      "cell_type": "code",
      "source": [
        "dataset.to_csv(\"dataset.csv\")"
      ],
      "metadata": {
        "id": "pBMCLXoa5rBw"
      },
      "execution_count": 97,
      "outputs": []
    },
    {
      "cell_type": "code",
      "source": [
        "X = dataset.drop([\"card_id\",\"target\"],axis=1)\n",
        "y = dataset[\"target\"]"
      ],
      "metadata": {
        "id": "40jv_Bx0yhDM"
      },
      "execution_count": 98,
      "outputs": []
    },
    {
      "cell_type": "code",
      "source": [
        "from sklearn.model_selection import train_test_split"
      ],
      "metadata": {
        "id": "tRGDyJykz7Vp"
      },
      "execution_count": 99,
      "outputs": []
    },
    {
      "cell_type": "code",
      "source": [
        "from sklearn.metrics import mean_squared_error"
      ],
      "metadata": {
        "id": "npDj_3qxz_mX"
      },
      "execution_count": 100,
      "outputs": []
    },
    {
      "cell_type": "code",
      "source": [
        "X_train, X_test, y_train, y_test = train_test_split(X, y, test_size=0.3, random_state=101)"
      ],
      "metadata": {
        "id": "oOr5Op_K0BJc"
      },
      "execution_count": 101,
      "outputs": []
    },
    {
      "cell_type": "code",
      "source": [
        "regressor = DecisionTreeRegressor(max_depth=6, random_state=42)"
      ],
      "metadata": {
        "id": "prR69qqp0Fz2"
      },
      "execution_count": 102,
      "outputs": []
    },
    {
      "cell_type": "code",
      "source": [
        "regressor.fit(X_train,y_train)"
      ],
      "metadata": {
        "colab": {
          "base_uri": "https://localhost:8080/"
        },
        "id": "AeFYPwoT0IHJ",
        "outputId": "4a24b758-2fa8-48a6-8632-6d4878d78f12"
      },
      "execution_count": 103,
      "outputs": [
        {
          "output_type": "execute_result",
          "data": {
            "text/plain": [
              "DecisionTreeRegressor(max_depth=6, random_state=42)"
            ]
          },
          "metadata": {},
          "execution_count": 103
        }
      ]
    },
    {
      "cell_type": "code",
      "source": [
        "y_train_pred = regressor.predict(X_train)"
      ],
      "metadata": {
        "id": "gbk4fpfy0KQR"
      },
      "execution_count": 104,
      "outputs": []
    },
    {
      "cell_type": "code",
      "source": [
        "mean_squared_error(y_train,y_train_pred,squared=False)"
      ],
      "metadata": {
        "colab": {
          "base_uri": "https://localhost:8080/"
        },
        "id": "lJXpuzUj0N__",
        "outputId": "4a54ff6f-5ff2-4dde-f281-73c104467103"
      },
      "execution_count": 105,
      "outputs": [
        {
          "output_type": "execute_result",
          "data": {
            "text/plain": [
              "2.6997013361952105"
            ]
          },
          "metadata": {},
          "execution_count": 105
        }
      ]
    },
    {
      "cell_type": "code",
      "source": [
        "y_test_pred = regressor.predict(X_test)"
      ],
      "metadata": {
        "id": "NtxMZ6or0XWq"
      },
      "execution_count": 106,
      "outputs": []
    },
    {
      "cell_type": "code",
      "source": [
        "mean_squared_error(y_test,y_test_pred,squared=False)"
      ],
      "metadata": {
        "colab": {
          "base_uri": "https://localhost:8080/"
        },
        "id": "PxVWad9n0ayX",
        "outputId": "5da692bb-53fd-4524-f235-262bea2f6ca1"
      },
      "execution_count": 107,
      "outputs": [
        {
          "output_type": "execute_result",
          "data": {
            "text/plain": [
              "2.742167348912744"
            ]
          },
          "metadata": {},
          "execution_count": 107
        }
      ]
    },
    {
      "cell_type": "markdown",
      "source": [
        "## Manipulate test data same as train data"
      ],
      "metadata": {
        "id": "MQxevRUfXro4"
      }
    },
    {
      "cell_type": "code",
      "source": [
        "test_dataset = pd.read_csv('dataset/test.csv')"
      ],
      "metadata": {
        "id": "Ei2TTHuEXpai"
      },
      "execution_count": 108,
      "outputs": []
    },
    {
      "cell_type": "code",
      "source": [
        "test_dataset.shape"
      ],
      "metadata": {
        "colab": {
          "base_uri": "https://localhost:8080/"
        },
        "id": "QHTuKDU0Z6Jy",
        "outputId": "c20ad2cb-0413-4f86-fc06-74417e5c7fbe"
      },
      "execution_count": 109,
      "outputs": [
        {
          "output_type": "execute_result",
          "data": {
            "text/plain": [
              "(123623, 5)"
            ]
          },
          "metadata": {},
          "execution_count": 109
        }
      ]
    },
    {
      "cell_type": "code",
      "source": [
        "test_dataset.head()"
      ],
      "metadata": {
        "colab": {
          "base_uri": "https://localhost:8080/",
          "height": 204
        },
        "id": "b2tTFg5SX4p1",
        "outputId": "89ce98cb-780b-4d1b-ce53-fb3cc65b7034"
      },
      "execution_count": 110,
      "outputs": [
        {
          "output_type": "execute_result",
          "data": {
            "text/plain": [
              "  first_active_month          card_id  feature_1  feature_2  feature_3\n",
              "0            2017-04  C_ID_0ab67a22ab          3          3          1\n",
              "1            2017-01  C_ID_130fd0cbdd          2          3          0\n",
              "2            2017-08  C_ID_b709037bc5          5          1          1\n",
              "3            2017-12  C_ID_d27d835a9f          2          1          0\n",
              "4            2015-12  C_ID_2b5e3df5c2          5          1          1"
            ],
            "text/html": [
              "\n",
              "  <div id=\"df-2634f57a-5c47-4481-9818-1105ce68bcdf\">\n",
              "    <div class=\"colab-df-container\">\n",
              "      <div>\n",
              "<style scoped>\n",
              "    .dataframe tbody tr th:only-of-type {\n",
              "        vertical-align: middle;\n",
              "    }\n",
              "\n",
              "    .dataframe tbody tr th {\n",
              "        vertical-align: top;\n",
              "    }\n",
              "\n",
              "    .dataframe thead th {\n",
              "        text-align: right;\n",
              "    }\n",
              "</style>\n",
              "<table border=\"1\" class=\"dataframe\">\n",
              "  <thead>\n",
              "    <tr style=\"text-align: right;\">\n",
              "      <th></th>\n",
              "      <th>first_active_month</th>\n",
              "      <th>card_id</th>\n",
              "      <th>feature_1</th>\n",
              "      <th>feature_2</th>\n",
              "      <th>feature_3</th>\n",
              "    </tr>\n",
              "  </thead>\n",
              "  <tbody>\n",
              "    <tr>\n",
              "      <th>0</th>\n",
              "      <td>2017-04</td>\n",
              "      <td>C_ID_0ab67a22ab</td>\n",
              "      <td>3</td>\n",
              "      <td>3</td>\n",
              "      <td>1</td>\n",
              "    </tr>\n",
              "    <tr>\n",
              "      <th>1</th>\n",
              "      <td>2017-01</td>\n",
              "      <td>C_ID_130fd0cbdd</td>\n",
              "      <td>2</td>\n",
              "      <td>3</td>\n",
              "      <td>0</td>\n",
              "    </tr>\n",
              "    <tr>\n",
              "      <th>2</th>\n",
              "      <td>2017-08</td>\n",
              "      <td>C_ID_b709037bc5</td>\n",
              "      <td>5</td>\n",
              "      <td>1</td>\n",
              "      <td>1</td>\n",
              "    </tr>\n",
              "    <tr>\n",
              "      <th>3</th>\n",
              "      <td>2017-12</td>\n",
              "      <td>C_ID_d27d835a9f</td>\n",
              "      <td>2</td>\n",
              "      <td>1</td>\n",
              "      <td>0</td>\n",
              "    </tr>\n",
              "    <tr>\n",
              "      <th>4</th>\n",
              "      <td>2015-12</td>\n",
              "      <td>C_ID_2b5e3df5c2</td>\n",
              "      <td>5</td>\n",
              "      <td>1</td>\n",
              "      <td>1</td>\n",
              "    </tr>\n",
              "  </tbody>\n",
              "</table>\n",
              "</div>\n",
              "      <button class=\"colab-df-convert\" onclick=\"convertToInteractive('df-2634f57a-5c47-4481-9818-1105ce68bcdf')\"\n",
              "              title=\"Convert this dataframe to an interactive table.\"\n",
              "              style=\"display:none;\">\n",
              "        \n",
              "  <svg xmlns=\"http://www.w3.org/2000/svg\" height=\"24px\"viewBox=\"0 0 24 24\"\n",
              "       width=\"24px\">\n",
              "    <path d=\"M0 0h24v24H0V0z\" fill=\"none\"/>\n",
              "    <path d=\"M18.56 5.44l.94 2.06.94-2.06 2.06-.94-2.06-.94-.94-2.06-.94 2.06-2.06.94zm-11 1L8.5 8.5l.94-2.06 2.06-.94-2.06-.94L8.5 2.5l-.94 2.06-2.06.94zm10 10l.94 2.06.94-2.06 2.06-.94-2.06-.94-.94-2.06-.94 2.06-2.06.94z\"/><path d=\"M17.41 7.96l-1.37-1.37c-.4-.4-.92-.59-1.43-.59-.52 0-1.04.2-1.43.59L10.3 9.45l-7.72 7.72c-.78.78-.78 2.05 0 2.83L4 21.41c.39.39.9.59 1.41.59.51 0 1.02-.2 1.41-.59l7.78-7.78 2.81-2.81c.8-.78.8-2.07 0-2.86zM5.41 20L4 18.59l7.72-7.72 1.47 1.35L5.41 20z\"/>\n",
              "  </svg>\n",
              "      </button>\n",
              "      \n",
              "  <style>\n",
              "    .colab-df-container {\n",
              "      display:flex;\n",
              "      flex-wrap:wrap;\n",
              "      gap: 12px;\n",
              "    }\n",
              "\n",
              "    .colab-df-convert {\n",
              "      background-color: #E8F0FE;\n",
              "      border: none;\n",
              "      border-radius: 50%;\n",
              "      cursor: pointer;\n",
              "      display: none;\n",
              "      fill: #1967D2;\n",
              "      height: 32px;\n",
              "      padding: 0 0 0 0;\n",
              "      width: 32px;\n",
              "    }\n",
              "\n",
              "    .colab-df-convert:hover {\n",
              "      background-color: #E2EBFA;\n",
              "      box-shadow: 0px 1px 2px rgba(60, 64, 67, 0.3), 0px 1px 3px 1px rgba(60, 64, 67, 0.15);\n",
              "      fill: #174EA6;\n",
              "    }\n",
              "\n",
              "    [theme=dark] .colab-df-convert {\n",
              "      background-color: #3B4455;\n",
              "      fill: #D2E3FC;\n",
              "    }\n",
              "\n",
              "    [theme=dark] .colab-df-convert:hover {\n",
              "      background-color: #434B5C;\n",
              "      box-shadow: 0px 1px 3px 1px rgba(0, 0, 0, 0.15);\n",
              "      filter: drop-shadow(0px 1px 2px rgba(0, 0, 0, 0.3));\n",
              "      fill: #FFFFFF;\n",
              "    }\n",
              "  </style>\n",
              "\n",
              "      <script>\n",
              "        const buttonEl =\n",
              "          document.querySelector('#df-2634f57a-5c47-4481-9818-1105ce68bcdf button.colab-df-convert');\n",
              "        buttonEl.style.display =\n",
              "          google.colab.kernel.accessAllowed ? 'block' : 'none';\n",
              "\n",
              "        async function convertToInteractive(key) {\n",
              "          const element = document.querySelector('#df-2634f57a-5c47-4481-9818-1105ce68bcdf');\n",
              "          const dataTable =\n",
              "            await google.colab.kernel.invokeFunction('convertToInteractive',\n",
              "                                                     [key], {});\n",
              "          if (!dataTable) return;\n",
              "\n",
              "          const docLinkHtml = 'Like what you see? Visit the ' +\n",
              "            '<a target=\"_blank\" href=https://colab.research.google.com/notebooks/data_table.ipynb>data table notebook</a>'\n",
              "            + ' to learn more about interactive tables.';\n",
              "          element.innerHTML = '';\n",
              "          dataTable['output_type'] = 'display_data';\n",
              "          await google.colab.output.renderOutput(dataTable, element);\n",
              "          const docLink = document.createElement('div');\n",
              "          docLink.innerHTML = docLinkHtml;\n",
              "          element.appendChild(docLink);\n",
              "        }\n",
              "      </script>\n",
              "    </div>\n",
              "  </div>\n",
              "  "
            ]
          },
          "metadata": {},
          "execution_count": 110
        }
      ]
    },
    {
      "cell_type": "code",
      "source": [
        "test_dataset[\"year\"]=0"
      ],
      "metadata": {
        "id": "Mm_y2I9WX-up"
      },
      "execution_count": 111,
      "outputs": []
    },
    {
      "cell_type": "code",
      "source": [
        "test_dataset.head()"
      ],
      "metadata": {
        "colab": {
          "base_uri": "https://localhost:8080/",
          "height": 204
        },
        "id": "NC3cexmhYlSM",
        "outputId": "ddf3c266-9a4e-41ef-ab67-dec405220fb7"
      },
      "execution_count": 112,
      "outputs": [
        {
          "output_type": "execute_result",
          "data": {
            "text/plain": [
              "  first_active_month          card_id  feature_1  feature_2  feature_3  year\n",
              "0            2017-04  C_ID_0ab67a22ab          3          3          1     0\n",
              "1            2017-01  C_ID_130fd0cbdd          2          3          0     0\n",
              "2            2017-08  C_ID_b709037bc5          5          1          1     0\n",
              "3            2017-12  C_ID_d27d835a9f          2          1          0     0\n",
              "4            2015-12  C_ID_2b5e3df5c2          5          1          1     0"
            ],
            "text/html": [
              "\n",
              "  <div id=\"df-732a40b0-31ec-464c-86e6-696326023214\">\n",
              "    <div class=\"colab-df-container\">\n",
              "      <div>\n",
              "<style scoped>\n",
              "    .dataframe tbody tr th:only-of-type {\n",
              "        vertical-align: middle;\n",
              "    }\n",
              "\n",
              "    .dataframe tbody tr th {\n",
              "        vertical-align: top;\n",
              "    }\n",
              "\n",
              "    .dataframe thead th {\n",
              "        text-align: right;\n",
              "    }\n",
              "</style>\n",
              "<table border=\"1\" class=\"dataframe\">\n",
              "  <thead>\n",
              "    <tr style=\"text-align: right;\">\n",
              "      <th></th>\n",
              "      <th>first_active_month</th>\n",
              "      <th>card_id</th>\n",
              "      <th>feature_1</th>\n",
              "      <th>feature_2</th>\n",
              "      <th>feature_3</th>\n",
              "      <th>year</th>\n",
              "    </tr>\n",
              "  </thead>\n",
              "  <tbody>\n",
              "    <tr>\n",
              "      <th>0</th>\n",
              "      <td>2017-04</td>\n",
              "      <td>C_ID_0ab67a22ab</td>\n",
              "      <td>3</td>\n",
              "      <td>3</td>\n",
              "      <td>1</td>\n",
              "      <td>0</td>\n",
              "    </tr>\n",
              "    <tr>\n",
              "      <th>1</th>\n",
              "      <td>2017-01</td>\n",
              "      <td>C_ID_130fd0cbdd</td>\n",
              "      <td>2</td>\n",
              "      <td>3</td>\n",
              "      <td>0</td>\n",
              "      <td>0</td>\n",
              "    </tr>\n",
              "    <tr>\n",
              "      <th>2</th>\n",
              "      <td>2017-08</td>\n",
              "      <td>C_ID_b709037bc5</td>\n",
              "      <td>5</td>\n",
              "      <td>1</td>\n",
              "      <td>1</td>\n",
              "      <td>0</td>\n",
              "    </tr>\n",
              "    <tr>\n",
              "      <th>3</th>\n",
              "      <td>2017-12</td>\n",
              "      <td>C_ID_d27d835a9f</td>\n",
              "      <td>2</td>\n",
              "      <td>1</td>\n",
              "      <td>0</td>\n",
              "      <td>0</td>\n",
              "    </tr>\n",
              "    <tr>\n",
              "      <th>4</th>\n",
              "      <td>2015-12</td>\n",
              "      <td>C_ID_2b5e3df5c2</td>\n",
              "      <td>5</td>\n",
              "      <td>1</td>\n",
              "      <td>1</td>\n",
              "      <td>0</td>\n",
              "    </tr>\n",
              "  </tbody>\n",
              "</table>\n",
              "</div>\n",
              "      <button class=\"colab-df-convert\" onclick=\"convertToInteractive('df-732a40b0-31ec-464c-86e6-696326023214')\"\n",
              "              title=\"Convert this dataframe to an interactive table.\"\n",
              "              style=\"display:none;\">\n",
              "        \n",
              "  <svg xmlns=\"http://www.w3.org/2000/svg\" height=\"24px\"viewBox=\"0 0 24 24\"\n",
              "       width=\"24px\">\n",
              "    <path d=\"M0 0h24v24H0V0z\" fill=\"none\"/>\n",
              "    <path d=\"M18.56 5.44l.94 2.06.94-2.06 2.06-.94-2.06-.94-.94-2.06-.94 2.06-2.06.94zm-11 1L8.5 8.5l.94-2.06 2.06-.94-2.06-.94L8.5 2.5l-.94 2.06-2.06.94zm10 10l.94 2.06.94-2.06 2.06-.94-2.06-.94-.94-2.06-.94 2.06-2.06.94z\"/><path d=\"M17.41 7.96l-1.37-1.37c-.4-.4-.92-.59-1.43-.59-.52 0-1.04.2-1.43.59L10.3 9.45l-7.72 7.72c-.78.78-.78 2.05 0 2.83L4 21.41c.39.39.9.59 1.41.59.51 0 1.02-.2 1.41-.59l7.78-7.78 2.81-2.81c.8-.78.8-2.07 0-2.86zM5.41 20L4 18.59l7.72-7.72 1.47 1.35L5.41 20z\"/>\n",
              "  </svg>\n",
              "      </button>\n",
              "      \n",
              "  <style>\n",
              "    .colab-df-container {\n",
              "      display:flex;\n",
              "      flex-wrap:wrap;\n",
              "      gap: 12px;\n",
              "    }\n",
              "\n",
              "    .colab-df-convert {\n",
              "      background-color: #E8F0FE;\n",
              "      border: none;\n",
              "      border-radius: 50%;\n",
              "      cursor: pointer;\n",
              "      display: none;\n",
              "      fill: #1967D2;\n",
              "      height: 32px;\n",
              "      padding: 0 0 0 0;\n",
              "      width: 32px;\n",
              "    }\n",
              "\n",
              "    .colab-df-convert:hover {\n",
              "      background-color: #E2EBFA;\n",
              "      box-shadow: 0px 1px 2px rgba(60, 64, 67, 0.3), 0px 1px 3px 1px rgba(60, 64, 67, 0.15);\n",
              "      fill: #174EA6;\n",
              "    }\n",
              "\n",
              "    [theme=dark] .colab-df-convert {\n",
              "      background-color: #3B4455;\n",
              "      fill: #D2E3FC;\n",
              "    }\n",
              "\n",
              "    [theme=dark] .colab-df-convert:hover {\n",
              "      background-color: #434B5C;\n",
              "      box-shadow: 0px 1px 3px 1px rgba(0, 0, 0, 0.15);\n",
              "      filter: drop-shadow(0px 1px 2px rgba(0, 0, 0, 0.3));\n",
              "      fill: #FFFFFF;\n",
              "    }\n",
              "  </style>\n",
              "\n",
              "      <script>\n",
              "        const buttonEl =\n",
              "          document.querySelector('#df-732a40b0-31ec-464c-86e6-696326023214 button.colab-df-convert');\n",
              "        buttonEl.style.display =\n",
              "          google.colab.kernel.accessAllowed ? 'block' : 'none';\n",
              "\n",
              "        async function convertToInteractive(key) {\n",
              "          const element = document.querySelector('#df-732a40b0-31ec-464c-86e6-696326023214');\n",
              "          const dataTable =\n",
              "            await google.colab.kernel.invokeFunction('convertToInteractive',\n",
              "                                                     [key], {});\n",
              "          if (!dataTable) return;\n",
              "\n",
              "          const docLinkHtml = 'Like what you see? Visit the ' +\n",
              "            '<a target=\"_blank\" href=https://colab.research.google.com/notebooks/data_table.ipynb>data table notebook</a>'\n",
              "            + ' to learn more about interactive tables.';\n",
              "          element.innerHTML = '';\n",
              "          dataTable['output_type'] = 'display_data';\n",
              "          await google.colab.output.renderOutput(dataTable, element);\n",
              "          const docLink = document.createElement('div');\n",
              "          docLink.innerHTML = docLinkHtml;\n",
              "          element.appendChild(docLink);\n",
              "        }\n",
              "      </script>\n",
              "    </div>\n",
              "  </div>\n",
              "  "
            ]
          },
          "metadata": {},
          "execution_count": 112
        }
      ]
    },
    {
      "cell_type": "code",
      "source": [
        "test_dataset.iloc[2][0]"
      ],
      "metadata": {
        "colab": {
          "base_uri": "https://localhost:8080/",
          "height": 37
        },
        "id": "Th8d63mwYctR",
        "outputId": "447798ac-ce4c-4b96-9ce0-a3011fdf256f"
      },
      "execution_count": 113,
      "outputs": [
        {
          "output_type": "execute_result",
          "data": {
            "text/plain": [
              "'2017-08'"
            ],
            "application/vnd.google.colaboratory.intrinsic+json": {
              "type": "string"
            }
          },
          "metadata": {},
          "execution_count": 113
        }
      ]
    },
    {
      "cell_type": "code",
      "source": [
        "test_dataset[\"first_active_month\"] = test_dataset[\"first_active_month\"].fillna(\"2017-09\")"
      ],
      "metadata": {
        "id": "-D6Vv0BhZB-J"
      },
      "execution_count": 114,
      "outputs": []
    },
    {
      "cell_type": "code",
      "source": [
        "for i in range(test_dataset.shape[0]):\n",
        "  test_dataset['year'][i] = int(test_dataset.iloc[i][0][0:4])"
      ],
      "metadata": {
        "colab": {
          "base_uri": "https://localhost:8080/"
        },
        "id": "rsH_-6scYNqo",
        "outputId": "c3b8582e-8aa6-4cd1-cb28-a4f61a858c82"
      },
      "execution_count": 115,
      "outputs": [
        {
          "output_type": "stream",
          "name": "stderr",
          "text": [
            "/usr/local/lib/python3.7/dist-packages/ipykernel_launcher.py:2: SettingWithCopyWarning: \n",
            "A value is trying to be set on a copy of a slice from a DataFrame\n",
            "\n",
            "See the caveats in the documentation: https://pandas.pydata.org/pandas-docs/stable/user_guide/indexing.html#returning-a-view-versus-a-copy\n",
            "  \n"
          ]
        }
      ]
    },
    {
      "cell_type": "code",
      "source": [
        "test_dataset[\"month\"]=0\n",
        "for i in range(test_dataset.shape[0]):\n",
        "  test_dataset['month'][i] = int(test_dataset.iloc[i][0][5:7])"
      ],
      "metadata": {
        "colab": {
          "base_uri": "https://localhost:8080/"
        },
        "id": "iA1ZJxKRYVQc",
        "outputId": "db42730a-f600-451f-a260-eae702ffa9ce"
      },
      "execution_count": 116,
      "outputs": [
        {
          "output_type": "stream",
          "name": "stderr",
          "text": [
            "/usr/local/lib/python3.7/dist-packages/ipykernel_launcher.py:3: SettingWithCopyWarning: \n",
            "A value is trying to be set on a copy of a slice from a DataFrame\n",
            "\n",
            "See the caveats in the documentation: https://pandas.pydata.org/pandas-docs/stable/user_guide/indexing.html#returning-a-view-versus-a-copy\n",
            "  This is separate from the ipykernel package so we can avoid doing imports until\n"
          ]
        }
      ]
    },
    {
      "cell_type": "code",
      "source": [
        "merch_tran1 = merch_tran.drop_duplicates(subset='card_id', keep=\"first\")"
      ],
      "metadata": {
        "id": "M8EJIP2ta_aM"
      },
      "execution_count": 118,
      "outputs": []
    },
    {
      "cell_type": "code",
      "source": [
        "test_dataset_merged = pd.merge(test_dataset, merch_tran1, how=\"left\", on=[\"card_id\"])"
      ],
      "metadata": {
        "id": "nFjh3M-qbDLR"
      },
      "execution_count": 155,
      "outputs": []
    },
    {
      "cell_type": "code",
      "source": [
        "test_dataset_merged.shape"
      ],
      "metadata": {
        "colab": {
          "base_uri": "https://localhost:8080/"
        },
        "id": "UfjKn6QCbnAf",
        "outputId": "403a0862-7414-4964-eebf-b17ff5e4a788"
      },
      "execution_count": 156,
      "outputs": [
        {
          "output_type": "execute_result",
          "data": {
            "text/plain": [
              "(123623, 35)"
            ]
          },
          "metadata": {},
          "execution_count": 156
        }
      ]
    },
    {
      "cell_type": "code",
      "source": [
        "test_dataset_merged.info()"
      ],
      "metadata": {
        "colab": {
          "base_uri": "https://localhost:8080/"
        },
        "id": "qdhxnIH_c5eo",
        "outputId": "8a89ec73-984a-43aa-e86c-c8ca166f3464"
      },
      "execution_count": 169,
      "outputs": [
        {
          "output_type": "stream",
          "name": "stdout",
          "text": [
            "<class 'pandas.core.frame.DataFrame'>\n",
            "Int64Index: 123623 entries, 0 to 123622\n",
            "Data columns (total 35 columns):\n",
            " #   Column                       Non-Null Count   Dtype         \n",
            "---  ------                       --------------   -----         \n",
            " 0   first_active_month           123623 non-null  object        \n",
            " 1   card_id                      123623 non-null  object        \n",
            " 2   feature_1                    123623 non-null  int64         \n",
            " 3   feature_2                    123623 non-null  int64         \n",
            " 4   feature_3                    123623 non-null  int64         \n",
            " 5   year                         123623 non-null  int64         \n",
            " 6   month                        123623 non-null  int64         \n",
            " 7   authorized_flag              123623 non-null  object        \n",
            " 8   city_id                      123623 non-null  float64       \n",
            " 9   category_1                   123623 non-null  object        \n",
            " 10  installments                 123623 non-null  float64       \n",
            " 11  category_3                   123623 non-null  int64         \n",
            " 12  merchant_category_id         123623 non-null  float64       \n",
            " 13  merchant_id                  123623 non-null  object        \n",
            " 14  month_lag                    123623 non-null  float64       \n",
            " 15  purchase_amount              123623 non-null  float64       \n",
            " 16  purchase_date                123623 non-null  datetime64[ns]\n",
            " 17  category_2                   123623 non-null  float64       \n",
            " 18  state_id                     123623 non-null  float64       \n",
            " 19  subsector_id                 123623 non-null  float64       \n",
            " 20  merchant_group_id            123623 non-null  float64       \n",
            " 21  numerical_1                  123623 non-null  float64       \n",
            " 22  numerical_2                  123623 non-null  float64       \n",
            " 23  most_recent_sales_range      123623 non-null  object        \n",
            " 24  most_recent_purchases_range  123623 non-null  int64         \n",
            " 25  avg_sales_lag3               123623 non-null  float64       \n",
            " 26  avg_purchases_lag3           123623 non-null  float64       \n",
            " 27  active_months_lag3           123623 non-null  float64       \n",
            " 28  avg_sales_lag6               123623 non-null  float64       \n",
            " 29  avg_purchases_lag6           123623 non-null  float64       \n",
            " 30  active_months_lag6           123623 non-null  float64       \n",
            " 31  avg_sales_lag12              123623 non-null  float64       \n",
            " 32  avg_purchases_lag12          123623 non-null  float64       \n",
            " 33  active_months_lag12          123623 non-null  float64       \n",
            " 34  category_4                   123623 non-null  object        \n",
            "dtypes: datetime64[ns](1), float64(20), int64(7), object(7)\n",
            "memory usage: 34.0+ MB\n"
          ]
        }
      ]
    },
    {
      "cell_type": "code",
      "source": [
        "test_dataset_merged.isnull().sum()"
      ],
      "metadata": {
        "id": "QPBcFg19tv_B",
        "colab": {
          "base_uri": "https://localhost:8080/"
        },
        "outputId": "6c54762c-214d-4ecd-f771-7ff9b3954831"
      },
      "execution_count": 170,
      "outputs": [
        {
          "output_type": "execute_result",
          "data": {
            "text/plain": [
              "first_active_month             0\n",
              "card_id                        0\n",
              "feature_1                      0\n",
              "feature_2                      0\n",
              "feature_3                      0\n",
              "year                           0\n",
              "month                          0\n",
              "authorized_flag                0\n",
              "city_id                        0\n",
              "category_1                     0\n",
              "installments                   0\n",
              "category_3                     0\n",
              "merchant_category_id           0\n",
              "merchant_id                    0\n",
              "month_lag                      0\n",
              "purchase_amount                0\n",
              "purchase_date                  0\n",
              "category_2                     0\n",
              "state_id                       0\n",
              "subsector_id                   0\n",
              "merchant_group_id              0\n",
              "numerical_1                    0\n",
              "numerical_2                    0\n",
              "most_recent_sales_range        0\n",
              "most_recent_purchases_range    0\n",
              "avg_sales_lag3                 0\n",
              "avg_purchases_lag3             0\n",
              "active_months_lag3             0\n",
              "avg_sales_lag6                 0\n",
              "avg_purchases_lag6             0\n",
              "active_months_lag6             0\n",
              "avg_sales_lag12                0\n",
              "avg_purchases_lag12            0\n",
              "active_months_lag12            0\n",
              "category_4                     0\n",
              "dtype: int64"
            ]
          },
          "metadata": {},
          "execution_count": 170
        }
      ]
    },
    {
      "cell_type": "code",
      "source": [
        "test_dataset_merged['most_recent_purchases_range'] = test_dataset_merged['most_recent_purchases_range'].fillna('A')"
      ],
      "metadata": {
        "id": "2GMvyKvWdSfL"
      },
      "execution_count": 159,
      "outputs": []
    },
    {
      "cell_type": "code",
      "source": [
        "test_dataset_merged['category_3'] = test_dataset_merged['category_3'].fillna('B')"
      ],
      "metadata": {
        "id": "KUM6Z-YJdcfU"
      },
      "execution_count": 160,
      "outputs": []
    },
    {
      "cell_type": "markdown",
      "source": [
        "active_month_lag3->3\n",
        "\\\n",
        "active_month_lag6->6\n",
        "\\\n",
        "active_month_lag12->12\n",
        "\\\n",
        "installments->999\n",
        "\\\n",
        "month_lag->2\n",
        "\\\n",
        "category_2->5"
      ],
      "metadata": {
        "id": "baNXsyh1dzs4"
      }
    },
    {
      "cell_type": "code",
      "source": [
        "test_dataset_merged['active_months_lag3'].fillna(3,inplace=True)"
      ],
      "metadata": {
        "id": "wOEyn3IWeWfa"
      },
      "execution_count": 162,
      "outputs": []
    },
    {
      "cell_type": "code",
      "source": [
        "test_dataset_merged['active_months_lag6'].fillna(6,inplace=True)\n",
        "test_dataset_merged['active_months_lag12'].fillna(12,inplace=True)\n",
        "test_dataset_merged['installments'].fillna(999,inplace=True)\n",
        "test_dataset_merged['month_lag'].fillna(2,inplace=True)\n",
        "test_dataset_merged['category_2'].fillna(5,inplace=True)"
      ],
      "metadata": {
        "id": "1eNi6xS2dj70"
      },
      "execution_count": 163,
      "outputs": []
    },
    {
      "cell_type": "code",
      "source": [
        "continuous_na = ['avg_sales_lag3', 'avg_purchases_lag3', 'avg_sales_lag6', 'avg_purchases_lag12', 'purchase_amount', 'state_id']"
      ],
      "metadata": {
        "id": "slY3ny0MeNzZ"
      },
      "execution_count": 164,
      "outputs": []
    },
    {
      "cell_type": "code",
      "source": [
        "for feature in continuous_na:\n",
        "  test_dataset_merged.fillna(test_dataset_merged[feature].mean(),inplace=True)"
      ],
      "metadata": {
        "id": "bswCdKaxfAnN"
      },
      "execution_count": 165,
      "outputs": []
    },
    {
      "cell_type": "markdown",
      "source": [
        "Binarize the continuous vars"
      ],
      "metadata": {
        "id": "jmrtZ-r2f5uO"
      }
    },
    {
      "cell_type": "code",
      "source": [
        "test_dataset_merged[scale_list] = est.transform(test_dataset_merged[scale_list])"
      ],
      "metadata": {
        "id": "PO8fac_wfygg"
      },
      "execution_count": 166,
      "outputs": []
    },
    {
      "cell_type": "markdown",
      "source": [
        "ordinal encoding:"
      ],
      "metadata": {
        "id": "7aXjiqFzgHCk"
      }
    },
    {
      "cell_type": "code",
      "source": [
        "test_dataset_merged['category_3']=test_dataset_merged['category_3'].map(dict1)\n",
        "test_dataset_merged['most_recent_purchases_range']=test_dataset_merged['most_recent_purchases_range'].map(dict2)"
      ],
      "metadata": {
        "id": "K5pVMZLSfySq"
      },
      "execution_count": 167,
      "outputs": []
    },
    {
      "cell_type": "code",
      "source": [
        "test_dataset_merged['purchase_date'] = pd.to_datetime(test_dataset_merged['purchase_date'], format = '%Y-%m-%d %H:%M:%S')"
      ],
      "metadata": {
        "id": "tWvALUvEfMyo"
      },
      "execution_count": 168,
      "outputs": []
    },
    {
      "cell_type": "code",
      "source": [
        "test_dataset_merged['purchase_date_year'] = test_dataset_merged['purchase_date'].dt.year\n",
        "test_dataset_merged['purchase_date_month'] = test_dataset_merged['purchase_date'].dt.month\n",
        "test_dataset_merged['purchase_date_week'] = test_dataset_merged['purchase_date'].dt.week\n",
        "test_dataset_merged['purchase_date_day'] = test_dataset_merged['purchase_date'].dt.day\n",
        "test_dataset_merged['purchase_date_hour'] = test_dataset_merged['purchase_date'].dt.hour\n",
        "test_dataset_merged['purchase_date_minute'] = test_dataset_merged['purchase_date'].dt.minute\n",
        "test_dataset_merged['purchase_date_dayofweek'] = test_dataset_merged['purchase_date'].dt.dayofweek"
      ],
      "metadata": {
        "colab": {
          "base_uri": "https://localhost:8080/"
        },
        "id": "hlmHTcnnfbSW",
        "outputId": "634dc540-9398-47b0-cb56-3c778dda7ab0"
      },
      "execution_count": 171,
      "outputs": [
        {
          "output_type": "stream",
          "name": "stderr",
          "text": [
            "/usr/local/lib/python3.7/dist-packages/ipykernel_launcher.py:3: FutureWarning: Series.dt.weekofyear and Series.dt.week have been deprecated.  Please use Series.dt.isocalendar().week instead.\n",
            "  This is separate from the ipykernel package so we can avoid doing imports until\n"
          ]
        }
      ]
    },
    {
      "cell_type": "code",
      "source": [
        "final_test_features = ['feature_1', 'feature_2', 'feature_3', 'year',\n",
        "       'month', 'installments', 'category_3', 'month_lag', 'purchase_amount',\n",
        "       'category_2', 'state_id', 'most_recent_purchases_range',\n",
        "       'avg_sales_lag3', 'avg_purchases_lag3', 'active_months_lag3',\n",
        "       'avg_sales_lag6', 'active_months_lag6', 'avg_purchases_lag12',\n",
        "       'active_months_lag12', 'purchase_date_year', 'purchase_date_month',\n",
        "       'purchase_date_day', 'purchase_date_hour']"
      ],
      "metadata": {
        "id": "PSCbjZ1ShJKM"
      },
      "execution_count": 172,
      "outputs": []
    },
    {
      "cell_type": "code",
      "source": [
        "test_data = test_dataset_merged[final_test_features]"
      ],
      "metadata": {
        "id": "5UZfYCNlhdCL"
      },
      "execution_count": 173,
      "outputs": []
    },
    {
      "cell_type": "code",
      "source": [
        "test_data.shape"
      ],
      "metadata": {
        "colab": {
          "base_uri": "https://localhost:8080/"
        },
        "id": "ySWNWw9XhjG9",
        "outputId": "e12f8c2a-54b3-4699-86af-6979d0cdd6d2"
      },
      "execution_count": 174,
      "outputs": [
        {
          "output_type": "execute_result",
          "data": {
            "text/plain": [
              "(123623, 23)"
            ]
          },
          "metadata": {},
          "execution_count": 174
        }
      ]
    },
    {
      "cell_type": "code",
      "source": [
        "test_data.info()"
      ],
      "metadata": {
        "colab": {
          "base_uri": "https://localhost:8080/"
        },
        "id": "b1WN6nZsiv8a",
        "outputId": "5f051089-7eb0-4416-b8f6-158a80f103b0"
      },
      "execution_count": 175,
      "outputs": [
        {
          "output_type": "stream",
          "name": "stdout",
          "text": [
            "<class 'pandas.core.frame.DataFrame'>\n",
            "Int64Index: 123623 entries, 0 to 123622\n",
            "Data columns (total 23 columns):\n",
            " #   Column                       Non-Null Count   Dtype  \n",
            "---  ------                       --------------   -----  \n",
            " 0   feature_1                    123623 non-null  int64  \n",
            " 1   feature_2                    123623 non-null  int64  \n",
            " 2   feature_3                    123623 non-null  int64  \n",
            " 3   year                         123623 non-null  int64  \n",
            " 4   month                        123623 non-null  int64  \n",
            " 5   installments                 123623 non-null  float64\n",
            " 6   category_3                   123623 non-null  int64  \n",
            " 7   month_lag                    123623 non-null  float64\n",
            " 8   purchase_amount              123623 non-null  float64\n",
            " 9   category_2                   123623 non-null  float64\n",
            " 10  state_id                     123623 non-null  float64\n",
            " 11  most_recent_purchases_range  123623 non-null  int64  \n",
            " 12  avg_sales_lag3               123623 non-null  float64\n",
            " 13  avg_purchases_lag3           123623 non-null  float64\n",
            " 14  active_months_lag3           123623 non-null  float64\n",
            " 15  avg_sales_lag6               123623 non-null  float64\n",
            " 16  active_months_lag6           123623 non-null  float64\n",
            " 17  avg_purchases_lag12          123623 non-null  float64\n",
            " 18  active_months_lag12          123623 non-null  float64\n",
            " 19  purchase_date_year           123623 non-null  int64  \n",
            " 20  purchase_date_month          123623 non-null  int64  \n",
            " 21  purchase_date_day            123623 non-null  int64  \n",
            " 22  purchase_date_hour           123623 non-null  int64  \n",
            "dtypes: float64(12), int64(11)\n",
            "memory usage: 22.6 MB\n"
          ]
        }
      ]
    },
    {
      "cell_type": "code",
      "source": [
        "y_pred = regressor.predict(test_data)"
      ],
      "metadata": {
        "id": "N7ZL7pmghllg"
      },
      "execution_count": 176,
      "outputs": []
    },
    {
      "cell_type": "code",
      "source": [
        "test_dataset_merged[\"target\"]=0"
      ],
      "metadata": {
        "id": "LIOdpEwMijAA"
      },
      "execution_count": 179,
      "outputs": []
    },
    {
      "cell_type": "code",
      "source": [
        "test_dataset_merged[\"target\"] = y_pred"
      ],
      "metadata": {
        "id": "I1dObInYj4yI"
      },
      "execution_count": 180,
      "outputs": []
    },
    {
      "cell_type": "code",
      "source": [
        "submit=test_dataset_merged[['card_id', 'target']]"
      ],
      "metadata": {
        "id": "LQZ6cvmQj79P"
      },
      "execution_count": 182,
      "outputs": []
    },
    {
      "cell_type": "code",
      "source": [
        "submit.head()"
      ],
      "metadata": {
        "colab": {
          "base_uri": "https://localhost:8080/",
          "height": 204
        },
        "id": "k8Uvi6ZgkRWe",
        "outputId": "6c77ce1b-d8eb-453c-fc8d-117bb43dd3c5"
      },
      "execution_count": 183,
      "outputs": [
        {
          "output_type": "execute_result",
          "data": {
            "text/plain": [
              "           card_id    target\n",
              "0  C_ID_0ab67a22ab -1.997040\n",
              "1  C_ID_130fd0cbdd -0.280632\n",
              "2  C_ID_b709037bc5 -0.431093\n",
              "3  C_ID_d27d835a9f -0.431093\n",
              "4  C_ID_2b5e3df5c2 -0.250497"
            ],
            "text/html": [
              "\n",
              "  <div id=\"df-860ca4f0-0a15-4150-9665-1181dedd1cd2\">\n",
              "    <div class=\"colab-df-container\">\n",
              "      <div>\n",
              "<style scoped>\n",
              "    .dataframe tbody tr th:only-of-type {\n",
              "        vertical-align: middle;\n",
              "    }\n",
              "\n",
              "    .dataframe tbody tr th {\n",
              "        vertical-align: top;\n",
              "    }\n",
              "\n",
              "    .dataframe thead th {\n",
              "        text-align: right;\n",
              "    }\n",
              "</style>\n",
              "<table border=\"1\" class=\"dataframe\">\n",
              "  <thead>\n",
              "    <tr style=\"text-align: right;\">\n",
              "      <th></th>\n",
              "      <th>card_id</th>\n",
              "      <th>target</th>\n",
              "    </tr>\n",
              "  </thead>\n",
              "  <tbody>\n",
              "    <tr>\n",
              "      <th>0</th>\n",
              "      <td>C_ID_0ab67a22ab</td>\n",
              "      <td>-1.997040</td>\n",
              "    </tr>\n",
              "    <tr>\n",
              "      <th>1</th>\n",
              "      <td>C_ID_130fd0cbdd</td>\n",
              "      <td>-0.280632</td>\n",
              "    </tr>\n",
              "    <tr>\n",
              "      <th>2</th>\n",
              "      <td>C_ID_b709037bc5</td>\n",
              "      <td>-0.431093</td>\n",
              "    </tr>\n",
              "    <tr>\n",
              "      <th>3</th>\n",
              "      <td>C_ID_d27d835a9f</td>\n",
              "      <td>-0.431093</td>\n",
              "    </tr>\n",
              "    <tr>\n",
              "      <th>4</th>\n",
              "      <td>C_ID_2b5e3df5c2</td>\n",
              "      <td>-0.250497</td>\n",
              "    </tr>\n",
              "  </tbody>\n",
              "</table>\n",
              "</div>\n",
              "      <button class=\"colab-df-convert\" onclick=\"convertToInteractive('df-860ca4f0-0a15-4150-9665-1181dedd1cd2')\"\n",
              "              title=\"Convert this dataframe to an interactive table.\"\n",
              "              style=\"display:none;\">\n",
              "        \n",
              "  <svg xmlns=\"http://www.w3.org/2000/svg\" height=\"24px\"viewBox=\"0 0 24 24\"\n",
              "       width=\"24px\">\n",
              "    <path d=\"M0 0h24v24H0V0z\" fill=\"none\"/>\n",
              "    <path d=\"M18.56 5.44l.94 2.06.94-2.06 2.06-.94-2.06-.94-.94-2.06-.94 2.06-2.06.94zm-11 1L8.5 8.5l.94-2.06 2.06-.94-2.06-.94L8.5 2.5l-.94 2.06-2.06.94zm10 10l.94 2.06.94-2.06 2.06-.94-2.06-.94-.94-2.06-.94 2.06-2.06.94z\"/><path d=\"M17.41 7.96l-1.37-1.37c-.4-.4-.92-.59-1.43-.59-.52 0-1.04.2-1.43.59L10.3 9.45l-7.72 7.72c-.78.78-.78 2.05 0 2.83L4 21.41c.39.39.9.59 1.41.59.51 0 1.02-.2 1.41-.59l7.78-7.78 2.81-2.81c.8-.78.8-2.07 0-2.86zM5.41 20L4 18.59l7.72-7.72 1.47 1.35L5.41 20z\"/>\n",
              "  </svg>\n",
              "      </button>\n",
              "      \n",
              "  <style>\n",
              "    .colab-df-container {\n",
              "      display:flex;\n",
              "      flex-wrap:wrap;\n",
              "      gap: 12px;\n",
              "    }\n",
              "\n",
              "    .colab-df-convert {\n",
              "      background-color: #E8F0FE;\n",
              "      border: none;\n",
              "      border-radius: 50%;\n",
              "      cursor: pointer;\n",
              "      display: none;\n",
              "      fill: #1967D2;\n",
              "      height: 32px;\n",
              "      padding: 0 0 0 0;\n",
              "      width: 32px;\n",
              "    }\n",
              "\n",
              "    .colab-df-convert:hover {\n",
              "      background-color: #E2EBFA;\n",
              "      box-shadow: 0px 1px 2px rgba(60, 64, 67, 0.3), 0px 1px 3px 1px rgba(60, 64, 67, 0.15);\n",
              "      fill: #174EA6;\n",
              "    }\n",
              "\n",
              "    [theme=dark] .colab-df-convert {\n",
              "      background-color: #3B4455;\n",
              "      fill: #D2E3FC;\n",
              "    }\n",
              "\n",
              "    [theme=dark] .colab-df-convert:hover {\n",
              "      background-color: #434B5C;\n",
              "      box-shadow: 0px 1px 3px 1px rgba(0, 0, 0, 0.15);\n",
              "      filter: drop-shadow(0px 1px 2px rgba(0, 0, 0, 0.3));\n",
              "      fill: #FFFFFF;\n",
              "    }\n",
              "  </style>\n",
              "\n",
              "      <script>\n",
              "        const buttonEl =\n",
              "          document.querySelector('#df-860ca4f0-0a15-4150-9665-1181dedd1cd2 button.colab-df-convert');\n",
              "        buttonEl.style.display =\n",
              "          google.colab.kernel.accessAllowed ? 'block' : 'none';\n",
              "\n",
              "        async function convertToInteractive(key) {\n",
              "          const element = document.querySelector('#df-860ca4f0-0a15-4150-9665-1181dedd1cd2');\n",
              "          const dataTable =\n",
              "            await google.colab.kernel.invokeFunction('convertToInteractive',\n",
              "                                                     [key], {});\n",
              "          if (!dataTable) return;\n",
              "\n",
              "          const docLinkHtml = 'Like what you see? Visit the ' +\n",
              "            '<a target=\"_blank\" href=https://colab.research.google.com/notebooks/data_table.ipynb>data table notebook</a>'\n",
              "            + ' to learn more about interactive tables.';\n",
              "          element.innerHTML = '';\n",
              "          dataTable['output_type'] = 'display_data';\n",
              "          await google.colab.output.renderOutput(dataTable, element);\n",
              "          const docLink = document.createElement('div');\n",
              "          docLink.innerHTML = docLinkHtml;\n",
              "          element.appendChild(docLink);\n",
              "        }\n",
              "      </script>\n",
              "    </div>\n",
              "  </div>\n",
              "  "
            ]
          },
          "metadata": {},
          "execution_count": 183
        }
      ]
    },
    {
      "cell_type": "code",
      "source": [
        "submit.shape"
      ],
      "metadata": {
        "colab": {
          "base_uri": "https://localhost:8080/"
        },
        "id": "XaBS-ytskaYC",
        "outputId": "747459a6-b143-4f84-987e-abca87f34487"
      },
      "execution_count": 184,
      "outputs": [
        {
          "output_type": "execute_result",
          "data": {
            "text/plain": [
              "(123623, 2)"
            ]
          },
          "metadata": {},
          "execution_count": 184
        }
      ]
    },
    {
      "cell_type": "code",
      "source": [
        "test_dataset_merged.to_csv(\"test_dataset.csv\")"
      ],
      "metadata": {
        "id": "Glwt5aaOkc4D"
      },
      "execution_count": 187,
      "outputs": []
    },
    {
      "cell_type": "code",
      "source": [
        ""
      ],
      "metadata": {
        "id": "RkiZiIZTkgf7"
      },
      "execution_count": null,
      "outputs": []
    }
  ],
  "metadata": {
    "colab": {
      "name": "elo_feature_engg.ipynb",
      "provenance": []
    },
    "kernelspec": {
      "display_name": "Python 3",
      "name": "python3"
    },
    "language_info": {
      "name": "python"
    }
  },
  "nbformat": 4,
  "nbformat_minor": 0
}